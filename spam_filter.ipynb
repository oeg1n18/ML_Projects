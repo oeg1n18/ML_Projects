{
 "cells": [
  {
   "cell_type": "code",
   "execution_count": 1,
   "metadata": {},
   "outputs": [
    {
     "name": "stdout",
     "output_type": "stream",
     "text": [
      "3.8.3\n"
     ]
    }
   ],
   "source": [
    "from platform import python_version\n",
    "print(python_version())"
   ]
  },
  {
   "cell_type": "code",
   "execution_count": 202,
   "metadata": {},
   "outputs": [],
   "source": [
    "import numpy as np \n",
    "import pandas as pd \n",
    "import email \n",
    "import email.policy\n",
    "import os \n",
    "import tarfile as tar\n",
    "\n"
   ]
  },
  {
   "cell_type": "code",
   "execution_count": 203,
   "metadata": {},
   "outputs": [],
   "source": [
    "tar_path = \"Datasets/spam_ham_emails/\"\n",
    "\n",
    "ham_dir = \"Datasets/spam_ham_emails/20021010_easy_ham.tar.bz2\"\n",
    "spam_dir = \"Datasets/spam_ham_emails/20021010_spam.tar.bz2\"\n",
    "email_ext = \"Datasets/spam_ham_extracted\"\n"
   ]
  },
  {
   "cell_type": "code",
   "execution_count": 204,
   "metadata": {},
   "outputs": [],
   "source": [
    "def extract_tarbz2(path, tar_directory):\n",
    "    files = tar.open(path, \"r:bz2\")\n",
    "    files.extractall(path=tar_directory)\n",
    "    files.close()\n",
    "  "
   ]
  },
  {
   "cell_type": "code",
   "execution_count": 205,
   "metadata": {},
   "outputs": [],
   "source": [
    "def extracted_emails(): \n",
    "    ham_emails_lst = [name for name in sorted(os.listdir(os.path.join(email_ext, \"easy_ham\"))) if len(name)>20]\n",
    "    spam_emails_lst = [name for name in sorted(os.listdir(os.path.join(email_ext, \"spam\"))) if len(name)>20]\n",
    "    return ham_emails_lst, spam_emails_lst"
   ]
  },
  {
   "cell_type": "code",
   "execution_count": 206,
   "metadata": {},
   "outputs": [],
   "source": [
    "extract_tarbz2(ham_dir, email_ext)\n",
    "extract_tarbz2(spam_dir, email_ext)"
   ]
  },
  {
   "cell_type": "code",
   "execution_count": 207,
   "metadata": {},
   "outputs": [
    {
     "name": "stdout",
     "output_type": "stream",
     "text": [
      "Ham email size:  2551\n",
      "Spam email size:  501\n"
     ]
    }
   ],
   "source": [
    "ham_files, spam_files = extracted_emails()  # returns list of email file names\n",
    "print('Ham email size: ', len(ham_files))\n",
    "print('Spam email size: ', len(spam_files))"
   ]
  },
  {
   "cell_type": "code",
   "execution_count": 208,
   "metadata": {},
   "outputs": [],
   "source": [
    "\n",
    "def load_email(is_spam, filename):\n",
    "    if is_spam:\n",
    "        folder = \"spam\"\n",
    "    else: \n",
    "        folder = \"easy_ham\"\n",
    "    \n",
    "    with open(os.path.join(email_ext, folder, filename), 'rb') as f:\n",
    "        return email.parser.BytesParser(policy=email.policy.default).parse(f)\n",
    "    "
   ]
  },
  {
   "cell_type": "code",
   "execution_count": 209,
   "metadata": {},
   "outputs": [
    {
     "data": {
      "text/plain": [
       "['0000.7b1b73cf36cf9dbc3d64e3f2ee2b91f1',\n",
       " '0001.bfc8d64d12b325ff385cca8d07b84288',\n",
       " '0002.24b47bb3ce90708ae29d0aec1da08610',\n",
       " '0003.4b3d943b8df71af248d12f8b2e7a224a',\n",
       " '0004.1874ab60c71f0b31b580f313a3f6e777',\n",
       " '0005.1f42bb885de0ef7fc5cd09d34dc2ba54',\n",
       " '0006.7a32642f8c22bbeb85d6c3b5f3890a2c',\n",
       " '0007.859c901719011d56f8b652ea071c1f8b',\n",
       " '0008.9562918b57e044abfbce260cc875acde',\n",
       " '0009.c05e264fbf18783099b53dbc9a9aacda',\n",
       " '0010.7f5fb525755c45eb78efc18d7c9ea5aa',\n",
       " '0011.2a1247254a535bac29c476b86c708901',\n",
       " '0012.7bc8e619ad0264979edce15083e70a02',\n",
       " '0013.9034ac0917f6fdb82c5ee6a7509029ed',\n",
       " '0014.ed99ffe0f452b91be11684cbfe8d349c',\n",
       " '0015.1b871d654560011a0aaa29bb4e9054f7',\n",
       " '0016.f9c349935955e1ccc7626270da898445',\n",
       " '0017.49ab70c7a4042cb1c695a0e59a6ede54',\n",
       " '0018.259154a52bc55dcae491cfded60a5cd2',\n",
       " '0019.939e70d8367f315193e4bc5be80dc262',\n",
       " '0020.4120dc06a0124a8688e96f8cff029113',\n",
       " '0021.15185fdb3fb02dffd041fa8f70d19791',\n",
       " '0022.4b5cf3c16feb88dd6932a8c46a41946c',\n",
       " '0023.4299adbda55862876440ecbc2fce6a67',\n",
       " '0024.fc4bd0b22cd7907e99f8a35b74655b15',\n",
       " '0025.97302502dc8e20ab7e7eb05f926e1bab',\n",
       " '0026.4f10fab6e6776379c17ee9c9ac7da4a8',\n",
       " '0027.028e0b165e8ea6f479e09a8f8cc7e50d',\n",
       " '0028.83a43dd97923463030349506a56226c1',\n",
       " '0029.2b149de91fef9f40880d27ce8c27aeb2',\n",
       " '0030.5d3444135a8ad95fc4ebf9a884076621',\n",
       " '0031.e68d1195ad2c1900a44de8631f8acd91',\n",
       " '0032.081c3615bc9b91d09b6cbb9239ba8c99',\n",
       " '0033.489e59d3c7060b70e166ef7317c86807',\n",
       " '0034.d5a5e526aa6b249ed6ca184548a44b1a',\n",
       " '0035.8e582263070076dfe6000411d9b13ce6',\n",
       " '0036.8e582263070076dfe6000411d9b13ce6',\n",
       " '0037.7ce3307b56dd90453027a6630179282e',\n",
       " '0038.7ce3307b56dd90453027a6630179282e',\n",
       " '0039.256602e2cb5a5b373bdd1fb631d9f452',\n",
       " '0040.256602e2cb5a5b373bdd1fb631d9f452',\n",
       " '0041.21cc985cc36d931916863aed24de8c27',\n",
       " '0042.21cc985cc36d931916863aed24de8c27',\n",
       " '0043.8d93819b95ff90bf2e2b141c2909bfc9',\n",
       " '0044.889d785885f092c269741b11f2124dce',\n",
       " '0045.75baa6797e2a65053a8373d5aa96f594',\n",
       " '0046.0b4fff9cd7cffe94cc4f04bbf3928c28',\n",
       " '0047.376bd7728ee94b32bc23429d9c51bae5',\n",
       " '0048.462325dc69a8dc74462723ec0d20a5cd',\n",
       " '0049.625bab436c7fc6299cfceeaa24e198ae',\n",
       " '0050.b8200e218e5a5a433f897e9495253a30',\n",
       " '0051.374f4d4300a5d39544b2f052e7a9429d',\n",
       " '0052.f12ac251d1fbdc679daadc6b97229e63',\n",
       " '0053.92bcea73123d0ea0fb26c285d5e045a9',\n",
       " '0054.839a9c0a07f13718570da944986a898a',\n",
       " '0055.8b2154bb7ec1f411495f37f519f1835d',\n",
       " '0056.0f99dde58a7c4e18944397ab47e0412c',\n",
       " '0057.92fdae44bdd1d9e5461eef3c852dfd23',\n",
       " '0058.abb13c5db31d26a58607aac809573ed4',\n",
       " '0059.a633106e3ce62fa7b46c2e4dc8c666d3',\n",
       " '0060.140f80780520fa19b360ddcb05838a67',\n",
       " '0061.c148ebba16540e48c7aae2e3f733a8a3',\n",
       " '0062.41f708df91642411f0fd8f91e28d3521',\n",
       " '0063.3bec5361a5edfdbcc371241b3d74e3bf',\n",
       " '0064.d700742b9815d990b2e5a7921e8d854c',\n",
       " '0065.18d2edcf9aa0e940651b5fdd218ac019',\n",
       " '0066.93ccd9599561c5277989f03b575d6bff',\n",
       " '0067.02c6e51107f39ee60453ff8e7372101d',\n",
       " '0068.1626952077798d4f2d5eb30e48bc49b3',\n",
       " '0069.a0b6cfde0e477af7f406ee756ba53826',\n",
       " '0070.977e083b104717202fe944ae6065624e',\n",
       " '0071.4c3840b98dc207623d0c0e66a6d40af2',\n",
       " '0072.f97a14d667569ebbc0502bb2c7beec27',\n",
       " '0073.d57c16429fa19fbebfb9aec34f391aa2',\n",
       " '0074.9948514a1f3aac3f27ba2c20db7b0441',\n",
       " '0075.4568998f41d50bccf8f7c3d4aeb7a425',\n",
       " '0076.770f0e7b8378a47a945043434f6f43df',\n",
       " '0077.a5c41f056918bde0d5f9be424714766e',\n",
       " '0078.8ff64b5c77f9c9618bd7b119ae14c8b2',\n",
       " '0079.4a5fbaf2e531918c44642b3cfae40089',\n",
       " '0080.77af9ca7f967f055062aade45001129e',\n",
       " '0081.3309521659461b743e1bfc3dc688a5f1',\n",
       " '0082.705cdc08c2ee77821391a847d9c1a4e3',\n",
       " '0083.a042c7512d5db5f9fc1857fdc6bbdcc3',\n",
       " '0084.df5ac85de3405b6d07c9fa7ba3eecf6a',\n",
       " '0085.6e7b1a983ab05445a7eaffcbb6811d3f',\n",
       " '0086.4b3a02be9a2561ada188d95b4601c01e',\n",
       " '0087.1cbd88a0c1564cb5d6c9b12c8c4175d8',\n",
       " '0088.f421d8c380fb0c48483f026d243df9d9',\n",
       " '0089.51c746428bb5e2793a1c04ce1e0c72c1',\n",
       " '0090.9a7e76d58065e29e709161dbe569fe54',\n",
       " '0091.113ec7122d4046a2754bcf70b9fb5299',\n",
       " '0092.bf7453c6b7917ca30074a3030d84e36d',\n",
       " '0093.2bb8a2a7e4d2841a14f27f32076dd77e',\n",
       " '0094.3ba780eac7dce1c2b063cd1fc12738be',\n",
       " '0095.e1db2d3556c2863ef7355faf49160219',\n",
       " '0096.b2cb600e893f7a663ea5f9bff3a6276e',\n",
       " '0097.dce08392ba6bc552d13394fa73974b62',\n",
       " '0098.01d2958ccb7c2e4c02d0920593962436',\n",
       " '0099.c4ff6dba0a5177d3c7d8ef54c8920496',\n",
       " '0100.c60d1c697136b07c947fa180ba3e0441',\n",
       " '0101.2dfd7ee79ae439b8d9c38e783a137efa',\n",
       " '0102.2e3969075728dde7a328e05d19b35976',\n",
       " '0103.8c39bfed2079f865e9dfb75f4416a468',\n",
       " '0104.886f4a22362f4d3528c3e675878f17f7',\n",
       " '0105.9790e1c57fcbf7885b7cd1719fb4681b',\n",
       " '0106.fa6df8609cebb6f0f37aec3f70aa5b9a',\n",
       " '0107.f1d4194b57840ea6587b9a73ed88e075',\n",
       " '0108.4506c2ef846b80b9a7beb90315b22701',\n",
       " '0109.601a9cd8272f22236b27e95dbe2fa22d',\n",
       " '0110.20934dc65c9a88fc9c6afda9952ce2c5',\n",
       " '0111.a163d41592b3a52747d7521341a961af',\n",
       " '0112.ec411d26d1f4decc16af7ef73e69a227',\n",
       " '0113.ff113297f0ed07536d288c7b2193a8ec',\n",
       " '0114.c104ada3a249e1e1846c0cd156a303e9',\n",
       " '0115.d7c257361675ee5d45baa552205fb472',\n",
       " '0116.8e13644b995f98dbab198b71e26f67ec',\n",
       " '0117.33011fddf61efe5f453a14468ff7e629',\n",
       " '0118.4be8b50c2a818c62b62e70c4b5456113',\n",
       " '0119.07aedc59172c0c25ef617188ada9b80f',\n",
       " '0120.4312b48b82c3d018d2d4ccf5b8e9c167',\n",
       " '0121.772c3ccd1b6c1a2e0e2ec0356082c77b',\n",
       " '0122.21b041c1ad2be417102d7f5d3f0b7045',\n",
       " '0123.68e87f8b736959b1ab5c4b5f2ce7484a',\n",
       " '0124.37afd066a74d18b7f14bea0b1fb43d4d',\n",
       " '0125.44381546181fc6c5d7ea59e917f232c5',\n",
       " '0126.713b324e028cc69213e67ad3d7319f5d',\n",
       " '0127.2923761a91d13d3522d8bd077eedc7b7',\n",
       " '0128.4da9b2cfacbe9bfd128aacbb526d68d4',\n",
       " '0129.78a705ff6b3bde3395d067459e6e46e2',\n",
       " '0130.e258624171c813fc6057728c0ff0c059',\n",
       " '0131.0b7281078874ca88f95d6fdf5d905d50',\n",
       " '0132.7ac2141ed9a163f934ac65b3f59a2a03',\n",
       " '0133.95454d70cc62190c0e167d4c3cb591af',\n",
       " '0134.83a63d7a1589ba4cd6aefe20c8e6385f',\n",
       " '0135.73d44c9405f00110ae76a3addcb4eed6',\n",
       " '0136.7e7d6adf293fa0a3dc56b3f796cf00d1',\n",
       " '0137.42d5881a50744e24d9280701bb534cfb',\n",
       " '0138.eab076de94bd9f1d19908f682e58031f',\n",
       " '0139.40f371501f8a2a3fb4ff62143c0671b9',\n",
       " '0140.a2bb669eaf743ed123fca884a40cfbd4',\n",
       " '0141.516a4fe92f63469bd4a21d46dd6bb3be',\n",
       " '0142.1fd05cffaba260b9ecd3e75b6dddaf73',\n",
       " '0143.260a940290dcb61f9327b224a368d4af',\n",
       " '0144.58d3de25279e1938f24502d70dfa9754',\n",
       " '0145.ec89d85ec20f9aeda6fe37c0b6e8bbed',\n",
       " '0146.6656452972931e859e640f6ac57d2962',\n",
       " '0147.65cf30538f09402e4d1bd4aa91d9532a',\n",
       " '0148.7641581f551a1bf533b995087a8a91db',\n",
       " '0149.3300ef4537e1f6accd4489125bef5b0d',\n",
       " '0150.30c44c205041fd95f00ef524ea54e356',\n",
       " '0151.6f8f0ec4d897a5285d662ef4ec31d924',\n",
       " '0152.c0ea23686b9ad63dfba6040c1539da71',\n",
       " '0153.eddc658b08a04641a2494ba6b6eb0a3c',\n",
       " '0154.e39fc51ffdb9c2ecd480ce972078aeaa',\n",
       " '0155.829bab9379cfe32fe4b5af15ca99361b',\n",
       " '0156.279e5f92cf12922fbbf0cbda112b7fcb',\n",
       " '0157.3f95804da86ee79dbb076c47ed29984c',\n",
       " '0158.ff5dce5446d2ec91f0caffeffdd48852',\n",
       " '0159.8a5c778f65ecc30e14507369b9eb8292',\n",
       " '0160.b6b241d37fa9d5f772afca9ef30034c3',\n",
       " '0161.00e60d1a3478f1ae99ff49fbd4b30605',\n",
       " '0162.261bb4a36b195f96fcc7da4038b898a3',\n",
       " '0163.e4abb3f86aa9fd5bfa85886055fd923d',\n",
       " '0164.c8532626eaab6655e81f4d96b78cc659',\n",
       " '0165.6eedc001155da3cbd75a60eba2b19448',\n",
       " '0166.a2e4d6ec3078b619ca38927ca69fc94d',\n",
       " '0167.1665f2336b63debb3463fcf4d37e8485',\n",
       " '0168.70400165faa695abca4a96241d393f34',\n",
       " '0169.bc6e1356af0602fb96dd3f721fb17c48',\n",
       " '0170.fe4f77fa9456b48dffa9288074b2bb2a',\n",
       " '0171.495412eb56506d9668b9dacf46860978',\n",
       " '0172.e524e85cab354337018e1d0d2fc21ffd',\n",
       " '0173.f7902a7780f163e3896861983cd700c6',\n",
       " '0174.3874b6ff3c86a5ebefb558138a6bfb28',\n",
       " '0175.bf85f34d953215bca7d0004aca087812',\n",
       " '0176.70022adaab1a9dfe64ae7588ffa5add9',\n",
       " '0177.d62ac309d8030ef816f7831c3d5d3f7d',\n",
       " '0178.bf2ab7492e5080b07d7397b0662821a7',\n",
       " '0179.3a4c735c7c1e494f4e7a7b9465043280',\n",
       " '0180.afdbcd7acb65828c217eea90ff92c3b0',\n",
       " '0181.e3259c0ef889b5c76054abe2fafddeda',\n",
       " '0182.0fe8b40b189a7bc1ec68b3df5125c602',\n",
       " '0183.4aaadeb40e3362e71e3e4aba15624e3a',\n",
       " '0184.a2109736d2f15cde3747a6f335c6f24c',\n",
       " '0185.9f02f77f7f5a2724c109f598b2245675',\n",
       " '0186.e739e1c9fdc0702762d3583b26b401eb',\n",
       " '0187.e2178f6d01a70dfbdf9c84c4dcaf58dc',\n",
       " '0188.6590e73ef71e79c5b6adedbacf91ac8c',\n",
       " '0189.3d89383221aa3fb155a099838ce9c40a',\n",
       " '0190.c861662876d77491e0dc0e95fb3767cd',\n",
       " '0191.cd23170803a4680d6dbd798a4cd1e5dd',\n",
       " '0192.2d3e74aaf18c1c4193067f025e757507',\n",
       " '0193.4ceae11e1dae2059c9a526eebda8b259',\n",
       " '0194.dd4dd86bdd8e1113889af9afaf299d6c',\n",
       " '0195.8b276e08dd05b0131faa8fb24764f205',\n",
       " '0196.16da0dc3452b7407d4f89a0b2efcff0c',\n",
       " '0197.6968d98720065059247cefe4e5bcd192',\n",
       " '0198.43bac6df7ea16e4c4b0026779341f14b',\n",
       " '0199.955edee89f34960c033c4d1072841356',\n",
       " '0200.a56926c058fa84b0ea031b5774e5dcfa',\n",
       " '0201.9da0b5702a864a8ffd06cfb4c724f9c8',\n",
       " '0202.f1c9a17fe805c50677c104743e4f8be2',\n",
       " '0203.beb1b157fc74672074061434cc7bad3c',\n",
       " '0204.33e3cd4e0ad791304e554bb259bda53e',\n",
       " '0205.d3c294d833fd7c79edd96dac71039821',\n",
       " '0206.806263422d55d38a151fe3b89d56192f',\n",
       " '0207.3adcb1a14977a49cac8f6e10f64ac6f7',\n",
       " '0208.a2968a374034368d849b6ed12bdedd37',\n",
       " '0209.59817ef0dc8d05d4b49bd5914fa88afa',\n",
       " '0210.285d263b1a18e67c68ec9fe005253dd0',\n",
       " '0211.195957199f6e9f694f9811ad83eda5c4',\n",
       " '0212.9a9f009a6d601e2e34c1b95353983352',\n",
       " '0213.5f17fdf863726d4704840f86f698d10b',\n",
       " '0214.b5ba0ff48cee07a36c6f312de7f77207',\n",
       " '0215.57c4f4d8e2f582088f8aca38239059f7',\n",
       " '0216.feb2a8df9887bc2d84e80c9d2a8faf56',\n",
       " '0217.2a937e0b9912e1e40dbf17bad6026372',\n",
       " '0218.e3fc04cbcfdf224a5fa652779c01029c',\n",
       " '0219.0f66069db1b4e25ba851233ce4a107c4',\n",
       " '0220.15583875f5ef9e2cf6450ebc821f0dff',\n",
       " '0221.ee1d208001fd30265827fb309441d662',\n",
       " '0222.6ad799703d958681d6e427762f86f179',\n",
       " '0223.8ab642208d33d7f9ac50bc2e42c02732',\n",
       " '0224.486269968d3ad880a016b600dc366393',\n",
       " '0225.7082ef8585280a42940bf98f9be50e55',\n",
       " '0226.409b6577c79d85773d50cb37fde4ba79',\n",
       " '0227.4266b9e8c02a2c7b13d4d8661a76f75a',\n",
       " '0228.23fc5aadfceb81d121d77dfe37f6929a',\n",
       " '0229.2c64df059013c03812139543389a836b',\n",
       " '0230.035bbcbe1235cb6fdd0a5d6d626dc5c4',\n",
       " '0231.30ae582570716a95e79c87a2de31cb30',\n",
       " '0232.0edc8786183135557c0f2da5a4460508',\n",
       " '0233.e9834d55f8185a84ce8a047b2eba2139',\n",
       " '0234.1594b3a348279e71c8b769db9aa96b5b',\n",
       " '0235.77e9a7e398ce81359c08e64bf20e9825',\n",
       " '0236.ca8e7524e271aec0324e707cb7d420a1',\n",
       " '0237.4716d6d5a4e89997c6ffc2d56951d57a',\n",
       " '0238.7d0de37650a0c0e2d99e52eef4042602',\n",
       " '0239.43b3279a300a122610f91725bb92a538',\n",
       " '0240.96467ad3d42ebd44b042599f5aa9c9d9',\n",
       " '0241.abb2882a304357a47681f887244c2f76',\n",
       " '0242.a8ba01c4d998005e3ad3495293582bb6',\n",
       " '0243.458c8e32e405b69f561fd77bc16f440c',\n",
       " '0244.7e5d917c8a76d52cc694c5cf8ab8497d',\n",
       " '0245.39c15852204971c72e8d89f9f3f9bb38',\n",
       " '0246.3b997087302d48ff57ab5afb3d400d5b',\n",
       " '0247.aee6d7984b3dab9a6b0eed524e7a3686',\n",
       " '0248.b639977f45a5b1e39b5aa3c4abc2edf6',\n",
       " '0249.c429ab5c1413c4386bf64b228a68e768',\n",
       " '0250.80b7bd444753246734e015af7b6d2d65',\n",
       " '0251.d542591a25f8fe8c4accd692113a0554',\n",
       " '0252.c90694cf3f09ef0111b761eefd95cc3f',\n",
       " '0253.f715f442da45114754198a160195b883',\n",
       " '0254.02daa37a4255a78f2f224f3cd2f8fa99',\n",
       " '0255.42a6feb4435a0a68929075c0926f085d',\n",
       " '0256.ad88c1a165392a509a8b0b8df6d56cbd',\n",
       " '0257.554324ab4a8f7093f5222303a4c59a8b',\n",
       " '0258.1d61b380a23168881253ed86bb4f79ac',\n",
       " '0259.7ebf3c0fd752bce5b8056e9454d2c76f',\n",
       " '0260.737eefb83e7eedbd531117c273c56241',\n",
       " '0261.93d7dab5dc0c469b58aa9b0e5e25bb25',\n",
       " '0262.c996a3709ca616fce1bfc6d50cf5bda3',\n",
       " '0263.c685b2f51853b0986bd992d7486aabfa',\n",
       " '0264.2281c4eb36accd65d9c2cab379de2789',\n",
       " '0265.1120a7d868b23e83b91ad00ec8b79e08',\n",
       " '0266.99e95dc7251843f7a2015cb602775694',\n",
       " '0267.0bf79a17115bffdf00bb0997f773dfc5',\n",
       " '0268.1aee52bc302bf1d5c2030229b5dbd63e',\n",
       " '0269.5b147e2f10b02f4a478036a0b495323e',\n",
       " '0270.d50e186af7a00114ad967b8f77b70338',\n",
       " '0271.24302cf2e759401d1f9975fe4fc1def9',\n",
       " '0272.97ecf97bd5f1563ac88d9eb4c8a51062',\n",
       " '0273.51c482172b47ce926021aa7cc2552549',\n",
       " '0274.85756abb8d0bcfe267e464a2f33ce686',\n",
       " '0275.0404a07cd99e27d569958716f392082b',\n",
       " '0276.7e2fed586e292a7ad8cde7cb095a2601',\n",
       " '0277.4b6ea2e210cacce0e46064da22a05549',\n",
       " '0278.229f1cdd03eb4e6ff86e9fd29551f577',\n",
       " '0279.4ef122899a70a2225ffb9b5c54fde1fc',\n",
       " '0280.2507969221ea95a019506366f6c361d8',\n",
       " '0281.7e8c08897b61b9b008238efec9ca8d15',\n",
       " '0282.b9f0c6ac87b24a9abac5f2a564c0a6c6',\n",
       " '0283.04856c4a6fa4393e976c5aaa2c0533d5',\n",
       " '0284.cfe6e278b87c3e9b6abf6cf6a16bf708',\n",
       " '0285.b44ae825681c0f28db2e742ab790b191',\n",
       " '0286.68b939e20e5b9fd6839471f6e9bc07ed',\n",
       " '0287.37dd6b1a54993de94495643ead4fd2cf',\n",
       " '0288.c50b1fb60cac2cca358d7543602623ee',\n",
       " '0289.93b23ed2f96babb55c0f2a4e0c0684f7',\n",
       " '0290.13035c75be0d5b447a10e2263f8c1361',\n",
       " '0291.65fa7c79bc3a75c50655cb044011c50a',\n",
       " '0292.3e12964912377bd9b52d223e37812e56',\n",
       " '0293.ef3561f8707f7fcd1de291d4c2ae9609',\n",
       " '0294.8dde5983e6dcd314a8aa3f89e01c1ec2',\n",
       " '0295.717c906cda92746007b9098e16c727b2',\n",
       " '0296.c9b10ba5ae2e480e37a6e2e1455671eb',\n",
       " '0297.9e6095368b4e8258e967798cea8fe40e',\n",
       " '0298.804507b6d4d03a86e53c63249fe70772',\n",
       " '0299.9d0b292172cb787eb2ed9e8855222edd',\n",
       " '0300.fa3ece84a195f3d36a70f2550824071f',\n",
       " '0301.ad155a30cca1f9d16e75e8934030edae',\n",
       " '0302.10798aa48d25b3f61778f379964a57e5',\n",
       " '0303.c18c1a0222b07f2b2250fbda5a961b7e',\n",
       " '0304.88cf1d3ce0e138fd9ffb801e675f69b3',\n",
       " '0305.2252f3b41c7fd3a43ac132a6b3391a3b',\n",
       " '0306.521d917ac6509c499c406647fd0d336b',\n",
       " '0307.2e4dc0cdb1e3b49f0986c19c1f324224',\n",
       " '0308.1245e8fa9e6092687b535e36b367d8fb',\n",
       " '0309.2a74113b0330ea76cecd28571fc6f7fe',\n",
       " '0310.23036f6ae05720b052b73117b6ecb957',\n",
       " '0311.fad7da9629598eaffeaf6896bdf32d9c',\n",
       " '0312.a0e7f2633bd0ceaddf16fba58be54778',\n",
       " '0313.5126f820bf11ba460e2c1611cee632c1',\n",
       " '0314.5b03e0718373f3319eadaec592308aba',\n",
       " '0315.26ca39910895a935e2b8bca93a44ebfe',\n",
       " '0316.018282fecc304f005e952d7c5c181dad',\n",
       " '0317.0bea188e5bd639ae421f07b3ad68c5e0',\n",
       " '0318.da63a8488410932cf780238ec0ba59eb',\n",
       " '0319.e4a20802d12937998f3b3bf805362a3f',\n",
       " '0320.e34c9c6f982b8ce353c10aa362d6da17',\n",
       " '0321.89f41bbace08275ee298ed419e22bc9a',\n",
       " '0322.77dd826a00ebd4b54a6036394d41da55',\n",
       " '0323.badf0273f656afd0dfebaa63af1c81f6',\n",
       " '0324.269d2c1815931004c7be2be4d26e8b66',\n",
       " '0325.78b93ee9713b6594d03c86993286e6c5',\n",
       " '0326.80f15e07265a22b78068bab5b56b01c7',\n",
       " '0327.5df76bb4359800b5408821285677b5cf',\n",
       " '0328.cccf842e57907e25d1584cad03f8d2cb',\n",
       " '0329.5c22249fa35fff050675e7df4433b89f',\n",
       " '0330.a4df526233e524104c3b3554dd8ab5a8',\n",
       " '0331.1de50a02d91a4e0c6daf5e2cc28a60c6',\n",
       " '0332.b82bddb316d2e12418d6ea8791ce5896',\n",
       " '0333.492c1809f9755e305774bed2aaa3aa9b',\n",
       " '0334.3e4946e69031f3860ac6de3d3f27aadd',\n",
       " '0335.9822e1787fca0741a8501bdef7e8bc79',\n",
       " '0336.b864dd710e659f0ef5826dc4d80714f8',\n",
       " '0337.4e2d92485e5b880d494821c1fcee790a',\n",
       " '0338.033c0109da096486c7d797cccd2c3198',\n",
       " '0339.873b4fc31bb79ebea51fdea5cde75b3c',\n",
       " '0340.8e191c37e2d30a639013203aacf60086',\n",
       " '0341.7c13df68bb4feae35d9ea86001a3ecad',\n",
       " '0342.babb5045c49b585808041391599bc05d',\n",
       " '0343.0630afbe4ee1ffd0db0ffb81c6de98de',\n",
       " '0344.8bbe5c7c8269a039761968a1b10a936a',\n",
       " '0345.b8ba4d6a115368132d1d580c4c9e0307',\n",
       " '0346.8c8e3c5107bf6bf30b940f79d598c1b9',\n",
       " '0347.e74f831074ea17d0721bd06a5fa7857c',\n",
       " '0348.e0b89978fa806cf3e7fd3ba0869b3c65',\n",
       " '0349.d87df6b95f0ee4e36364e9d71223485a',\n",
       " '0350.0f2ef01282cb99a4eeb9a19923597b3f',\n",
       " '0351.517e785af43ffb3f9e66ab25b3ab162c',\n",
       " '0352.f7adb4aa267e50a8db1e4bcacfe863f3',\n",
       " '0353.27effabff54bfbed52d2c93a1bf0e48a',\n",
       " '0354.457f41d0d6af931597b5137a061cde62',\n",
       " '0355.94ebf637e4bd3db8a81c8ce68ecf681d',\n",
       " '0356.86a795300367f707a8b648e0c50253ad',\n",
       " '0357.6ca4760de43f3d29316cf6bb0cab6bf5',\n",
       " '0358.8a6a162daac1368fcfe83a5db1084ee1',\n",
       " '0359.2794a4ec8f226ea59a009e972d012f64',\n",
       " '0360.5f5fc66c831d845705efac502121308a',\n",
       " '0361.eb828b44c428fcecd4e95e8799a9ee11',\n",
       " '0362.d605ea00a259c1245d6e21ecf38264cf',\n",
       " '0363.bafc8f5920a1e35acb4b06d6f6daa74c',\n",
       " '0364.8e5f3385c2deb2c0c32794b403851ec4',\n",
       " '0365.212dff15cc46d4650d9a270bf595b42f',\n",
       " '0366.539843bed9a06ae77966ccbc9dc2e103',\n",
       " '0367.c6d1767b20048ef840cf83f8fb2cff68',\n",
       " '0368.3a53888c2f7fbe52a7293f223375c245',\n",
       " '0369.2530542de47d461ccb925fcafc6f0ad5',\n",
       " '0370.6caa3885378bbaf0856bd9712629ab51',\n",
       " '0371.e4ca4edd7d69a9b54cac7f364f5f2079',\n",
       " '0372.216f90ef52558ed24402e192586a40e8',\n",
       " '0373.2171ee7f8e73e1092279077df2910ff6',\n",
       " '0374.ed17ed71f8d321cf8505672678c56e71',\n",
       " '0375.ad5939ae436ed745d5222893d5ffe191',\n",
       " '0376.d87b4313e6c43a986060d57a0b8515a6',\n",
       " '0377.31267c80e042b22be0436c044c13513a',\n",
       " '0378.36f7856d38f84ffea7f1fd98044f756e',\n",
       " '0379.5b1c7a295af5ccb0a58c5a41d5c5ad04',\n",
       " '0380.c4d530b5816543f4f1a23b8ce0d281f5',\n",
       " '0381.492ed1e5eed1b631560e2009be5b8c9a',\n",
       " '0382.8f4cd77d3b521fa679ed62a9dda23d9a',\n",
       " '0383.5b89d5a9c0152070a77e133734f7cd83',\n",
       " '0384.e25b766bea2f1efe35eccb7eb6f54e37',\n",
       " '0385.8db8e827e6fec2fae5f7e407fe0e0ca3',\n",
       " '0386.27345c618f7ca368d7a12b0dd09a9da3',\n",
       " '0387.c2b993b46377256bdcb2314c2553b6f0',\n",
       " '0388.23ff533336b63fb45d267b8cbe59b7b4',\n",
       " '0389.ed4ca8aceef91808c783909351c7bdb4',\n",
       " '0390.176f9525715411d7e2ce36e5bab4c770',\n",
       " '0391.a52ab775baefe8b277a285560cac7d78',\n",
       " '0392.9e194dfff92f7d9957171b04a8d4b957',\n",
       " '0393.d3a4d296a35c6a7f39429247c007eeae',\n",
       " '0394.9c882c72ddfd810b56776fdaa1c727a6',\n",
       " '0395.bb934e8b4c39d5eab38f828a26f760b4',\n",
       " '0396.8ea0610e30c94adefd9b3489df436ad9',\n",
       " '0397.c02eba1386b00d640c954e5117dd1aa0',\n",
       " '0398.93e6be09b12b93697185c881c739605d',\n",
       " '0399.b9eab4251d9263129290cf7fc2aa4c7a',\n",
       " '0400.a152ca3d2735f5dfe48601331471c591',\n",
       " '0401.450b38785db348f7d8c83c64304dd6e3',\n",
       " '0402.1290489e7e62ac9bb500677606540e5d',\n",
       " '0403.5aa6261d36d1362bcd181ed7738de7f7',\n",
       " '0404.a2c9ac35a89a129ce473c5d977409131',\n",
       " '0405.18a5c3d971e1def2c3b4a2df122f3583',\n",
       " '0406.4b29229820cc5e9675ad369a3a000f43',\n",
       " '0407.157349d43c03e008f2448e1f37c510aa',\n",
       " '0408.87f7a3c9c29aaf97b413126029aacc6a',\n",
       " '0409.09cb28cd8753bff06fc8a547c3ed8fe2',\n",
       " '0410.be908008e0e27722a177b289227f5fc1',\n",
       " '0411.e6e37cbb02ad33b4e0ba5fb6caf2bbcf',\n",
       " '0412.4e18b948471feca1fa1610ce7c1259a2',\n",
       " '0413.4c74110f6640067c2172a04543dea670',\n",
       " '0414.4b85e87c5b9235c72f189bf044057f15',\n",
       " '0415.e241b6184464107168656739bf96c6b9',\n",
       " '0416.112b010a30255d7d14ee9465d4fe804c',\n",
       " '0417.8e6ff04af5a268d0495259b3f6a24d58',\n",
       " '0418.89cb8cbdd1cd4424829658e11ec6a13e',\n",
       " '0419.a42a284750591b454968a76dfab38370',\n",
       " '0420.6112350c5fb3dcf5a67a4fafac80702e',\n",
       " '0421.a5e7e7b43acb5501368b8c61221477f1',\n",
       " '0422.cce79e048419b788816e8a2c28525afb',\n",
       " '0423.3b9b432fa25a7ac8c494db8d2e42cc73',\n",
       " '0424.b283405aeac6a8ff4c4a4e4e85310268',\n",
       " '0425.d7a3b1ae59479bc986057a03d057615d',\n",
       " '0426.2002be3b0195b54596a5e7fd7d7561d5',\n",
       " '0427.8136588f1befaccc01f0405513be6186',\n",
       " '0428.8fc153d0c9cbc406fbd9bdf1c4ed9b13',\n",
       " '0429.b1077599c85314135e6d82d654c98d55',\n",
       " '0430.17440122811305f78e499d2ed0a1fe46',\n",
       " '0431.cc38713737ea22e2e329205efd78840a',\n",
       " '0432.a2fa136962969f603b363e7509668b49',\n",
       " '0433.8977506bae8028f48290ea0fb2f54ddd',\n",
       " '0434.e86d28a69c9228080a3f0ecbde5ea5fa',\n",
       " '0435.2078783521379b81a45f1a5c48ca131f',\n",
       " '0436.97d3a7bc4377152052dd717581387f36',\n",
       " '0437.b2ad4f589c9ca2ef65432465a12915b4',\n",
       " '0438.77cb3de3ddbb68012f0dbe370c4e71dc',\n",
       " '0439.2c6d4d3e8b817c5315a1c61e4eeb7ee9',\n",
       " '0440.16a3caff5b5788f2ae378850041252d7',\n",
       " '0441.b820c1999715c2e5ded6418d2b17723c',\n",
       " '0442.03f023d080136fd537ff369de5dcae10',\n",
       " '0443.c5581d58a801553fee57b2bfe904ea93',\n",
       " '0444.f81c80c3f2d43ecd8b117213f3e60c53',\n",
       " '0445.2cd5092859b75fdccf3724ab2a4ccafe',\n",
       " '0446.d971f234fa00ed94e18f5ce8f5c0f852',\n",
       " '0447.badf14ca8ec589b0b2d25369573ffe84',\n",
       " '0448.809b59ce6292db666ef457e3cb08bb39',\n",
       " '0449.066d44ef3e1ff26103ea1b35b0a2e6d5',\n",
       " '0450.a828f09ee44e716e6931866e4743e32a',\n",
       " '0451.588b22df28f4036ff3895447afbcb7f3',\n",
       " '0452.63e7d2b55fd5301d2c5d2f48c9a783f6',\n",
       " '0453.622475ac240e9e2cdcdbb1a095cc8d28',\n",
       " '0454.943161603b1eb6da5187194b5a75186a',\n",
       " '0455.b7a7254a180821d6077a42f7153e12e5',\n",
       " '0456.578afb400f87833c03c4dc2be6fd85bd',\n",
       " '0457.fc29b47778cf7dae8206fb24985dd8dd',\n",
       " '0458.8c9d2363547ebaf997282910cf21e95c',\n",
       " '0459.5d8701dbedee666b885d456475f0301d',\n",
       " '0460.532703440c6f7df067d1ba5054da7f11',\n",
       " '0461.27302a2e94d8948f8a81a7d4c8566cf0',\n",
       " '0462.2cfe24a32d1b480eab70b099b4a8a919',\n",
       " '0463.47a4c19eea5230ff19a42e62a5f59484',\n",
       " '0464.c1345cc18f1944b61a219dcdfe54088a',\n",
       " '0465.5d27c24cf1797e87a346c02f9bc42587',\n",
       " '0466.11bc31540055c320b62e5886ef27c4b2',\n",
       " '0467.b59a3337d0979ba8d587bf4c166db8b1',\n",
       " '0468.8edb99340b9a96a81813be2d3362605d',\n",
       " '0469.c1d9ab5918d50dac4242ef53c4aaf678',\n",
       " '0470.b9e513715695ea1c79c1e5af0fb0eea9',\n",
       " '0471.f3cd3e181577b34e474bea8c480d1b44',\n",
       " '0472.40695f88feb07754e40b1008aeb47bd1',\n",
       " '0473.ab22ff7eb6975783dff18f279a1a8357',\n",
       " '0474.81ea7ec9e00168efe6bb824d08825ef3',\n",
       " '0475.f3c5fb57463eb715fa93e9ce483c49fe',\n",
       " '0476.0530ef1b33305fdf919489946570685b',\n",
       " '0477.c825fdd16a32d2d29f4f3613e412dfb3',\n",
       " '0478.16f274ffd3e884a574c9461012cadea6',\n",
       " '0479.558d7491db4238443bc549ec06021bae',\n",
       " '0480.fc9323682825f7d93ed78a82970ceaea',\n",
       " '0481.77b1644dfd682bf753d5894ad04f8020',\n",
       " '0482.d2338d94e40e6028a89c0a197ed7c470',\n",
       " '0483.488a059db4a731caae8143bf298d6ac4',\n",
       " '0484.cd802b94da9c80db5e4432bb661effd1',\n",
       " '0485.9021367278833179285091e5201f5854',\n",
       " '0486.348918a564335556b4fdd8b82f939918',\n",
       " '0487.b57549dc531f50c1ff1e3356bc38b390',\n",
       " '0488.6d41f6d7222978a3ee2b6cfbfce55a02',\n",
       " '0489.013cd8eb1a0a545e5c6ed066bad0cad7',\n",
       " '0490.5fc0d6e9adcaf702bb7dd303ff2d59e2',\n",
       " '0491.f47154f78397c57b14e05450a16745d5',\n",
       " '0492.f2d030fd71d7c3075626195b5c0b56f7',\n",
       " '0493.c82e983c32e4888b4fbb0084cb303608',\n",
       " '0494.a0865131f55d26362a8efad99c37de01',\n",
       " '0495.a13bce4369913c929a48b073f2b320c9',\n",
       " '0496.e995facc5d5bc6d3f3a8537d35e0432a',\n",
       " '0497.9307bd1fb5347f9fbf1f54ebe95b1d20',\n",
       " '0498.863566df8e5f17f979edca79d1e87187',\n",
       " '0499.4a17fbd7fe71705e09b4dd2e24d802dd',\n",
       " '0500.2e8762b67913d1b07bc8da293448d27f']"
      ]
     },
     "execution_count": 209,
     "metadata": {},
     "output_type": "execute_result"
    }
   ],
   "source": [
    "spam_files"
   ]
  },
  {
   "cell_type": "code",
   "execution_count": 210,
   "metadata": {},
   "outputs": [],
   "source": [
    "ham_emails = [load_email(is_spam=False, filename=file) for file in ham_files]\n",
    "spam_emails = [load_email(is_spam=True, filename=file) for file in spam_files]"
   ]
  },
  {
   "cell_type": "code",
   "execution_count": 211,
   "metadata": {},
   "outputs": [],
   "source": [
    "testEmail = ham_emails[0]"
   ]
  },
  {
   "cell_type": "code",
   "execution_count": 212,
   "metadata": {},
   "outputs": [
    {
     "name": "stdout",
     "output_type": "stream",
     "text": [
      "Header Field Names: ['Return-Path', 'Delivered-To', 'Received', 'Received', 'Received', 'Received', 'Delivered-To', 'Received', 'Received', 'Received', 'Received', 'Received', 'Received', 'From', 'To', 'Cc', 'Subject', 'In-Reply-To', 'References', 'MIME-Version', 'Content-Type', 'Message-Id', 'X-Loop', 'Sender', 'Errors-To', 'X-Beenthere', 'X-Mailman-Version', 'Precedence', 'List-Help', 'List-Post', 'List-Subscribe', 'List-Id', 'List-Unsubscribe', 'List-Archive', 'Date']\n",
      "\n",
      "\n",
      "\n",
      "Message Field Values: ['<exmh-workers-admin@example.com>', 'zzzz@localhost.netnoteinc.com', 'from localhost (localhost [127.0.0.1])\\tby phobos.labs.netnoteinc.com (Postfix) with ESMTP id D03E543C36\\tfor <zzzz@localhost>; Thu, 22 Aug 2002 07:36:16 -0400 (EDT)', 'from phobos [127.0.0.1]\\tby localhost with IMAP (fetchmail-5.9.0)\\tfor zzzz@localhost (single-drop); Thu, 22 Aug 2002 12:36:16 +0100 (IST)', 'from listman.example.com (listman.example.com [66.187.233.211]) by    dogma.slashnull.org (8.11.6/8.11.6) with ESMTP id g7MBYrZ04811 for    <zzzz-exmh@example.com>; Thu, 22 Aug 2002 12:34:53 +0100', 'from listman.example.com (localhost.localdomain [127.0.0.1]) by    listman.redhat.com (Postfix) with ESMTP id 8386540858; Thu, 22 Aug 2002    07:35:02 -0400 (EDT)', 'exmh-workers@listman.example.com', 'from int-mx1.corp.example.com (int-mx1.corp.example.com    [172.16.52.254]) by listman.redhat.com (Postfix) with ESMTP id 10CF8406D7    for <exmh-workers@listman.redhat.com>; Thu, 22 Aug 2002 07:34:10 -0400    (EDT)', '(from mail@localhost) by int-mx1.corp.example.com (8.11.6/8.11.6)    id g7MBY7g11259 for exmh-workers@listman.redhat.com; Thu, 22 Aug 2002    07:34:07 -0400', 'from mx1.example.com (mx1.example.com [172.16.48.31]) by    int-mx1.corp.redhat.com (8.11.6/8.11.6) with SMTP id g7MBY7Y11255 for    <exmh-workers@redhat.com>; Thu, 22 Aug 2002 07:34:07 -0400', 'from ratree.psu.ac.th ([202.28.97.6]) by mx1.example.com    (8.11.6/8.11.6) with SMTP id g7MBIhl25223 for <exmh-workers@redhat.com>;    Thu, 22 Aug 2002 07:18:55 -0400', 'from delta.cs.mu.OZ.AU (delta.coe.psu.ac.th [172.30.0.98]) by    ratree.psu.ac.th (8.11.6/8.11.6) with ESMTP id g7MBWel29762;    Thu, 22 Aug 2002 18:32:40 +0700 (ICT)', 'from munnari.OZ.AU (localhost [127.0.0.1]) by delta.cs.mu.OZ.AU    (8.11.6/8.11.6) with ESMTP id g7MBQPW13260; Thu, 22 Aug 2002 18:26:25    +0700 (ICT)', 'Robert Elz <kre@munnari.OZ.AU>', 'Chris Garrigues <cwg-dated-1030377287.06fa6d@DeepEddy.Com>', 'exmh-workers@example.com', 'Re: New Sequences Window', '<1029945287.4797.TMDA@deepeddy.vircio.com>', '<1029945287.4797.TMDA@deepeddy.vircio.com>    <1029882468.3116.TMDA@deepeddy.vircio.com> <9627.1029933001@munnari.OZ.AU>    <1029943066.26919.TMDA@deepeddy.vircio.com>    <1029944441.398.TMDA@deepeddy.vircio.com>', '1.0', 'text/plain; charset=\"us-ascii\"', '<13258.1030015585@munnari.OZ.AU>', 'exmh-workers@example.com', 'exmh-workers-admin@example.com', 'exmh-workers-admin@example.com', 'exmh-workers@example.com', '2.0.1', 'bulk', '<mailto:exmh-workers-request@example.com?subject=help>', '<mailto:exmh-workers@example.com>', '<https://listman.example.com/mailman/listinfo/exmh-workers>,    <mailto:exmh-workers-request@redhat.com?subject=subscribe>', 'Discussion list for EXMH developers <exmh-workers.example.com>', '<https://listman.example.com/mailman/listinfo/exmh-workers>,    <mailto:exmh-workers-request@redhat.com?subject=unsubscribe>', '<https://listman.example.com/mailman/private/exmh-workers/>', 'Thu, 22 Aug 2002 18:26:25 +0700']\n",
      "\n",
      "\n",
      "\n",
      "Message Content:     Date:        Wed, 21 Aug 2002 10:54:46 -0500\n",
      "    From:        Chris Garrigues <cwg-dated-1030377287.06fa6d@DeepEddy.Com>\n",
      "    Message-ID:  <1029945287.4797.TMDA@deepeddy.vircio.com>\n",
      "\n",
      "\n",
      "  | I can't reproduce this error.\n",
      "\n",
      "For me it is very repeatable... (like every time, without fail).\n",
      "\n",
      "This is the debug log of the pick happening ...\n",
      "\n",
      "18:19:03 Pick_It {exec pick +inbox -list -lbrace -lbrace -subject ftp -rbrace -rbrace} {4852-4852 -sequence mercury}\n",
      "18:19:03 exec pick +inbox -list -lbrace -lbrace -subject ftp -rbrace -rbrace 4852-4852 -sequence mercury\n",
      "18:19:04 Ftoc_PickMsgs {{1 hit}}\n",
      "18:19:04 Marking 1 hits\n",
      "18:19:04 tkerror: syntax error in expression \"int ...\n",
      "\n",
      "Note, if I run the pick command by hand ...\n",
      "\n",
      "delta$ pick +inbox -list -lbrace -lbrace -subject ftp -rbrace -rbrace  4852-4852 -sequence mercury\n",
      "1 hit\n",
      "\n",
      "That's where the \"1 hit\" comes from (obviously).  The version of nmh I'm\n",
      "using is ...\n",
      "\n",
      "delta$ pick -version\n",
      "pick -- nmh-1.0.4 [compiled on fuchsia.cs.mu.OZ.AU at Sun Mar 17 14:55:56 ICT 2002]\n",
      "\n",
      "And the relevant part of my .mh_profile ...\n",
      "\n",
      "delta$ mhparam pick\n",
      "-seq sel -list\n",
      "\n",
      "\n",
      "Since the pick command works, the sequence (actually, both of them, the\n",
      "one that's explicit on the command line, from the search popup, and the\n",
      "one that comes from .mh_profile) do get created.\n",
      "\n",
      "kre\n",
      "\n",
      "ps: this is still using the version of the code form a day ago, I haven't\n",
      "been able to reach the cvs repository today (local routing issue I think).\n",
      "\n",
      "\n",
      "\n",
      "_______________________________________________\n",
      "Exmh-workers mailing list\n",
      "Exmh-workers@redhat.com\n",
      "https://listman.redhat.com/mailman/listinfo/exmh-workers\n",
      "\n",
      "\n"
     ]
    }
   ],
   "source": [
    "print('Header Field Names:',testEmail.keys())  #returns a list of al the message's header field names\n",
    "print('\\n\\n')\n",
    "print('Message Field Values:',testEmail.values()) #Returns a list of all the message's field values\n",
    "print('\\n\\n')\n",
    "print('Message Content:',testEmail.get_content())"
   ]
  },
  {
   "cell_type": "code",
   "execution_count": 213,
   "metadata": {},
   "outputs": [
    {
     "data": {
      "text/plain": [
       "str"
      ]
     },
     "execution_count": 213,
     "metadata": {},
     "output_type": "execute_result"
    }
   ],
   "source": [
    "testEmailContent = testEmail.get_content()\n",
    "type(testEmailContent)"
   ]
  },
  {
   "cell_type": "code",
   "execution_count": 214,
   "metadata": {},
   "outputs": [
    {
     "data": {
      "text/plain": [
       "'Re: New Sequences Window'"
      ]
     },
     "execution_count": 214,
     "metadata": {},
     "output_type": "execute_result"
    }
   ],
   "source": [
    "testEmail['Subject']"
   ]
  },
  {
   "cell_type": "code",
   "execution_count": 215,
   "metadata": {},
   "outputs": [
    {
     "name": "stdout",
     "output_type": "stream",
     "text": [
      "A POWERHOUSE GIFTING PROGRAM You Don't Want To Miss! \n",
      " \n",
      "  GET IN WITH THE FOUNDERS! \n",
      "The MAJOR PLAYERS are on This ONE\n",
      "For ONCE be where the PlayerS are\n",
      "This is YOUR Private Invitation\n",
      "\n",
      "EXPERTS ARE CALLING THIS THE FASTEST WAY \n",
      "TO HUGE CASH FLOW EVER CONCEIVED\n",
      "Leverage $1,000 into $50,000 Over and Over Again\n",
      "\n",
      "THE QUESTION HERE IS:\n",
      "YOU EITHER WANT TO BE WEALTHY \n",
      "OR YOU DON'T!!!\n",
      "WHICH ONE ARE YOU?\n",
      "I am tossing you a financial lifeline and for your sake I \n",
      "Hope you GRAB onto it and hold on tight For the Ride of youR life!\n",
      "\n",
      "Testimonials\n",
      "\n",
      "Hear what average people are doing their first few days:\n",
      "�We've received 8,000 in 1 day and we are doing that over and over again!' Q.S. in AL\n",
      " �I'm a single mother in FL and I've received 12,000 in the last 4 days.� D. S. in FL\n",
      "�I was not sure about this when I sent off my $1,000 pledge, but I got back $2,000 the very next day!� L.L. in KY\n",
      "�I didn't have the money, so I found myself a partner to work this with. We have received $4,000 over the last 2 days. \n",
      "I think I made the right decision; don't you?� K. C. in FL\n",
      "�I pick up $3,000 my first day and I  they gave me free leads and all the training, you can too!� J.W. in CA\n",
      "\n",
      "ANNOUNCING: We will CLOSE your sales for YOU! And Help you get a Fax Blast IMMEDIATELY Upon Your Entry!!!    YOU Make the MONEY!!!\n",
      "FREE LEADS!!! TRAINING!!!\n",
      "\n",
      "$$DON'T WAIT!!! CALL NOW $$\n",
      "FAX BACK TO: 1-800-421-6318 OR Call 1-800-896-6568 \n",
      "\n",
      "Name__________________________________Phone___________________________________________\n",
      "\n",
      "Fax_____________________________________Email____________________________________________\n",
      "\n",
      "Best Time To Call_________________________Time Zone________________________________________\n",
      "\n",
      "This message is sent in compliance of the new e-mail bill. \"Per Section 301, Paragraph (a)(2)(C) of S. 1618, further transmissions by the sender of this email may be stopped, at no cost to you, by sending a reply to this email address with the word \"REMOVE\" in the subject line. Errors, omissions, and exceptions excluded.\n",
      " \n",
      "This is NOT spam! I have compiled this list from our Replicate Database, relative to Seattle Marketing Group, The Gigt, or Turbo Team for the sole purpose of these communications. Your continued inclusion is ONLY by your gracious permission. If you wish to not receive this mail from me, please send an email to tesrewinter@yahoo.com with \"Remove\" in the subject and you will be deleted immediately.\n",
      "\n",
      "\n",
      "\n",
      "\n"
     ]
    }
   ],
   "source": [
    "print(spam_emails[6].get_content())"
   ]
  },
  {
   "cell_type": "code",
   "execution_count": 216,
   "metadata": {},
   "outputs": [
    {
     "data": {
      "text/plain": [
       "email.message.EmailMessage"
      ]
     },
     "execution_count": 216,
     "metadata": {},
     "output_type": "execute_result"
    }
   ],
   "source": [
    "type(testEmail)"
   ]
  },
  {
   "cell_type": "code",
   "execution_count": null,
   "metadata": {},
   "outputs": [],
   "source": []
  },
  {
   "cell_type": "code",
   "execution_count": null,
   "metadata": {},
   "outputs": [],
   "source": []
  },
  {
   "cell_type": "markdown",
   "metadata": {},
   "source": []
  },
  {
   "cell_type": "markdown",
   "metadata": {},
   "source": [
    "***Have now extracted all of the emails and stored them as email.message.EmailMessage objects***  \n",
    "<br/>   \n",
    " # Turning email to plaintext"
   ]
  },
  {
   "cell_type": "code",
   "execution_count": 217,
   "metadata": {},
   "outputs": [],
   "source": [
    "def get_structure(email):\n",
    "    if isinstance(email, str):\n",
    "        return email\n",
    "    payload = email.get_payload() #return a list of message objects \n",
    "    if isinstance(payload, list):\n",
    "        return \"multipart({})\".format(\", \".join([ \n",
    "            get_structure(sub_email)\n",
    "            for sub_email in payload\n",
    "        ]))\n",
    "    else:\n",
    "        return email.get_content_type() #returns the message's content \n",
    "    \n",
    "from collections import Counter\n",
    "\n",
    "\n",
    "def count_structures(emails): \n",
    "    count = Counter()\n",
    "    for email in emails:\n",
    "        structs = get_structure(email)\n",
    "        count[structs] +=1 \n",
    "    return count"
   ]
  },
  {
   "cell_type": "code",
   "execution_count": 218,
   "metadata": {},
   "outputs": [
    {
     "data": {
      "text/plain": [
       "'multipart(text/plain, application/pgp-signature)'"
      ]
     },
     "execution_count": 218,
     "metadata": {},
     "output_type": "execute_result"
    }
   ],
   "source": [
    "get_structure(ham_emails[10])"
   ]
  },
  {
   "cell_type": "code",
   "execution_count": 219,
   "metadata": {},
   "outputs": [
    {
     "data": {
      "text/plain": [
       "Counter({'text/plain': 2453,\n",
       "         'multipart(text/plain, application/pgp-signature)': 72,\n",
       "         'multipart(text/plain, text/html)': 8,\n",
       "         'multipart(text/plain, text/enriched)': 1,\n",
       "         'multipart(text/plain, application/ms-tnef, text/plain)': 1,\n",
       "         'multipart(text/plain)': 3,\n",
       "         'multipart(text/plain, application/octet-stream)': 2,\n",
       "         'multipart(text/plain, text/plain)': 4,\n",
       "         'multipart(multipart(text/plain, text/plain, text/plain), application/pgp-signature)': 1,\n",
       "         'multipart(text/plain, video/mng)': 1,\n",
       "         'multipart(text/plain, multipart(text/plain))': 1,\n",
       "         'multipart(text/plain, application/x-pkcs7-signature)': 1,\n",
       "         'multipart(text/plain, multipart(text/plain, text/plain), text/rfc822-headers)': 1,\n",
       "         'multipart(text/plain, multipart(text/plain, text/plain), multipart(multipart(text/plain, application/x-pkcs7-signature)))': 1,\n",
       "         'multipart(text/plain, application/x-java-applet)': 1})"
      ]
     },
     "execution_count": 219,
     "metadata": {},
     "output_type": "execute_result"
    }
   ],
   "source": [
    "count_structures(ham_emails)"
   ]
  },
  {
   "cell_type": "code",
   "execution_count": 220,
   "metadata": {},
   "outputs": [],
   "source": [
    "ham_structure = count_structures(ham_emails)\n",
    "spam_structure = count_structures(spam_emails)"
   ]
  },
  {
   "cell_type": "code",
   "execution_count": 221,
   "metadata": {},
   "outputs": [
    {
     "data": {
      "text/plain": [
       "[('text/plain', 2453),\n",
       " ('multipart(text/plain, application/pgp-signature)', 72),\n",
       " ('multipart(text/plain, text/html)', 8),\n",
       " ('multipart(text/plain, text/plain)', 4),\n",
       " ('multipart(text/plain)', 3),\n",
       " ('multipart(text/plain, application/octet-stream)', 2),\n",
       " ('multipart(text/plain, text/enriched)', 1),\n",
       " ('multipart(text/plain, application/ms-tnef, text/plain)', 1),\n",
       " ('multipart(multipart(text/plain, text/plain, text/plain), application/pgp-signature)',\n",
       "  1),\n",
       " ('multipart(text/plain, video/mng)', 1),\n",
       " ('multipart(text/plain, multipart(text/plain))', 1),\n",
       " ('multipart(text/plain, application/x-pkcs7-signature)', 1),\n",
       " ('multipart(text/plain, multipart(text/plain, text/plain), text/rfc822-headers)',\n",
       "  1),\n",
       " ('multipart(text/plain, multipart(text/plain, text/plain), multipart(multipart(text/plain, application/x-pkcs7-signature)))',\n",
       "  1),\n",
       " ('multipart(text/plain, application/x-java-applet)', 1)]"
      ]
     },
     "execution_count": 221,
     "metadata": {},
     "output_type": "execute_result"
    }
   ],
   "source": [
    "ham_structure.most_common()"
   ]
  },
  {
   "cell_type": "code",
   "execution_count": 222,
   "metadata": {},
   "outputs": [
    {
     "data": {
      "text/plain": [
       "[('text/plain', 222),\n",
       " ('text/html', 181),\n",
       " ('multipart(text/plain, text/html)', 45),\n",
       " ('multipart(text/html)', 19),\n",
       " ('multipart(text/plain)', 19),\n",
       " ('multipart(multipart(text/html))', 5),\n",
       " ('multipart(text/plain, image/jpeg)', 3),\n",
       " ('multipart(text/html, application/octet-stream)', 2),\n",
       " ('multipart(text/plain, application/octet-stream)', 1),\n",
       " ('multipart(text/html, text/plain)', 1),\n",
       " ('multipart(multipart(text/html), application/octet-stream, image/jpeg)', 1),\n",
       " ('multipart(multipart(text/plain, text/html), image/gif)', 1),\n",
       " ('multipart/alternative', 1)]"
      ]
     },
     "execution_count": 222,
     "metadata": {},
     "output_type": "execute_result"
    }
   ],
   "source": [
    "spam_structure.most_common()"
   ]
  },
  {
   "cell_type": "code",
   "execution_count": 223,
   "metadata": {},
   "outputs": [],
   "source": [
    "from bs4 import BeautifulSoup"
   ]
  },
  {
   "cell_type": "code",
   "execution_count": 224,
   "metadata": {},
   "outputs": [
    {
     "name": "stdout",
     "output_type": "stream",
     "text": [
      "    Date:        Wed, 21 Aug 2002 10:54:46 -0500\n",
      "    From:        Chris Garrigues \n",
      "    Message-ID:  <1029945287.4797.TMDA@deepeddy.vircio.com>\n",
      "  | I can't reproduce this error.For me it is very repeatable... (like every time, without fail).This is the debug log of the pick happening ...18:19:03 Pick_It {exec pick +inbox -list -lbrace -lbrace -subject ftp -rbrace -rbrace} {4852-4852 -sequence mercury}\n",
      "18:19:03 exec pick +inbox -list -lbrace -lbrace -subject ftp -rbrace -rbrace 4852-4852 -sequence mercury\n",
      "18:19:04 Ftoc_PickMsgs {{1 hit}}\n",
      "18:19:04 Marking 1 hits\n",
      "18:19:04 tkerror: syntax error in expression \"int ...Note, if I run the pick command by hand ...delta$ pick +inbox -list -lbrace -lbrace -subject ftp -rbrace -rbrace  4852-4852 -sequence mercury\n",
      "1 hitThat's where the \"1 hit\" comes from (obviously).  The version of nmh I'm\n",
      "using is ...delta$ pick -version\n",
      "pick -- nmh-1.0.4 [compiled on fuchsia.cs.mu.OZ.AU at Sun Mar 17 14:55:56 ICT 2002]And the relevant part of my .mh_profile ...delta$ mhparam pick\n",
      "-seq sel -list\n",
      "Since the pick command works, the sequence (actually, both of them, the\n",
      "one that's explicit on the command line, from the search popup, and the\n",
      "one that comes from .mh_profile) do get created.kreps: this is still using the version of the code form a day ago, I haven't\n",
      "been able to reach the cvs repository today (local routing issue I think)._______________________________________________\n",
      "Exmh-workers mailing list\n",
      "Exmh-workers@redhat.com\n",
      "https://listman.redhat.com/mailman/listinfo/exmh-workers\n"
     ]
    }
   ],
   "source": [
    "def html_to_plain(email):\n",
    "    try:\n",
    "        soup = BeautifulSoup(email.get_content(), 'html.parser')\n",
    "        return soup.text.replace('\\n\\n','') #replaces any str attribute '\\n\\n'with nothing\n",
    "    except:\n",
    "        return \"empty\"\n",
    "\n",
    "print(html_to_plain(testEmail))\n"
   ]
  },
  {
   "cell_type": "code",
   "execution_count": 225,
   "metadata": {},
   "outputs": [
    {
     "name": "stdout",
     "output_type": "stream",
     "text": [
      "Joseph S. Barrera III wrote:\n",
      "\n",
      "> Chris Haun wrote:\n",
      ">\n",
      ">> A LifeGem is a certified, high quality diamond created from the \n",
      ">> carbon of your loved one as a memorial to their unique and wonderful \n",
      ">> life.\n",
      ">\n",
      ">\n",
      "> Why wait until you're dead? I'm sure there's enough carbon in\n",
      "> the fat from your typical liposuction job to make a decent diamond.\n",
      ">\n",
      "> - Joe\n",
      ">\n",
      "Oh, hell - what about excrement? I'd love to be able to say - No, the \n",
      "sun doesn't shine out of my ass, but there's the occasional diamond. ;-).\n",
      "\n",
      "Owen\n",
      "\n",
      "\n",
      "http://xent.com/mailman/listinfo/fork\n",
      "\n",
      "\n",
      "\n",
      "New Page 1\n",
      "VIAGRA\n",
      "WITHOUT\n",
      "A DOCTORS VISIT!!\n",
      "CLICK\n",
      "HERE\n",
      "*Other\n",
      "Top Medications also available!!\n",
      "*We\n",
      "have Doctors on call around the country to view\n",
      "your information and quickly approve your order.\n",
      "*Totally\n",
      "Discreet System allows you to order today and\n",
      "enjoy your medication tomorrow in most cases.\n",
      "*Finally\n",
      "you can try the wonder drug Viagra that\n",
      "has swept the World without the embarrassment of\n",
      "having to visit your Doctor and explain your condition!!\n",
      "TO\n",
      "ORDER CLICK HERE!\n",
      " \n",
      " \n",
      " \n",
      " \n",
      " \n",
      " \n",
      " \n",
      " \n",
      "TO GET DELETED \n",
      "http://194.44.46.21/remove.php\n",
      " \n",
      " \n",
      "3606uLdz7-798Gxne6717WLiQ1-104VoKJ8349uvAE9-31l43\n"
     ]
    }
   ],
   "source": [
    "def email_to_plain(email): #if the email is already plain e.g. 'text/plain' will simply return the part. \n",
    "                           # else will convert the html parts to plain and then reutn it.\n",
    "    struct = get_structure(email)\n",
    "    for part in email.walk(): # iterates over all the parts and subparts of a message object tree. \n",
    "        partContentType = part.get_content_type()\n",
    "        if partContentType not in ['text/plain','text/html']:\n",
    "            continue\n",
    "        try:\n",
    "            partContent = part.get_content()\n",
    "        except: # in case of encoding issues\n",
    "            partContent = str(part.get_payload())\n",
    "        if partContentType == 'text/plain':\n",
    "            return partContent\n",
    "        else:\n",
    "            return html_to_plain(part) \n",
    "\n",
    "print(email_to_plain(ham_emails[42]))\n",
    "print(email_to_plain(spam_emails[42]))"
   ]
  },
  {
   "cell_type": "code",
   "execution_count": 226,
   "metadata": {},
   "outputs": [
    {
     "name": "stdout",
     "output_type": "stream",
     "text": [
      "Working => work\n",
      "Work => work\n",
      "Works => work\n",
      "Worked => work\n"
     ]
    }
   ],
   "source": [
    "import nltk\n",
    "\n",
    "stemmer = nltk.PorterStemmer() # the PorterStemmer algorithm strips suffex's text\n",
    "for word in (\"Working\", \"Work\", \"Works\", \"Worked\"):\n",
    "        print(word, \"=>\", stemmer.stem(word))"
   ]
  },
  {
   "cell_type": "markdown",
   "metadata": {},
   "source": [
    "# Now to build the pipeline"
   ]
  },
  {
   "cell_type": "code",
   "execution_count": 227,
   "metadata": {},
   "outputs": [],
   "source": [
    "from sklearn.base import BaseEstimator, TransformerMixin\n",
    "\n",
    "\n",
    "class EmailToWords(BaseEstimator, TransformerMixin):\n",
    "    def __init__(self, stripHeaders=True, lowercaseConversion=True, punctuationRemoval=True,\n",
    "                  numberReplacement=True, stemming=True, urlReplacement=True):\n",
    "        self.stripHeaders = stripHeaders\n",
    "        self.lowercaseConversion = lowercaseConversion\n",
    "        self.punctuationRemoval = punctuationRemoval\n",
    "        self.numberReplacement = numberReplacement\n",
    "        self.stemming = stemming\n",
    "        self.urlReplacement = urlReplacement\n",
    "        self.stemmer = nltk.PorterStemmer()\n",
    "    def fit(self, X,y=None):\n",
    "        return self\n",
    "    def transform(self, X, y=None):\n",
    "        X_to_words = []\n",
    "        for email in X:\n",
    "            text = email_to_plain(email)\n",
    "            if text is None:\n",
    "                text = 'empty'\n",
    "            if self.lowercaseConversion:\n",
    "                text.lower()\n",
    "            if self.punctuationRemoval:\n",
    "                text = text.replace('.', '')\n",
    "                text = text.replace(',', '')\n",
    "                text = text.replace('!', '')\n",
    "                text = text.replace('?', '')\n",
    "                \n",
    "            word_counts = Counter(text.split())\n",
    "            if self.stemming:\n",
    "                stemmed_word_count = Counter()\n",
    "                for word, count in word_counts.items(): #returns the element count for all of word_counts\n",
    "                    stemmed_word = self.stemmer.stem(word)\n",
    "                    stemmed_word_count[stemmed_word] += count # builds dict of stemmed word and word count\n",
    "                word_counts = stemmed_word_count\n",
    "                X_to_words.append(word_counts)\n",
    "            return np.array(X_to_words)\n",
    "                \n"
   ]
  },
  {
   "cell_type": "code",
   "execution_count": 228,
   "metadata": {},
   "outputs": [
    {
     "data": {
      "text/plain": [
       "array([Counter({'the': 15, 'pick': 9, '-lbrace': 6, 'of': 5, '-rbrace': 5, 'I': 4, 'is': 4, '-list': 4, 'thi': 3, '+inbox': 3, '-subject': 3, 'ftp': 3, '-sequenc': 3, '18:19:04': 3, 'command': 3, 'delta$': 3, 'from': 3, 'error': 2, '18:19:03': 2, '4852-4852': 2, 'mercuri': 2, '1': 2, 'hit': 2, \"that'\": 2, 'come': 2, 'version': 2, 'use': 2, 'on': 2, 'and': 2, 'one': 2, 'date:': 1, 'wed': 1, '21': 1, 'aug': 1, '2002': 1, '10:54:46': 1, '-0500': 1, 'from:': 1, 'chri': 1, 'garrigu': 1, '<cwg-dated-103037728706fa6d@deepeddycom>': 1, 'message-id:': 1, '<10299452874797tmda@deepeddyvirciocom>': 1, '|': 1, \"can't\": 1, 'reproduc': 1, 'for': 1, 'me': 1, 'it': 1, 'veri': 1, 'repeat': 1, '(like': 1, 'everi': 1, 'time': 1, 'without': 1, 'fail)': 1, 'debug': 1, 'log': 1, 'happen': 1, 'pick_it': 1, '{exec': 1, '-rbrace}': 1, '{4852-4852': 1, 'mercury}': 1, 'exec': 1, 'ftoc_pickmsg': 1, '{{1': 1, 'hit}}': 1, 'mark': 1, 'tkerror:': 1, 'syntax': 1, 'in': 1, 'express': 1, '\"int': 1, 'note': 1, 'if': 1, 'run': 1, 'by': 1, 'hand': 1, 'where': 1, '\"1': 1, 'hit\"': 1, '(obviously)': 1, 'nmh': 1, \"i'm\": 1, '-version': 1, '--': 1, 'nmh-104': 1, '[compil': 1, 'fuchsiacsmuozau': 1, 'at': 1, 'sun': 1, 'mar': 1, '17': 1, '14:55:56': 1, 'ict': 1, '2002]': 1, 'relev': 1, 'part': 1, 'my': 1, 'mh_profil': 1, 'mhparam': 1, '-seq': 1, 'sel': 1, 'sinc': 1, 'work': 1, 'sequenc': 1, '(actual': 1, 'both': 1, 'them': 1, 'explicit': 1, 'line': 1, 'search': 1, 'popup': 1, 'that': 1, 'mh_profile)': 1, 'do': 1, 'get': 1, 'creat': 1, 'kre': 1, 'ps:': 1, 'still': 1, 'code': 1, 'form': 1, 'a': 1, 'day': 1, 'ago': 1, \"haven't\": 1, 'been': 1, 'abl': 1, 'to': 1, 'reach': 1, 'cv': 1, 'repositori': 1, 'today': 1, '(local': 1, 'rout': 1, 'issu': 1, 'think)': 1, '_______________________________________________': 1, 'exmh-work': 1, 'mail': 1, 'list': 1, 'exmh-workers@redhatcom': 1, 'https://listmanredhatcom/mailman/listinfo/exmh-work': 1})],\n",
       "      dtype=object)"
      ]
     },
     "execution_count": 228,
     "metadata": {},
     "output_type": "execute_result"
    }
   ],
   "source": [
    "couple_emails = ham_emails[:5]\n",
    "trans = EmailToWords()\n",
    "Xwordcounts = trans.fit_transform(couple_emails)\n",
    "Xwordcounts"
   ]
  },
  {
   "cell_type": "code",
   "execution_count": 325,
   "metadata": {},
   "outputs": [],
   "source": [
    "from scipy.sparse import csr_matrix\n",
    "\n",
    "from scipy.sparse import csr_matrix\n",
    "\n",
    "class WordCountToVector(BaseEstimator, TransformerMixin):\n",
    "    def __init__(self, vocabulary_size=2440):\n",
    "        self.vocabulary_size = vocabulary_size\n",
    "    def fit(self, X, y=None):\n",
    "        total_word_count = Counter()\n",
    "        for word_count in X:\n",
    "            for word, count in word_count.items():\n",
    "                total_word_count[word] += min(count, 10)\n",
    "        self.most_common = total_word_count.most_common()[:self.vocabulary_size]\n",
    "        self.vocabulary_ = {word: index + 1 for index, (word, count) in enumerate(self.most_common)}\n",
    "        return self\n",
    "    def transform(self, X, y=None):\n",
    "        rows = []\n",
    "        cols = []\n",
    "        data = []\n",
    "        for row, word_count in enumerate(X):\n",
    "            for word, count in word_count.items():\n",
    "                rows.append(row)\n",
    "                cols.append(self.vocabulary_.get(word, 0))\n",
    "                data.append(count)\n",
    "        return csr_matrix((data, (rows, cols)), shape=(len(X), self.vocabulary_size + 1))"
   ]
  },
  {
   "cell_type": "code",
   "execution_count": 337,
   "metadata": {},
   "outputs": [],
   "source": [
    "class WordCountToVect(BaseEstimator, TransformerMixin):\n",
    "    def __init__(self, vocabulary_size=610):\n",
    "        self.vocabulary_size = vocabulary_size\n",
    "    def fit(self, X, y=None):\n",
    "        total_word_count = Counter()\n",
    "        for word_count in X:\n",
    "            for word, count in word_count.items():\n",
    "                total_word_count[word] += min(count, 10)\n",
    "        self.most_common = total_word_count.most_common()[:self.vocabulary_size]\n",
    "        self.vocabulary_ = {word: index + 1 for index, (word, count) in enumerate(self.most_common)}\n",
    "        return self\n",
    "    def transform(self, X, y=None):\n",
    "        rows = []\n",
    "        cols = []\n",
    "        data = []\n",
    "        for row, word_count in enumerate(X):\n",
    "            for word, count in word_count.items():\n",
    "                rows.append(row)\n",
    "                cols.append(self.vocabulary_.get(word, 0))\n",
    "                data.append(count)\n",
    "        return csr_matrix((data, (rows, cols)), shape=(len(X), self.vocabulary_size + 1))"
   ]
  },
  {
   "cell_type": "code",
   "execution_count": 338,
   "metadata": {},
   "outputs": [
    {
     "data": {
      "text/plain": [
       "array([[162,  15,   9,   6,   5,   5,   4,   4,   4,   3,   3]])"
      ]
     },
     "execution_count": 338,
     "metadata": {},
     "output_type": "execute_result"
    }
   ],
   "source": [
    "vocab_transformer = WordCountToVector(vocabulary_size=10)\n",
    "X_few_vectors = vocab_transformer.fit_transform(Xwordcounts)\n",
    "X_few_vectors.toarray()"
   ]
  },
  {
   "cell_type": "code",
   "execution_count": null,
   "metadata": {},
   "outputs": [],
   "source": []
  },
  {
   "cell_type": "code",
   "execution_count": null,
   "metadata": {},
   "outputs": [],
   "source": []
  },
  {
   "cell_type": "code",
   "execution_count": 339,
   "metadata": {},
   "outputs": [],
   "source": [
    "from sklearn.pipeline import Pipeline\n",
    "\n",
    "email_pipeline = Pipeline([\n",
    "    (\"Email to Words\", EmailToWords()),\n",
    "    (\"Wordcount to Vector\", WordCountToVector()),\n",
    "])"
   ]
  },
  {
   "cell_type": "code",
   "execution_count": 340,
   "metadata": {},
   "outputs": [],
   "source": [
    "test_pipeline = Pipeline([\n",
    "    (\"Email to Words\", EmailToWords()),\n",
    "    (\"Wordcount to Vector\", WordCountToVect()),\n",
    "])"
   ]
  },
  {
   "cell_type": "code",
   "execution_count": 341,
   "metadata": {},
   "outputs": [
    {
     "name": "stderr",
     "output_type": "stream",
     "text": [
      "<ipython-input-341-a99f8ee0a3b5>:3: VisibleDeprecationWarning: Creating an ndarray from ragged nested sequences (which is a list-or-tuple of lists-or-tuples-or ndarrays with different lengths or shapes) is deprecated. If you meant to do this, you must specify 'dtype=object' when creating the ndarray\n",
      "  X = np.array(ham_emails + spam_emails)\n"
     ]
    }
   ],
   "source": [
    "from sklearn.model_selection import cross_val_score, train_test_split\n",
    "\n",
    "X = np.array(ham_emails + spam_emails)\n",
    "y = np.array([0] * len(ham_emails) + [1] * len(spam_emails))\n",
    "\n",
    "X_train, X_test, y_train, y_test = train_test_split(X, y, test_size=0.2, random_state=42)"
   ]
  },
  {
   "cell_type": "code",
   "execution_count": 342,
   "metadata": {},
   "outputs": [
    {
     "data": {
      "text/plain": [
       "2441"
      ]
     },
     "execution_count": 342,
     "metadata": {},
     "output_type": "execute_result"
    }
   ],
   "source": [
    "len(X_train)"
   ]
  },
  {
   "cell_type": "code",
   "execution_count": 343,
   "metadata": {},
   "outputs": [
    {
     "name": "stdout",
     "output_type": "stream",
     "text": [
      "(2441, 1)\n",
      "(2441,)\n"
     ]
    }
   ],
   "source": [
    "X_augmented_train = (email_pipeline.fit_transform(X_train)).T\n",
    "print(X_augmented_train.shape)\n",
    "print(y_train.shape)"
   ]
  },
  {
   "cell_type": "code",
   "execution_count": 344,
   "metadata": {},
   "outputs": [
    {
     "data": {
      "text/plain": [
       "0.8324458306008121"
      ]
     },
     "execution_count": 344,
     "metadata": {},
     "output_type": "execute_result"
    }
   ],
   "source": [
    "from sklearn.linear_model import LogisticRegression\n",
    "\n",
    "log_clf = LogisticRegression(solver=\"liblinear\", random_state=42)\n",
    "score = cross_val_score(log_clf, X_augmented_train, y_train, cv=3)\n",
    "score.mean()"
   ]
  },
  {
   "cell_type": "code",
   "execution_count": 345,
   "metadata": {},
   "outputs": [
    {
     "data": {
      "text/plain": [
       "(611,)"
      ]
     },
     "execution_count": 345,
     "metadata": {},
     "output_type": "execute_result"
    }
   ],
   "source": [
    "X_test.shape"
   ]
  },
  {
   "cell_type": "code",
   "execution_count": 346,
   "metadata": {},
   "outputs": [
    {
     "ename": "AttributeError",
     "evalue": "'WordCountToVect' object has no attribute 'vocabulary_'",
     "output_type": "error",
     "traceback": [
      "\u001b[0;31m---------------------------------------------------------------------------\u001b[0m",
      "\u001b[0;31mAttributeError\u001b[0m                            Traceback (most recent call last)",
      "\u001b[0;32m<ipython-input-346-173a3190e085>\u001b[0m in \u001b[0;36m<module>\u001b[0;34m\u001b[0m\n\u001b[1;32m      1\u001b[0m \u001b[0;32mfrom\u001b[0m \u001b[0msklearn\u001b[0m\u001b[0;34m.\u001b[0m\u001b[0mmetrics\u001b[0m \u001b[0;32mimport\u001b[0m \u001b[0mprecision_score\u001b[0m\u001b[0;34m,\u001b[0m \u001b[0mrecall_score\u001b[0m\u001b[0;34m\u001b[0m\u001b[0;34m\u001b[0m\u001b[0m\n\u001b[1;32m      2\u001b[0m \u001b[0;34m\u001b[0m\u001b[0m\n\u001b[0;32m----> 3\u001b[0;31m \u001b[0mX_augmented_test\u001b[0m \u001b[0;34m=\u001b[0m \u001b[0;34m(\u001b[0m\u001b[0mtest_pipeline\u001b[0m\u001b[0;34m.\u001b[0m\u001b[0mtransform\u001b[0m\u001b[0;34m(\u001b[0m\u001b[0mX_test\u001b[0m\u001b[0;34m)\u001b[0m\u001b[0;34m.\u001b[0m\u001b[0mT\u001b[0m\u001b[0;34m)\u001b[0m\u001b[0;34m\u001b[0m\u001b[0;34m\u001b[0m\u001b[0m\n\u001b[0m",
      "\u001b[0;32m/Library/Frameworks/Python.framework/Versions/3.8/lib/python3.8/site-packages/sklearn/pipeline.py\u001b[0m in \u001b[0;36m_transform\u001b[0;34m(self, X)\u001b[0m\n\u001b[1;32m    547\u001b[0m         \u001b[0mXt\u001b[0m \u001b[0;34m=\u001b[0m \u001b[0mX\u001b[0m\u001b[0;34m\u001b[0m\u001b[0;34m\u001b[0m\u001b[0m\n\u001b[1;32m    548\u001b[0m         \u001b[0;32mfor\u001b[0m \u001b[0m_\u001b[0m\u001b[0;34m,\u001b[0m \u001b[0m_\u001b[0m\u001b[0;34m,\u001b[0m \u001b[0mtransform\u001b[0m \u001b[0;32min\u001b[0m \u001b[0mself\u001b[0m\u001b[0;34m.\u001b[0m\u001b[0m_iter\u001b[0m\u001b[0;34m(\u001b[0m\u001b[0;34m)\u001b[0m\u001b[0;34m:\u001b[0m\u001b[0;34m\u001b[0m\u001b[0;34m\u001b[0m\u001b[0m\n\u001b[0;32m--> 549\u001b[0;31m             \u001b[0mXt\u001b[0m \u001b[0;34m=\u001b[0m \u001b[0mtransform\u001b[0m\u001b[0;34m.\u001b[0m\u001b[0mtransform\u001b[0m\u001b[0;34m(\u001b[0m\u001b[0mXt\u001b[0m\u001b[0;34m)\u001b[0m\u001b[0;34m\u001b[0m\u001b[0;34m\u001b[0m\u001b[0m\n\u001b[0m\u001b[1;32m    550\u001b[0m         \u001b[0;32mreturn\u001b[0m \u001b[0mXt\u001b[0m\u001b[0;34m\u001b[0m\u001b[0;34m\u001b[0m\u001b[0m\n\u001b[1;32m    551\u001b[0m \u001b[0;34m\u001b[0m\u001b[0m\n",
      "\u001b[0;32m<ipython-input-337-65503fefb68e>\u001b[0m in \u001b[0;36mtransform\u001b[0;34m(self, X, y)\u001b[0m\n\u001b[1;32m     17\u001b[0m             \u001b[0;32mfor\u001b[0m \u001b[0mword\u001b[0m\u001b[0;34m,\u001b[0m \u001b[0mcount\u001b[0m \u001b[0;32min\u001b[0m \u001b[0mword_count\u001b[0m\u001b[0;34m.\u001b[0m\u001b[0mitems\u001b[0m\u001b[0;34m(\u001b[0m\u001b[0;34m)\u001b[0m\u001b[0;34m:\u001b[0m\u001b[0;34m\u001b[0m\u001b[0;34m\u001b[0m\u001b[0m\n\u001b[1;32m     18\u001b[0m                 \u001b[0mrows\u001b[0m\u001b[0;34m.\u001b[0m\u001b[0mappend\u001b[0m\u001b[0;34m(\u001b[0m\u001b[0mrow\u001b[0m\u001b[0;34m)\u001b[0m\u001b[0;34m\u001b[0m\u001b[0;34m\u001b[0m\u001b[0m\n\u001b[0;32m---> 19\u001b[0;31m                 \u001b[0mcols\u001b[0m\u001b[0;34m.\u001b[0m\u001b[0mappend\u001b[0m\u001b[0;34m(\u001b[0m\u001b[0mself\u001b[0m\u001b[0;34m.\u001b[0m\u001b[0mvocabulary_\u001b[0m\u001b[0;34m.\u001b[0m\u001b[0mget\u001b[0m\u001b[0;34m(\u001b[0m\u001b[0mword\u001b[0m\u001b[0;34m,\u001b[0m \u001b[0;36m0\u001b[0m\u001b[0;34m)\u001b[0m\u001b[0;34m)\u001b[0m\u001b[0;34m\u001b[0m\u001b[0;34m\u001b[0m\u001b[0m\n\u001b[0m\u001b[1;32m     20\u001b[0m                 \u001b[0mdata\u001b[0m\u001b[0;34m.\u001b[0m\u001b[0mappend\u001b[0m\u001b[0;34m(\u001b[0m\u001b[0mcount\u001b[0m\u001b[0;34m)\u001b[0m\u001b[0;34m\u001b[0m\u001b[0;34m\u001b[0m\u001b[0m\n\u001b[1;32m     21\u001b[0m         \u001b[0;32mreturn\u001b[0m \u001b[0mcsr_matrix\u001b[0m\u001b[0;34m(\u001b[0m\u001b[0;34m(\u001b[0m\u001b[0mdata\u001b[0m\u001b[0;34m,\u001b[0m \u001b[0;34m(\u001b[0m\u001b[0mrows\u001b[0m\u001b[0;34m,\u001b[0m \u001b[0mcols\u001b[0m\u001b[0;34m)\u001b[0m\u001b[0;34m)\u001b[0m\u001b[0;34m,\u001b[0m \u001b[0mshape\u001b[0m\u001b[0;34m=\u001b[0m\u001b[0;34m(\u001b[0m\u001b[0mlen\u001b[0m\u001b[0;34m(\u001b[0m\u001b[0mX\u001b[0m\u001b[0;34m)\u001b[0m\u001b[0;34m,\u001b[0m \u001b[0mself\u001b[0m\u001b[0;34m.\u001b[0m\u001b[0mvocabulary_size\u001b[0m \u001b[0;34m+\u001b[0m \u001b[0;36m1\u001b[0m\u001b[0;34m)\u001b[0m\u001b[0;34m)\u001b[0m\u001b[0;34m\u001b[0m\u001b[0;34m\u001b[0m\u001b[0m\n",
      "\u001b[0;31mAttributeError\u001b[0m: 'WordCountToVect' object has no attribute 'vocabulary_'"
     ]
    }
   ],
   "source": [
    "from sklearn.metrics import precision_score, recall_score\n",
    "\n",
    "X_augmented_test = (test_pipeline.transform(X_test).T)"
   ]
  },
  {
   "cell_type": "code",
   "execution_count": 347,
   "metadata": {},
   "outputs": [
    {
     "name": "stdout",
     "output_type": "stream",
     "text": [
      "X_aug_test:  (2441, 1)\n"
     ]
    }
   ],
   "source": [
    "print('X_aug_test: ', X_augmented_test.shape )"
   ]
  },
  {
   "cell_type": "code",
   "execution_count": 322,
   "metadata": {},
   "outputs": [],
   "source": [
    "\n",
    "\n",
    "log_clf = LogisticRegression(solver=\"liblinear\", random_state=42)\n",
    "log_clf.fit(X_augmented_train, y_train)\n",
    "\n",
    "y_pred = log_clf.predict(X_augmented_test)\n",
    "\n"
   ]
  },
  {
   "cell_type": "code",
   "execution_count": 323,
   "metadata": {},
   "outputs": [
    {
     "name": "stdout",
     "output_type": "stream",
     "text": [
      "y_pred.shape;  (2441,)\n",
      "y_test.shape (611,)\n"
     ]
    }
   ],
   "source": [
    "print('y_pred.shape; ', y_pred.shape)\n",
    "print('y_test.shape', y_test.shape)"
   ]
  },
  {
   "cell_type": "code",
   "execution_count": 321,
   "metadata": {},
   "outputs": [
    {
     "name": "stdout",
     "output_type": "stream",
     "text": [
      "Precision: 0.00%\n",
      "Recall: 0.00%\n"
     ]
    }
   ],
   "source": [
    "\n",
    "print(\"Precision: {:.2f}%\".format(100 * precision_score(y_test, y_pred)))\n",
    "print(\"Recall: {:.2f}%\".format(100 * recall_score(y_test, y_pred)))"
   ]
  },
  {
   "cell_type": "code",
   "execution_count": null,
   "metadata": {},
   "outputs": [],
   "source": []
  },
  {
   "cell_type": "code",
   "execution_count": null,
   "metadata": {},
   "outputs": [],
   "source": []
  },
  {
   "cell_type": "code",
   "execution_count": null,
   "metadata": {},
   "outputs": [],
   "source": [
    "\n"
   ]
  },
  {
   "cell_type": "code",
   "execution_count": null,
   "metadata": {},
   "outputs": [],
   "source": []
  },
  {
   "cell_type": "code",
   "execution_count": null,
   "metadata": {},
   "outputs": [],
   "source": []
  },
  {
   "cell_type": "code",
   "execution_count": null,
   "metadata": {},
   "outputs": [],
   "source": []
  },
  {
   "cell_type": "code",
   "execution_count": null,
   "metadata": {},
   "outputs": [],
   "source": []
  },
  {
   "cell_type": "code",
   "execution_count": null,
   "metadata": {},
   "outputs": [],
   "source": []
  },
  {
   "cell_type": "code",
   "execution_count": null,
   "metadata": {},
   "outputs": [],
   "source": []
  },
  {
   "cell_type": "code",
   "execution_count": null,
   "metadata": {},
   "outputs": [],
   "source": []
  },
  {
   "cell_type": "code",
   "execution_count": null,
   "metadata": {},
   "outputs": [],
   "source": []
  },
  {
   "cell_type": "code",
   "execution_count": null,
   "metadata": {},
   "outputs": [],
   "source": []
  }
 ],
 "metadata": {
  "kernelspec": {
   "display_name": "Python 3",
   "language": "python",
   "name": "python3"
  },
  "language_info": {
   "codemirror_mode": {
    "name": "ipython",
    "version": 3
   },
   "file_extension": ".py",
   "mimetype": "text/x-python",
   "name": "python",
   "nbconvert_exporter": "python",
   "pygments_lexer": "ipython3",
   "version": "3.8.3"
  }
 },
 "nbformat": 4,
 "nbformat_minor": 2
}
