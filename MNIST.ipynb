{
 "cells": [
  {
   "cell_type": "code",
   "execution_count": 24,
   "metadata": {},
   "outputs": [],
   "source": [
    "import numpy as np\n",
    "import os \n",
    "\n",
    "from sklearn.linear_model import SGDClassifier\n",
    "import matplotlib as mpl\n",
    "import matplotlib.pyplot as plt\n",
    "\n",
    "from sklearn.datasets import fetch_openml"
   ]
  },
  {
   "cell_type": "code",
   "execution_count": null,
   "metadata": {},
   "outputs": [],
   "source": []
  },
  {
   "cell_type": "code",
   "execution_count": null,
   "metadata": {},
   "outputs": [],
   "source": []
  },
  {
   "cell_type": "code",
   "execution_count": 25,
   "metadata": {},
   "outputs": [],
   "source": [
    "def get_data(): \n",
    "    mnist = fetch_openml('mnist_784', version=1, cache=True)\n",
    "    data = mnist['data']\n",
    "    labels = mnist['target']\n",
    "    return data, labels"
   ]
  },
  {
   "cell_type": "code",
   "execution_count": 26,
   "metadata": {},
   "outputs": [],
   "source": [
    "data, labels = get_data()"
   ]
  },
  {
   "cell_type": "code",
   "execution_count": 27,
   "metadata": {},
   "outputs": [],
   "source": [
    "def split_data(data, labes): \n",
    "    X_train = data[60000:]\n",
    "    Y_train = labels[60000:]\n",
    "    X_test = data[:60000]\n",
    "    Y_test = labels[:60000]\n",
    "    \n",
    "    random_index = np.random.permutation(60000)\n",
    "    X_train, Y_train = data[random_index], labels[random_index]\n",
    "    data_dict = {'X_train':X_train, 'Y_train':Y_train, 'X_test':X_test, 'Y_test':Y_test}\n",
    "    return data_dict"
   ]
  },
  {
   "cell_type": "code",
   "execution_count": 28,
   "metadata": {},
   "outputs": [
    {
     "data": {
      "text/plain": [
       "['X_test', 'X_train', 'Y_train', 'Y_test']"
      ]
     },
     "execution_count": 28,
     "metadata": {},
     "output_type": "execute_result"
    }
   ],
   "source": [
    "data_dict = split_data(data, labels)\n",
    "data_dict.keys()"
   ]
  },
  {
   "cell_type": "code",
   "execution_count": 33,
   "metadata": {},
   "outputs": [
    {
     "data": {
      "text/plain": [
       "60000"
      ]
     },
     "execution_count": 33,
     "metadata": {},
     "output_type": "execute_result"
    }
   ],
   "source": []
  },
  {
   "cell_type": "code",
   "execution_count": 32,
   "metadata": {},
   "outputs": [
    {
     "data": {
      "text/plain": [
       "SGDClassifier(alpha=0.0001, average=False, class_weight=None,\n",
       "       early_stopping=False, epsilon=0.1, eta0=0.0, fit_intercept=True,\n",
       "       l1_ratio=0.15, learning_rate='optimal', loss='hinge', max_iter=None,\n",
       "       n_iter=None, n_iter_no_change=5, n_jobs=None, penalty='l2',\n",
       "       power_t=0.5, random_state=14, shuffle=True, tol=None,\n",
       "       validation_fraction=0.1, verbose=0, warm_start=False)"
      ]
     },
     "execution_count": 32,
     "metadata": {},
     "output_type": "execute_result"
    }
   ],
   "source": [
    "SDG = SGDClassifier(random_state=14)\n",
    "SDG.fit(data_dict['X_train'], data_dict['Y_train'])"
   ]
  },
  {
   "cell_type": "code",
   "execution_count": 126,
   "metadata": {},
   "outputs": [
    {
     "data": {
      "text/plain": [
       "<matplotlib.image.AxesImage at 0x1a2593ac10>"
      ]
     },
     "execution_count": 126,
     "metadata": {},
     "output_type": "execute_result"
    },
    {
     "data": {
      "image/png": "[encoded data removed]",
      "text/plain": [
       "<Figure size 432x288 with 1 Axes>"
      ]
     },
     "metadata": {
      "needs_background": "light"
     },
     "output_type": "display_data"
    }
   ],
   "source": [
    "some_image = (data_dict['X_train'])[25]\n",
    "image = some_image.reshape(28,28)\n",
    "plt.imshow(image)"
   ]
  },
  {
   "cell_type": "code",
   "execution_count": 127,
   "metadata": {},
   "outputs": [
    {
     "data": {
      "text/plain": [
       "array(['7'], dtype='|S1')"
      ]
     },
     "execution_count": 127,
     "metadata": {},
     "output_type": "execute_result"
    }
   ],
   "source": [
    "SDG.predict([some_image])"
   ]
  },
  {
   "cell_type": "code",
   "execution_count": 107,
   "metadata": {},
   "outputs": [],
   "source": [
    "#from sklearn.externals import joblib\n",
    "#joblib.dump(SDG, 'SDG_image_classifier.pkl')"
   ]
  },
  {
   "cell_type": "markdown",
   "metadata": {},
   "source": [
    "# Model Evaluation"
   ]
  },
  {
   "cell_type": "code",
   "execution_count": 108,
   "metadata": {},
   "outputs": [
    {
     "name": "stdout",
     "output_type": "stream",
     "text": [
      "8\n"
     ]
    }
   ],
   "source": [
    "from sklearn.model_selection import StratifiedKFold\n",
    "from sklearn.base import clone\n",
    "print (data_dict['Y_train'])[7]"
   ]
  },
  {
   "cell_type": "code",
   "execution_count": 116,
   "metadata": {},
   "outputs": [
    {
     "name": "stdout",
     "output_type": "stream",
     "text": [
      "0.8574285142971406\n",
      "0.8682934146707335\n",
      "0.8676301445216783\n"
     ]
    }
   ],
   "source": [
    "skfolds = StratifiedKFold(n_splits=3, random_state=19)\n",
    "for train_index, test_index in skfolds.split(data_dict['X_train'], data_dict['Y_train']):\n",
    "    clone_SDG = clone(SDG)\n",
    "    x_train_folds = (data_dict['X_train'])[train_index]\n",
    "    y_train_folds = (data_dict['Y_train'])[train_index]\n",
    "    x_test_folds = (data_dict['X_train'])[test_index]\n",
    "    y_test_folds = (data_dict['Y_train'])[test_index]\n",
    "    \n",
    "    clone_SDG.fit(x_train_folds, y_train_folds)\n",
    "    y_pred = clone_SDG.predict(x_test_folds)\n",
    "    n_correct = sum(y_pred == y_test_folds)\n",
    "    print n_correct/float(len(y_pred))"
   ]
  },
  {
   "cell_type": "markdown",
   "metadata": {},
   "source": [
    "## Confusion Matrix"
   ]
  },
  {
   "cell_type": "code",
   "execution_count": 130,
   "metadata": {},
   "outputs": [],
   "source": [
    "from sklearn.model_selection import cross_val_predict\n",
    "\n",
    "y_train_pred = cross_val_predict(SDG, data_dict['X_train'], data_dict['Y_train'], cv=3)"
   ]
  },
  {
   "cell_type": "code",
   "execution_count": 133,
   "metadata": {},
   "outputs": [],
   "source": [
    "from sklearn.metrics import confusion_matrix\n",
    "con_mat = confusion_matrix(data_dict['Y_train'], y_train_pred)"
   ]
  },
  {
   "cell_type": "code",
   "execution_count": 149,
   "metadata": {},
   "outputs": [
    {
     "data": {
      "text/html": [
       "<div>\n",
       "<style scoped>\n",
       "    .dataframe tbody tr th:only-of-type {\n",
       "        vertical-align: middle;\n",
       "    }\n",
       "\n",
       "    .dataframe tbody tr th {\n",
       "        vertical-align: top;\n",
       "    }\n",
       "\n",
       "    .dataframe thead th {\n",
       "        text-align: right;\n",
       "    }\n",
       "</style>\n",
       "<table border=\"1\" class=\"dataframe\">\n",
       "  <thead>\n",
       "    <tr style=\"text-align: right;\">\n",
       "      <th></th>\n",
       "      <th>0</th>\n",
       "      <th>1</th>\n",
       "      <th>2</th>\n",
       "      <th>3</th>\n",
       "      <th>4</th>\n",
       "      <th>5</th>\n",
       "      <th>6</th>\n",
       "      <th>7</th>\n",
       "      <th>8</th>\n",
       "      <th>9</th>\n",
       "    </tr>\n",
       "  </thead>\n",
       "  <tbody>\n",
       "    <tr>\n",
       "      <th>0</th>\n",
       "      <td>5706</td>\n",
       "      <td>0</td>\n",
       "      <td>44</td>\n",
       "      <td>8</td>\n",
       "      <td>13</td>\n",
       "      <td>30</td>\n",
       "      <td>65</td>\n",
       "      <td>5</td>\n",
       "      <td>49</td>\n",
       "      <td>3</td>\n",
       "    </tr>\n",
       "    <tr>\n",
       "      <th>1</th>\n",
       "      <td>1</td>\n",
       "      <td>6402</td>\n",
       "      <td>88</td>\n",
       "      <td>18</td>\n",
       "      <td>8</td>\n",
       "      <td>12</td>\n",
       "      <td>17</td>\n",
       "      <td>21</td>\n",
       "      <td>170</td>\n",
       "      <td>5</td>\n",
       "    </tr>\n",
       "    <tr>\n",
       "      <th>2</th>\n",
       "      <td>83</td>\n",
       "      <td>48</td>\n",
       "      <td>5313</td>\n",
       "      <td>66</td>\n",
       "      <td>77</td>\n",
       "      <td>20</td>\n",
       "      <td>106</td>\n",
       "      <td>65</td>\n",
       "      <td>160</td>\n",
       "      <td>20</td>\n",
       "    </tr>\n",
       "    <tr>\n",
       "      <th>3</th>\n",
       "      <td>75</td>\n",
       "      <td>61</td>\n",
       "      <td>453</td>\n",
       "      <td>4784</td>\n",
       "      <td>25</td>\n",
       "      <td>290</td>\n",
       "      <td>53</td>\n",
       "      <td>69</td>\n",
       "      <td>274</td>\n",
       "      <td>47</td>\n",
       "    </tr>\n",
       "    <tr>\n",
       "      <th>4</th>\n",
       "      <td>36</td>\n",
       "      <td>37</td>\n",
       "      <td>44</td>\n",
       "      <td>12</td>\n",
       "      <td>5197</td>\n",
       "      <td>8</td>\n",
       "      <td>81</td>\n",
       "      <td>32</td>\n",
       "      <td>179</td>\n",
       "      <td>216</td>\n",
       "    </tr>\n",
       "    <tr>\n",
       "      <th>5</th>\n",
       "      <td>146</td>\n",
       "      <td>50</td>\n",
       "      <td>102</td>\n",
       "      <td>275</td>\n",
       "      <td>98</td>\n",
       "      <td>3978</td>\n",
       "      <td>227</td>\n",
       "      <td>34</td>\n",
       "      <td>426</td>\n",
       "      <td>85</td>\n",
       "    </tr>\n",
       "    <tr>\n",
       "      <th>6</th>\n",
       "      <td>44</td>\n",
       "      <td>17</td>\n",
       "      <td>93</td>\n",
       "      <td>15</td>\n",
       "      <td>65</td>\n",
       "      <td>38</td>\n",
       "      <td>5581</td>\n",
       "      <td>1</td>\n",
       "      <td>62</td>\n",
       "      <td>2</td>\n",
       "    </tr>\n",
       "    <tr>\n",
       "      <th>7</th>\n",
       "      <td>33</td>\n",
       "      <td>23</td>\n",
       "      <td>109</td>\n",
       "      <td>22</td>\n",
       "      <td>99</td>\n",
       "      <td>15</td>\n",
       "      <td>4</td>\n",
       "      <td>5742</td>\n",
       "      <td>86</td>\n",
       "      <td>132</td>\n",
       "    </tr>\n",
       "    <tr>\n",
       "      <th>8</th>\n",
       "      <td>105</td>\n",
       "      <td>183</td>\n",
       "      <td>255</td>\n",
       "      <td>114</td>\n",
       "      <td>79</td>\n",
       "      <td>165</td>\n",
       "      <td>86</td>\n",
       "      <td>20</td>\n",
       "      <td>4770</td>\n",
       "      <td>74</td>\n",
       "    </tr>\n",
       "    <tr>\n",
       "      <th>9</th>\n",
       "      <td>55</td>\n",
       "      <td>52</td>\n",
       "      <td>38</td>\n",
       "      <td>91</td>\n",
       "      <td>409</td>\n",
       "      <td>46</td>\n",
       "      <td>17</td>\n",
       "      <td>545</td>\n",
       "      <td>302</td>\n",
       "      <td>4394</td>\n",
       "    </tr>\n",
       "  </tbody>\n",
       "</table>\n",
       "</div>"
      ],
      "text/plain": [
       "      0     1     2     3     4     5     6     7     8     9\n",
       "0  5706     0    44     8    13    30    65     5    49     3\n",
       "1     1  6402    88    18     8    12    17    21   170     5\n",
       "2    83    48  5313    66    77    20   106    65   160    20\n",
       "3    75    61   453  4784    25   290    53    69   274    47\n",
       "4    36    37    44    12  5197     8    81    32   179   216\n",
       "5   146    50   102   275    98  3978   227    34   426    85\n",
       "6    44    17    93    15    65    38  5581     1    62     2\n",
       "7    33    23   109    22    99    15     4  5742    86   132\n",
       "8   105   183   255   114    79   165    86    20  4770    74\n",
       "9    55    52    38    91   409    46    17   545   302  4394"
      ]
     },
     "execution_count": 149,
     "metadata": {},
     "output_type": "execute_result"
    }
   ],
   "source": [
    "import pandas as pd\n",
    "pd.DataFrame(con_mat)"
   ]
  },
  {
   "cell_type": "markdown",
   "metadata": {},
   "source": [
    "This confusion matrix shows that 0 is wrongly classified as 2 44 times, as 3, 8 times ect.\n",
    "\n",
    "True Positive: correctly predicted that the var was the target value\n",
    "True Negative: correctly predicted that the var was not the target value\n",
    "False Positive: incorrectly predicted that the var was the target value \n",
    "False Negative: incorrectly predicted that the var was not the target value.\n",
    "\n",
    "***Precision:***\n",
    "* TP/TP + FP the accuracy of the positive predictions\n"
   ]
  },
  {
   "cell_type": "markdown",
   "metadata": {},
   "source": [
    "***Recall:***\n",
    "\n",
    "* TP/TP+FN also known as sensitivity or true positive rate. The ratio of positive instances that are correctly detected by the classifier"
   ]
  },
  {
   "cell_type": "code",
   "execution_count": 153,
   "metadata": {},
   "outputs": [
    {
     "data": {
      "text/plain": [
       "(60000,)"
      ]
     },
     "execution_count": 153,
     "metadata": {},
     "output_type": "execute_result"
    }
   ],
   "source": [
    "from sklearn.metrics import precision_score, recall_score\n",
    "y_train_pred.shape"
   ]
  },
  {
   "cell_type": "code",
   "execution_count": 155,
   "metadata": {},
   "outputs": [
    {
     "data": {
      "text/plain": [
       "(60000,)"
      ]
     },
     "execution_count": 155,
     "metadata": {},
     "output_type": "execute_result"
    }
   ],
   "source": [
    "data_dict['Y_train'].shape"
   ]
  },
  {
   "cell_type": "code",
   "execution_count": 165,
   "metadata": {},
   "outputs": [
    {
     "data": {
      "text/plain": [
       "0.8650323279202237"
      ]
     },
     "execution_count": 165,
     "metadata": {},
     "output_type": "execute_result"
    }
   ],
   "source": [
    "precision_score(data_dict['Y_train'], y_train_pred, average='macro')"
   ]
  },
  {
   "cell_type": "code",
   "execution_count": 166,
   "metadata": {},
   "outputs": [
    {
     "data": {
      "text/plain": [
       "0.8621809849385116"
      ]
     },
     "execution_count": 166,
     "metadata": {},
     "output_type": "execute_result"
    }
   ],
   "source": [
    "recall_score(data_dict['Y_train'], y_train_pred, average='macro')"
   ]
  },
  {
   "cell_type": "markdown",
   "metadata": {},
   "source": [
    "This means that when the model predicts a value. it is correct 86.5% of the time. \n",
    "the recall score means it correctly indetifies 86.2% of the values. Not bad.  \n",
    "<br/>\n",
    "The f1 score combines both these metrics. It is the harmonic mean of precision and recall. The metric gives a much larger weight to lower values and therefore the score will only be high if both the precision and recall are high. "
   ]
  },
  {
   "cell_type": "code",
   "execution_count": 168,
   "metadata": {},
   "outputs": [
    {
     "data": {
      "text/plain": [
       "0.861492882109723"
      ]
     },
     "execution_count": 168,
     "metadata": {},
     "output_type": "execute_result"
    }
   ],
   "source": [
    "from sklearn.metrics import f1_score \n",
    "f1_score(data_dict['Y_train'], y_train_pred, average='macro')"
   ]
  },
  {
   "cell_type": "markdown",
   "metadata": {},
   "source": [
    "f1 score is high when the recall and precision are equal. This however may not always be what you want. "
   ]
  }
 ],
 "metadata": {
  "kernelspec": {
   "display_name": "Python 2",
   "language": "python",
   "name": "python2"
  },
  "language_info": {
   "codemirror_mode": {
    "name": "ipython",
    "version": 2
   },
   "file_extension": ".py",
   "mimetype": "text/x-python",
   "name": "python",
   "nbconvert_exporter": "python",
   "pygments_lexer": "ipython2",
   "version": "2.7.16"
  }
 },
 "nbformat": 4,
 "nbformat_minor": 2
}
