{
 "cells": [
  {
   "cell_type": "code",
   "execution_count": 2,
   "metadata": {},
   "outputs": [],
   "source": [
    "import numpy as np\n",
    "import os \n",
    "\n",
    "from sklearn.linear_model import SGDClassifier\n",
    "import matplotlib as mpl\n",
    "import matplotlib.pyplot as plt\n",
    "\n",
    "from sklearn.datasets import fetch_openml"
   ]
  },
  {
   "cell_type": "code",
   "execution_count": null,
   "metadata": {},
   "outputs": [],
   "source": []
  },
  {
   "cell_type": "code",
   "execution_count": null,
   "metadata": {},
   "outputs": [],
   "source": []
  },
  {
   "cell_type": "code",
   "execution_count": 3,
   "metadata": {},
   "outputs": [],
   "source": [
    "def get_data(): \n",
    "    mnist = fetch_openml('mnist_784', version=1, cache=True)\n",
    "    data = mnist['data']\n",
    "    labels = mnist['target']\n",
    "    return data, labels"
   ]
  },
  {
   "cell_type": "code",
   "execution_count": 4,
   "metadata": {},
   "outputs": [],
   "source": [
    "data, labels = get_data()"
   ]
  },
  {
   "cell_type": "code",
   "execution_count": 5,
   "metadata": {},
   "outputs": [],
   "source": [
    "def split_data(data, labes): \n",
    "    X_train = data[60000:]\n",
    "    Y_train = labels[60000:]\n",
    "    X_test = data[:60000]\n",
    "    Y_test = labels[:60000]\n",
    "    \n",
    "    random_index = np.random.permutation(60000)\n",
    "    X_train, Y_train = data[random_index], labels[random_index]\n",
    "    data_dict = {'X_train':X_train, 'Y_train':Y_train, 'X_test':X_test, 'Y_test':Y_test}\n",
    "    return data_dict"
   ]
  },
  {
   "cell_type": "code",
   "execution_count": 6,
   "metadata": {},
   "outputs": [
    {
     "data": {
      "text/plain": [
       "['X_test', 'X_train', 'Y_train', 'Y_test']"
      ]
     },
     "execution_count": 6,
     "metadata": {},
     "output_type": "execute_result"
    }
   ],
   "source": [
    "data_dict = split_data(data, labels)\n",
    "data_dict.keys()"
   ]
  },
  {
   "cell_type": "code",
   "execution_count": null,
   "metadata": {},
   "outputs": [],
   "source": []
  },
  {
   "cell_type": "code",
   "execution_count": 7,
   "metadata": {},
   "outputs": [
    {
     "name": "stderr",
     "output_type": "stream",
     "text": [
      "/opt/anaconda2/lib/python2.7/site-packages/sklearn/linear_model/stochastic_gradient.py:166: FutureWarning: max_iter and tol parameters have been added in SGDClassifier in 0.19. If both are left unset, they default to max_iter=5 and tol=None. If tol is not None, max_iter defaults to max_iter=1000. From 0.21, default max_iter will be 1000, and default tol will be 1e-3.\n",
      "  FutureWarning)\n"
     ]
    },
    {
     "data": {
      "text/plain": [
       "SGDClassifier(alpha=0.0001, average=False, class_weight=None,\n",
       "       early_stopping=False, epsilon=0.1, eta0=0.0, fit_intercept=True,\n",
       "       l1_ratio=0.15, learning_rate='optimal', loss='hinge', max_iter=None,\n",
       "       n_iter=None, n_iter_no_change=5, n_jobs=None, penalty='l2',\n",
       "       power_t=0.5, random_state=14, shuffle=True, tol=None,\n",
       "       validation_fraction=0.1, verbose=0, warm_start=False)"
      ]
     },
     "execution_count": 7,
     "metadata": {},
     "output_type": "execute_result"
    }
   ],
   "source": [
    "SDG = SGDClassifier(random_state=14)\n",
    "SDG.fit(data_dict['X_train'], data_dict['Y_train'])"
   ]
  },
  {
   "cell_type": "code",
   "execution_count": 8,
   "metadata": {},
   "outputs": [
    {
     "data": {
      "text/plain": [
       "<matplotlib.image.AxesImage at 0x1a192ddc50>"
      ]
     },
     "execution_count": 8,
     "metadata": {},
     "output_type": "execute_result"
    },
    {
     "data": {
      "image/png": "[encoded data removed]",
      "text/plain": [
       "<Figure size 432x288 with 1 Axes>"
      ]
     },
     "metadata": {
      "needs_background": "light"
     },
     "output_type": "display_data"
    }
   ],
   "source": [
    "some_image = (data_dict['X_train'])[25]\n",
    "image = some_image.reshape(28,28)\n",
    "plt.imshow(image)"
   ]
  },
  {
   "cell_type": "code",
   "execution_count": 9,
   "metadata": {},
   "outputs": [
    {
     "data": {
      "text/plain": [
       "array(['6'], dtype='|S1')"
      ]
     },
     "execution_count": 9,
     "metadata": {},
     "output_type": "execute_result"
    }
   ],
   "source": [
    "SDG.predict([some_image])"
   ]
  },
  {
   "cell_type": "code",
   "execution_count": 10,
   "metadata": {},
   "outputs": [
    {
     "data": {
      "text/plain": [
       "['models/SDG_image_classifier.pkl']"
      ]
     },
     "execution_count": 10,
     "metadata": {},
     "output_type": "execute_result"
    }
   ],
   "source": [
    "from sklearn.externals import joblib\n",
    "joblib.dump(SDG, 'models/SDG_image_classifier.pkl')"
   ]
  },
  {
   "cell_type": "markdown",
   "metadata": {},
   "source": [
    "# Model Evaluation"
   ]
  },
  {
   "cell_type": "code",
   "execution_count": 11,
   "metadata": {},
   "outputs": [
    {
     "name": "stdout",
     "output_type": "stream",
     "text": [
      "3\n"
     ]
    }
   ],
   "source": [
    "from sklearn.model_selection import StratifiedKFold\n",
    "from sklearn.base import clone\n",
    "print (data_dict['Y_train'])[7]"
   ]
  },
  {
   "cell_type": "code",
   "execution_count": 12,
   "metadata": {},
   "outputs": [
    {
     "name": "stdout",
     "output_type": "stream",
     "text": [
      "0.8599780043991202\n",
      "0.864493224661233\n",
      "0.8724308646296944\n"
     ]
    }
   ],
   "source": [
    "skfolds = StratifiedKFold(n_splits=3, random_state=19)\n",
    "for train_index, test_index in skfolds.split(data_dict['X_train'], data_dict['Y_train']):\n",
    "    clone_SDG = clone(SDG)\n",
    "    x_train_folds = (data_dict['X_train'])[train_index]\n",
    "    y_train_folds = (data_dict['Y_train'])[train_index]\n",
    "    x_test_folds = (data_dict['X_train'])[test_index]\n",
    "    y_test_folds = (data_dict['Y_train'])[test_index]\n",
    "    \n",
    "    clone_SDG.fit(x_train_folds, y_train_folds)\n",
    "    y_pred = clone_SDG.predict(x_test_folds)\n",
    "    n_correct = sum(y_pred == y_test_folds)\n",
    "    print n_correct/float(len(y_pred))"
   ]
  },
  {
   "cell_type": "markdown",
   "metadata": {},
   "source": [
    "## Confusion Matrix"
   ]
  },
  {
   "cell_type": "code",
   "execution_count": 13,
   "metadata": {},
   "outputs": [],
   "source": [
    "from sklearn.model_selection import cross_val_predict\n",
    "\n",
    "y_train_pred = cross_val_predict(SDG, data_dict['X_train'], data_dict['Y_train'], cv=3)"
   ]
  },
  {
   "cell_type": "code",
   "execution_count": 14,
   "metadata": {},
   "outputs": [],
   "source": [
    "from sklearn.metrics import confusion_matrix\n",
    "con_mat = confusion_matrix(data_dict['Y_train'], y_train_pred)"
   ]
  },
  {
   "cell_type": "code",
   "execution_count": 15,
   "metadata": {},
   "outputs": [
    {
     "data": {
      "text/html": [
       "<div>\n",
       "<style scoped>\n",
       "    .dataframe tbody tr th:only-of-type {\n",
       "        vertical-align: middle;\n",
       "    }\n",
       "\n",
       "    .dataframe tbody tr th {\n",
       "        vertical-align: top;\n",
       "    }\n",
       "\n",
       "    .dataframe thead th {\n",
       "        text-align: right;\n",
       "    }\n",
       "</style>\n",
       "<table border=\"1\" class=\"dataframe\">\n",
       "  <thead>\n",
       "    <tr style=\"text-align: right;\">\n",
       "      <th></th>\n",
       "      <th>0</th>\n",
       "      <th>1</th>\n",
       "      <th>2</th>\n",
       "      <th>3</th>\n",
       "      <th>4</th>\n",
       "      <th>5</th>\n",
       "      <th>6</th>\n",
       "      <th>7</th>\n",
       "      <th>8</th>\n",
       "      <th>9</th>\n",
       "    </tr>\n",
       "  </thead>\n",
       "  <tbody>\n",
       "    <tr>\n",
       "      <th>0</th>\n",
       "      <td>5670</td>\n",
       "      <td>1</td>\n",
       "      <td>19</td>\n",
       "      <td>51</td>\n",
       "      <td>4</td>\n",
       "      <td>56</td>\n",
       "      <td>48</td>\n",
       "      <td>7</td>\n",
       "      <td>53</td>\n",
       "      <td>14</td>\n",
       "    </tr>\n",
       "    <tr>\n",
       "      <th>1</th>\n",
       "      <td>1</td>\n",
       "      <td>6424</td>\n",
       "      <td>71</td>\n",
       "      <td>31</td>\n",
       "      <td>5</td>\n",
       "      <td>38</td>\n",
       "      <td>2</td>\n",
       "      <td>10</td>\n",
       "      <td>157</td>\n",
       "      <td>3</td>\n",
       "    </tr>\n",
       "    <tr>\n",
       "      <th>2</th>\n",
       "      <td>39</td>\n",
       "      <td>119</td>\n",
       "      <td>4875</td>\n",
       "      <td>325</td>\n",
       "      <td>63</td>\n",
       "      <td>27</td>\n",
       "      <td>68</td>\n",
       "      <td>41</td>\n",
       "      <td>382</td>\n",
       "      <td>19</td>\n",
       "    </tr>\n",
       "    <tr>\n",
       "      <th>3</th>\n",
       "      <td>16</td>\n",
       "      <td>31</td>\n",
       "      <td>155</td>\n",
       "      <td>5541</td>\n",
       "      <td>11</td>\n",
       "      <td>163</td>\n",
       "      <td>15</td>\n",
       "      <td>26</td>\n",
       "      <td>140</td>\n",
       "      <td>33</td>\n",
       "    </tr>\n",
       "    <tr>\n",
       "      <th>4</th>\n",
       "      <td>21</td>\n",
       "      <td>49</td>\n",
       "      <td>53</td>\n",
       "      <td>56</td>\n",
       "      <td>5227</td>\n",
       "      <td>29</td>\n",
       "      <td>42</td>\n",
       "      <td>14</td>\n",
       "      <td>112</td>\n",
       "      <td>239</td>\n",
       "    </tr>\n",
       "    <tr>\n",
       "      <th>5</th>\n",
       "      <td>62</td>\n",
       "      <td>31</td>\n",
       "      <td>49</td>\n",
       "      <td>503</td>\n",
       "      <td>56</td>\n",
       "      <td>4257</td>\n",
       "      <td>74</td>\n",
       "      <td>15</td>\n",
       "      <td>284</td>\n",
       "      <td>90</td>\n",
       "    </tr>\n",
       "    <tr>\n",
       "      <th>6</th>\n",
       "      <td>41</td>\n",
       "      <td>29</td>\n",
       "      <td>120</td>\n",
       "      <td>22</td>\n",
       "      <td>44</td>\n",
       "      <td>137</td>\n",
       "      <td>5432</td>\n",
       "      <td>2</td>\n",
       "      <td>85</td>\n",
       "      <td>6</td>\n",
       "    </tr>\n",
       "    <tr>\n",
       "      <th>7</th>\n",
       "      <td>26</td>\n",
       "      <td>60</td>\n",
       "      <td>132</td>\n",
       "      <td>216</td>\n",
       "      <td>66</td>\n",
       "      <td>42</td>\n",
       "      <td>5</td>\n",
       "      <td>5314</td>\n",
       "      <td>83</td>\n",
       "      <td>321</td>\n",
       "    </tr>\n",
       "    <tr>\n",
       "      <th>8</th>\n",
       "      <td>41</td>\n",
       "      <td>224</td>\n",
       "      <td>195</td>\n",
       "      <td>355</td>\n",
       "      <td>58</td>\n",
       "      <td>333</td>\n",
       "      <td>28</td>\n",
       "      <td>20</td>\n",
       "      <td>4516</td>\n",
       "      <td>81</td>\n",
       "    </tr>\n",
       "    <tr>\n",
       "      <th>9</th>\n",
       "      <td>32</td>\n",
       "      <td>65</td>\n",
       "      <td>74</td>\n",
       "      <td>313</td>\n",
       "      <td>310</td>\n",
       "      <td>126</td>\n",
       "      <td>2</td>\n",
       "      <td>145</td>\n",
       "      <td>200</td>\n",
       "      <td>4682</td>\n",
       "    </tr>\n",
       "  </tbody>\n",
       "</table>\n",
       "</div>"
      ],
      "text/plain": [
       "      0     1     2     3     4     5     6     7     8     9\n",
       "0  5670     1    19    51     4    56    48     7    53    14\n",
       "1     1  6424    71    31     5    38     2    10   157     3\n",
       "2    39   119  4875   325    63    27    68    41   382    19\n",
       "3    16    31   155  5541    11   163    15    26   140    33\n",
       "4    21    49    53    56  5227    29    42    14   112   239\n",
       "5    62    31    49   503    56  4257    74    15   284    90\n",
       "6    41    29   120    22    44   137  5432     2    85     6\n",
       "7    26    60   132   216    66    42     5  5314    83   321\n",
       "8    41   224   195   355    58   333    28    20  4516    81\n",
       "9    32    65    74   313   310   126     2   145   200  4682"
      ]
     },
     "execution_count": 15,
     "metadata": {},
     "output_type": "execute_result"
    }
   ],
   "source": [
    "import pandas as pd\n",
    "pd.DataFrame(con_mat)"
   ]
  },
  {
   "cell_type": "markdown",
   "metadata": {},
   "source": [
    "This confusion matrix shows that 0 is wrongly classified as 2 44 times, as 3, 8 times ect.\n",
    "\n",
    "True Positive: correctly predicted that the var was the target value\n",
    "True Negative: correctly predicted that the var was not the target value\n",
    "False Positive: incorrectly predicted that the var was the target value \n",
    "False Negative: incorrectly predicted that the var was not the target value.\n",
    "\n",
    "***Precision:***\n",
    "* TP/TP + FP the accuracy of the positive predictions. ***The ratio of predicted 5s that were actually 5s***\n"
   ]
  },
  {
   "cell_type": "markdown",
   "metadata": {},
   "source": [
    "***Recall:***\n",
    "\n",
    "* TP/TP+FN also known as sensitivity or true positive rate. ***The ratio of 5s that were positively classified***"
   ]
  },
  {
   "cell_type": "code",
   "execution_count": 16,
   "metadata": {},
   "outputs": [
    {
     "data": {
      "text/plain": [
       "(60000,)"
      ]
     },
     "execution_count": 16,
     "metadata": {},
     "output_type": "execute_result"
    }
   ],
   "source": [
    "from sklearn.metrics import precision_score, recall_score\n",
    "y_train_pred.shape"
   ]
  },
  {
   "cell_type": "code",
   "execution_count": 17,
   "metadata": {},
   "outputs": [
    {
     "data": {
      "text/plain": [
       "(60000,)"
      ]
     },
     "execution_count": 17,
     "metadata": {},
     "output_type": "execute_result"
    }
   ],
   "source": [
    "data_dict['Y_train'].shape"
   ]
  },
  {
   "cell_type": "code",
   "execution_count": 18,
   "metadata": {},
   "outputs": [
    {
     "data": {
      "text/plain": [
       "0.8679217388535125"
      ]
     },
     "execution_count": 18,
     "metadata": {},
     "output_type": "execute_result"
    }
   ],
   "source": [
    "precision_score(data_dict['Y_train'], y_train_pred, average='macro')"
   ]
  },
  {
   "cell_type": "code",
   "execution_count": 19,
   "metadata": {},
   "outputs": [
    {
     "data": {
      "text/plain": [
       "0.8637059653997458"
      ]
     },
     "execution_count": 19,
     "metadata": {},
     "output_type": "execute_result"
    }
   ],
   "source": [
    "recall_score(data_dict['Y_train'], y_train_pred, average='macro')"
   ]
  },
  {
   "cell_type": "markdown",
   "metadata": {},
   "source": [
    "This means that when the model predicts a value. it is correct 86.5% of the time. \n",
    "the recall score means it correctly indetifies 86.2% of the values. Not bad.  \n",
    "<br/>\n",
    "The f1 score combines both these metrics. It is the harmonic mean of precision and recall. The metric gives a much larger weight to lower values and therefore the score will only be high if both the precision and recall are high. "
   ]
  },
  {
   "cell_type": "code",
   "execution_count": 20,
   "metadata": {},
   "outputs": [
    {
     "data": {
      "text/plain": [
       "0.8645084535455532"
      ]
     },
     "execution_count": 20,
     "metadata": {},
     "output_type": "execute_result"
    }
   ],
   "source": [
    "from sklearn.metrics import f1_score \n",
    "f1_score(data_dict['Y_train'], y_train_pred, average='macro')"
   ]
  },
  {
   "cell_type": "markdown",
   "metadata": {},
   "source": [
    "f1 score is high when the recall and precision are equal. This however may not always be what you want.\n",
    "<br/>  \n",
    "A trade of must be made between precision and recall. If you alter the prediction threshold one will be increased while the other decreasees. You may want to alter this threshold as for example suppose you trained a model to predict videos that were safe for children to watch. You would want the precision to be very high but be too concerened the the recall was low. As the reprocussions would would not be as bad if a few suitible videos were flagged as long as all the unsuitible videos were discarded. \n",
    "<br/>  \n",
    "The SGDClassier does not allow you to directly set thresholds but does give access to the function that provides the output on which the classifications are made. "
   ]
  },
  {
   "cell_type": "code",
   "execution_count": 21,
   "metadata": {},
   "outputs": [
    {
     "data": {
      "text/plain": [
       "array([[-222818.36382373, -583397.65423645, -209130.69198856,\n",
       "        -539698.53004084, -265104.29719304,  -80261.51985046,\n",
       "         168069.81491229, -623192.09705296, -545564.61427554,\n",
       "        -734737.38950797]])"
      ]
     },
     "execution_count": 21,
     "metadata": {},
     "output_type": "execute_result"
    }
   ],
   "source": [
    "SGD = joblib.load('models/SDG_image_classifier.pkl')\n",
    "y_scores = SGD.decision_function([some_image])\n",
    "y_scores"
   ]
  },
  {
   "cell_type": "code",
   "execution_count": 22,
   "metadata": {},
   "outputs": [
    {
     "data": {
      "text/plain": [
       "array([6.])"
      ]
     },
     "execution_count": 22,
     "metadata": {},
     "output_type": "execute_result"
    }
   ],
   "source": [
    "threshold = 2000\n",
    "ar = np.linspace(0, 9, num=10)\n",
    "choice = (y_scores>threshold)[0]\n",
    "ar[choice]"
   ]
  },
  {
   "cell_type": "markdown",
   "metadata": {},
   "source": [
    "## Binary Classifier and the precision recall curve"
   ]
  },
  {
   "cell_type": "code",
   "execution_count": 23,
   "metadata": {},
   "outputs": [],
   "source": [
    "bin_clas = SGDClassifier(random_state=19)"
   ]
  },
  {
   "cell_type": "code",
   "execution_count": 24,
   "metadata": {},
   "outputs": [
    {
     "data": {
      "text/plain": [
       "SGDClassifier(alpha=0.0001, average=False, class_weight=None,\n",
       "       early_stopping=False, epsilon=0.1, eta0=0.0, fit_intercept=True,\n",
       "       l1_ratio=0.15, learning_rate='optimal', loss='hinge', max_iter=None,\n",
       "       n_iter=None, n_iter_no_change=5, n_jobs=None, penalty='l2',\n",
       "       power_t=0.5, random_state=19, shuffle=True, tol=None,\n",
       "       validation_fraction=0.1, verbose=0, warm_start=False)"
      ]
     },
     "execution_count": 24,
     "metadata": {},
     "output_type": "execute_result"
    }
   ],
   "source": [
    "bin_target = (data_dict['Y_train']=='5')\n",
    "bin_clas.fit(data_dict['X_train'], bin_target)"
   ]
  },
  {
   "cell_type": "code",
   "execution_count": 25,
   "metadata": {},
   "outputs": [
    {
     "data": {
      "text/plain": [
       "array([False])"
      ]
     },
     "execution_count": 25,
     "metadata": {},
     "output_type": "execute_result"
    }
   ],
   "source": [
    "some_im = data_dict['X_train'][9]\n",
    "bin_clas.predict([some_im]) #image not predicted to be 5"
   ]
  },
  {
   "cell_type": "code",
   "execution_count": 26,
   "metadata": {},
   "outputs": [
    {
     "data": {
      "text/plain": [
       "<matplotlib.image.AxesImage at 0x1a1c3cae90>"
      ]
     },
     "execution_count": 26,
     "metadata": {},
     "output_type": "execute_result"
    },
    {
     "data": {
      "image/png": "[encoded data removed]",
      "text/plain": [
       "<Figure size 432x288 with 1 Axes>"
      ]
     },
     "metadata": {
      "needs_background": "light"
     },
     "output_type": "display_data"
    }
   ],
   "source": [
    "plt.imshow(some_im.reshape(28,28))"
   ]
  },
  {
   "cell_type": "code",
   "execution_count": 27,
   "metadata": {},
   "outputs": [
    {
     "data": {
      "text/plain": [
       "array([-268127.99836923])"
      ]
     },
     "execution_count": 27,
     "metadata": {},
     "output_type": "execute_result"
    }
   ],
   "source": [
    "y_scores = bin_clas.decision_function([some_im])\n",
    "y_scores"
   ]
  },
  {
   "cell_type": "code",
   "execution_count": 28,
   "metadata": {},
   "outputs": [],
   "source": [
    "from sklearn.metrics import precision_recall_curve\n",
    "\n",
    "y_scores = cross_val_predict(bin_clas, data_dict['X_train'], bin_target, cv=3, method=\"decision_function\")\n",
    "precisions, recalls, thresholds = precision_recall_curve(bin_target, y_scores)"
   ]
  },
  {
   "cell_type": "code",
   "execution_count": 29,
   "metadata": {},
   "outputs": [],
   "source": [
    "def plt_precision_recall(precisions, recalls, thresholds):\n",
    "    plt.plot(thresholds, precisions[:-1], \"b--\", label=\"Precision\")\n",
    "    plt.plot(thresholds, recalls[:-1], \"g-\", label=\"recall\")\n",
    "    plt.xlabel(\"Threshold\")\n",
    "    plt.ylim(0,1)\n",
    "    plt.legend()\n"
   ]
  },
  {
   "cell_type": "code",
   "execution_count": 30,
   "metadata": {},
   "outputs": [
    {
     "data": {
      "image/png": "[encoded data removed]",
      "text/plain": [
       "<Figure size 432x288 with 1 Axes>"
      ]
     },
     "metadata": {
      "needs_background": "light"
     },
     "output_type": "display_data"
    }
   ],
   "source": [
    "plt_precision_recall(precisions, recalls, thresholds)"
   ]
  },
  {
   "cell_type": "code",
   "execution_count": 31,
   "metadata": {},
   "outputs": [
    {
     "data": {
      "text/plain": [
       "['models/num5classifier.pkl']"
      ]
     },
     "execution_count": 31,
     "metadata": {},
     "output_type": "execute_result"
    }
   ],
   "source": [
    "joblib.dump(bin_clas, \"models/num5classifier.pkl\")"
   ]
  },
  {
   "cell_type": "markdown",
   "metadata": {},
   "source": [
    "## ROC curve\n",
    "The receiver operating curve plots the True positive rate against the False Positive rate"
   ]
  },
  {
   "cell_type": "code",
   "execution_count": 32,
   "metadata": {},
   "outputs": [],
   "source": [
    "from sklearn.metrics import roc_curve\n",
    "TPR, FPR, thresholds = roc_curve(bin_target, y_scores)"
   ]
  },
  {
   "cell_type": "code",
   "execution_count": 33,
   "metadata": {},
   "outputs": [],
   "source": [
    "def plt_roc_curve(FPR, TPR, label=None): \n",
    "    plt.plot(FPR, TPR, label=label)\n",
    "    plt.plot([0,1], [0,1], \"k--\")\n",
    "    plt.axis([0,1,0,1])\n",
    "    plt.xlabel(\"False positive rate\")\n",
    "    plt.ylabel(\"True Positive rate\")"
   ]
  },
  {
   "cell_type": "code",
   "execution_count": 34,
   "metadata": {},
   "outputs": [
    {
     "data": {
      "image/png": "[encoded data removed]",
      "text/plain": [
       "<Figure size 432x288 with 1 Axes>"
      ]
     },
     "metadata": {
      "needs_background": "light"
     },
     "output_type": "display_data"
    }
   ],
   "source": [
    "plt_roc_curve(TPR, FPR)"
   ]
  },
  {
   "cell_type": "markdown",
   "metadata": {},
   "source": [
    "As you can see the higher the TPR the more false positives you will get. The best models will stay as far away from the dotted line as possible. A way to measure the performance of these models is to measure the arear under the graph. The higher it is the better the model is."
   ]
  },
  {
   "cell_type": "code",
   "execution_count": 35,
   "metadata": {},
   "outputs": [
    {
     "data": {
      "text/plain": [
       "0.9600944066635076"
      ]
     },
     "execution_count": 35,
     "metadata": {},
     "output_type": "execute_result"
    }
   ],
   "source": [
    "from sklearn.metrics import roc_auc_score\n",
    "roc_auc_score(bin_target, y_scores)"
   ]
  },
  {
   "cell_type": "markdown",
   "metadata": {},
   "source": [
    "### Lets train a RandomForestClassifier and comapare to the SGDClassifier"
   ]
  },
  {
   "cell_type": "code",
   "execution_count": 36,
   "metadata": {},
   "outputs": [
    {
     "name": "stderr",
     "output_type": "stream",
     "text": [
      "/opt/anaconda2/lib/python2.7/site-packages/sklearn/ensemble/forest.py:246: FutureWarning: The default value of n_estimators will change from 10 in version 0.20 to 100 in 0.22.\n",
      "  \"10 in version 0.20 to 100 in 0.22.\", FutureWarning)\n"
     ]
    }
   ],
   "source": [
    "from sklearn.ensemble import RandomForestClassifier\n",
    "ran_forest = RandomForestClassifier(random_state=42)\n",
    "y_proba_forest = cross_val_predict(ran_forest, data_dict['X_train'], bin_target, cv=3, method=\"predict_proba\")\n"
   ]
  },
  {
   "cell_type": "code",
   "execution_count": 37,
   "metadata": {},
   "outputs": [
    {
     "data": {
      "text/html": [
       "<div>\n",
       "<style scoped>\n",
       "    .dataframe tbody tr th:only-of-type {\n",
       "        vertical-align: middle;\n",
       "    }\n",
       "\n",
       "    .dataframe tbody tr th {\n",
       "        vertical-align: top;\n",
       "    }\n",
       "\n",
       "    .dataframe thead th {\n",
       "        text-align: right;\n",
       "    }\n",
       "</style>\n",
       "<table border=\"1\" class=\"dataframe\">\n",
       "  <thead>\n",
       "    <tr style=\"text-align: right;\">\n",
       "      <th></th>\n",
       "      <th>0</th>\n",
       "      <th>1</th>\n",
       "    </tr>\n",
       "  </thead>\n",
       "  <tbody>\n",
       "    <tr>\n",
       "      <th>0</th>\n",
       "      <td>1.0</td>\n",
       "      <td>0.0</td>\n",
       "    </tr>\n",
       "    <tr>\n",
       "      <th>1</th>\n",
       "      <td>0.9</td>\n",
       "      <td>0.1</td>\n",
       "    </tr>\n",
       "    <tr>\n",
       "      <th>2</th>\n",
       "      <td>0.9</td>\n",
       "      <td>0.1</td>\n",
       "    </tr>\n",
       "    <tr>\n",
       "      <th>3</th>\n",
       "      <td>0.5</td>\n",
       "      <td>0.5</td>\n",
       "    </tr>\n",
       "    <tr>\n",
       "      <th>4</th>\n",
       "      <td>0.1</td>\n",
       "      <td>0.9</td>\n",
       "    </tr>\n",
       "  </tbody>\n",
       "</table>\n",
       "</div>"
      ],
      "text/plain": [
       "     0    1\n",
       "0  1.0  0.0\n",
       "1  0.9  0.1\n",
       "2  0.9  0.1\n",
       "3  0.5  0.5\n",
       "4  0.1  0.9"
      ]
     },
     "execution_count": 37,
     "metadata": {},
     "output_type": "execute_result"
    }
   ],
   "source": [
    "y_scores_forest = y_proba_forest[:,1]\n",
    "pd.DataFrame(y_proba_forest).head() #the table has a row per instance and a columns per prediction e.g.\n",
    "# the first row is the prediction of a single instance. There is 0% chance it is a 5 and 100% it is not."
   ]
  },
  {
   "cell_type": "code",
   "execution_count": 38,
   "metadata": {},
   "outputs": [],
   "source": [
    "y_scores_forest = y_proba_forest[:,1] #the second column probablity that the value is a 5"
   ]
  },
  {
   "cell_type": "code",
   "execution_count": 39,
   "metadata": {},
   "outputs": [],
   "source": [
    "fpr_forest, tpr_forest, thresholds_forest = roc_curve(bin_target, y_scores_forest)"
   ]
  },
  {
   "cell_type": "code",
   "execution_count": 40,
   "metadata": {},
   "outputs": [],
   "source": [
    "def plt_two_roc_curve(FPR, TPR, FPR2, TPR2, label=None, label2=None): \n",
    "    plt.plot(FPR, TPR, label=label)\n",
    "    plt.plot(FPR2, TPR2, \"g--\", label=label2)\n",
    "    plt.plot([0,1], [0,1], \"k--\")\n",
    "    plt.axis([0,1,0,1])\n",
    "    plt.xlabel(\"False positive rate\")\n",
    "    plt.ylabel(\"True Positive rate\")\n",
    "    plt.show()"
   ]
  },
  {
   "cell_type": "code",
   "execution_count": 41,
   "metadata": {},
   "outputs": [
    {
     "data": {
      "image/png": "[encoded data removed]",
      "text/plain": [
       "<Figure size 432x288 with 1 Axes>"
      ]
     },
     "metadata": {
      "needs_background": "light"
     },
     "output_type": "display_data"
    }
   ],
   "source": [
    "plt_two_roc_curve(TPR, FPR, fpr_forest, tpr_forest, label=\"SGDC\", label2=\"RandomForest\")"
   ]
  },
  {
   "cell_type": "markdown",
   "metadata": {},
   "source": [
    "As you can see the ensemble algorithm is much more effective. lets check its AUC score"
   ]
  },
  {
   "cell_type": "code",
   "execution_count": 42,
   "metadata": {},
   "outputs": [
    {
     "data": {
      "text/plain": [
       "0.9928369275793991"
      ]
     },
     "execution_count": 42,
     "metadata": {},
     "output_type": "execute_result"
    }
   ],
   "source": [
    "roc_auc_score(bin_target, y_scores_forest)"
   ]
  },
  {
   "cell_type": "markdown",
   "metadata": {},
   "source": [
    "***99 wow that's pretty good lets save this one.***"
   ]
  },
  {
   "cell_type": "code",
   "execution_count": 43,
   "metadata": {},
   "outputs": [
    {
     "data": {
      "text/plain": [
       "['models/forest_num5classifier.pkl']"
      ]
     },
     "execution_count": 43,
     "metadata": {},
     "output_type": "execute_result"
    }
   ],
   "source": [
    "joblib.dump(ran_forest, \"models/forest_num5classifier.pkl\")"
   ]
  },
  {
   "cell_type": "code",
   "execution_count": 44,
   "metadata": {},
   "outputs": [
    {
     "data": {
      "text/plain": [
       "0.984137475214805"
      ]
     },
     "execution_count": 44,
     "metadata": {},
     "output_type": "execute_result"
    }
   ],
   "source": [
    "y_train_pred = cross_val_predict(ran_forest, data_dict['X_train'], bin_target, cv=3)\n",
    "precision_score(bin_target, y_train_pred)"
   ]
  },
  {
   "cell_type": "code",
   "execution_count": 45,
   "metadata": {},
   "outputs": [
    {
     "data": {
      "text/plain": [
       "0.8240177089097952"
      ]
     },
     "execution_count": 45,
     "metadata": {},
     "output_type": "execute_result"
    }
   ],
   "source": [
    "recall_score(bin_target, y_train_pred)"
   ]
  },
  {
   "cell_type": "markdown",
   "metadata": {},
   "source": [
    "# Multiclass Classifier\n",
    "There are some classifiers that are strictly binary e.g. support vector machines or linear classifiers. a way to get roung this for multiclass is to train a model for each class and pick the prediction from the set of them that is the highest. This iscalled the one-versus-all method. \n",
    "<br/>  \n",
    "another method using the above example would be to train a classifier for every pair of digit. e.g. 0 vs 1, 0 vs 2, 0 vs 3. This would of course dramaticaly increase the number of models you would have to train. N*(N-1)/2 classifiers would be needed for each of the N classes. The datasets you would have to train them with though would be significantly reduced. This method is particuarly good for Support Vector Machine models as they do not scale very well with the size of the dataset. \n",
    "<br/>   \n",
    "Some of Sci-kit Learn models automatically use the OVA model when you use multiclass training data apart from Support Vector Machines which use OVO due to scaling issues. Should you want Sci-kit learn to use a specific method for multiclass training you can specify it as follows"
   ]
  },
  {
   "cell_type": "code",
   "execution_count": 46,
   "metadata": {},
   "outputs": [
    {
     "data": {
      "text/plain": [
       "OneVsOneClassifier(estimator=SGDClassifier(alpha=0.0001, average=False, class_weight=None,\n",
       "       early_stopping=False, epsilon=0.1, eta0=0.0, fit_intercept=True,\n",
       "       l1_ratio=0.15, learning_rate='optimal', loss='hinge', max_iter=None,\n",
       "       n_iter=None, n_iter_no_change=5, n_jobs=None, penalty='l2',\n",
       "       power_t=0.5, random_state=42, shuffle=True, tol=None,\n",
       "       validation_fraction=0.1, verbose=0, warm_start=False),\n",
       "          n_jobs=None)"
      ]
     },
     "execution_count": 46,
     "metadata": {},
     "output_type": "execute_result"
    }
   ],
   "source": [
    "from sklearn.multiclass import OneVsOneClassifier\n",
    "ovo_clf = OneVsOneClassifier(SGDClassifier(random_state=42))\n",
    "ovo_clf.fit(data_dict['X_train'], data_dict['Y_train'])"
   ]
  },
  {
   "cell_type": "code",
   "execution_count": 47,
   "metadata": {},
   "outputs": [
    {
     "data": {
      "text/plain": [
       "array(['6'], dtype=object)"
      ]
     },
     "execution_count": 47,
     "metadata": {},
     "output_type": "execute_result"
    }
   ],
   "source": [
    "ovo_clf.predict([some_image])"
   ]
  },
  {
   "cell_type": "code",
   "execution_count": 48,
   "metadata": {},
   "outputs": [
    {
     "data": {
      "text/plain": [
       "45"
      ]
     },
     "execution_count": 48,
     "metadata": {},
     "output_type": "execute_result"
    }
   ],
   "source": [
    "len(ovo_clf.estimators_) #as you can see 10*(10-1)/2 models are needed for 10 classes"
   ]
  },
  {
   "cell_type": "markdown",
   "metadata": {},
   "source": [
    "We can check the accuracy as below and possibly improve it by simply using a standard scaler"
   ]
  },
  {
   "cell_type": "code",
   "execution_count": 49,
   "metadata": {},
   "outputs": [],
   "source": [
    "from sklearn.model_selection import cross_val_score\n"
   ]
  },
  {
   "cell_type": "code",
   "execution_count": 50,
   "metadata": {},
   "outputs": [],
   "source": [
    "from sklearn.preprocessing import StandardScaler\n",
    "scaler = StandardScaler()\n",
    "X_train_scaled = scaler.fit_transform(data_dict['X_train'].astype(np.float64))"
   ]
  },
  {
   "cell_type": "code",
   "execution_count": 51,
   "metadata": {},
   "outputs": [
    {
     "data": {
      "text/plain": [
       "array([0.91906619, 0.9139957 , 0.91708756])"
      ]
     },
     "execution_count": 51,
     "metadata": {},
     "output_type": "execute_result"
    }
   ],
   "source": [
    "cross_val_score(ovo_clf, X_train_scaled, data_dict['Y_train'], cv=3, scoring='accuracy')"
   ]
  },
  {
   "cell_type": "markdown",
   "metadata": {},
   "source": [
    "This is slightly better once scaled."
   ]
  },
  {
   "cell_type": "markdown",
   "metadata": {},
   "source": [
    "### Error Analysis\n"
   ]
  },
  {
   "cell_type": "code",
   "execution_count": 52,
   "metadata": {},
   "outputs": [
    {
     "data": {
      "text/plain": [
       "array([[5680,    1,   37,    9,    9,   66,   60,    6,   43,   12],\n",
       "       [   1, 6562,   46,   24,    6,   20,    7,   12,   52,   12],\n",
       "       [  29,   26, 5402,  134,   53,   26,   67,   55,  143,   23],\n",
       "       [  19,   25,  122, 5409,    6,  221,    7,   42,  231,   49],\n",
       "       [   8,   23,   77,    9, 5364,   21,   35,   23,   43,  239],\n",
       "       [  43,    9,   48,  245,   20, 4722,   71,    9,  214,   40],\n",
       "       [  31,    6,   74,    9,   41,  101, 5622,    2,   32,    0],\n",
       "       [   9,   23,   87,   55,   59,   18,    3, 5703,   34,  274],\n",
       "       [  21,   96,   56,  135,   15,  171,   30,   12, 5243,   72],\n",
       "       [  18,   26,   30,   62,  175,   44,    1,  208,   89, 5296]])"
      ]
     },
     "execution_count": 52,
     "metadata": {},
     "output_type": "execute_result"
    }
   ],
   "source": [
    "y_train_predict = cross_val_predict(ovo_clf, X_train_scaled, data_dict['Y_train'], cv=3)\n",
    "conf_mx = confusion_matrix(data_dict['Y_train'], y_train_predict)\n",
    "conf_mx"
   ]
  },
  {
   "cell_type": "code",
   "execution_count": 53,
   "metadata": {},
   "outputs": [
    {
     "data": {
      "text/plain": [
       "<matplotlib.image.AxesImage at 0x1a1cc6ba90>"
      ]
     },
     "execution_count": 53,
     "metadata": {},
     "output_type": "execute_result"
    },
    {
     "data": {
      "image/png": "[encoded data removed]",
      "text/plain": [
       "<Figure size 288x288 with 1 Axes>"
      ]
     },
     "metadata": {
      "needs_background": "light"
     },
     "output_type": "display_data"
    }
   ],
   "source": [
    "plt.matshow(conf_mx, cmap=plt.cm.gray)"
   ]
  },
  {
   "cell_type": "code",
   "execution_count": 54,
   "metadata": {},
   "outputs": [],
   "source": [
    "# lets just look at the errors\n",
    "row_sums = conf_mx.sum(axis=1, keepdims=True)\n",
    "conf_mx_norm = conf_mx / row_sums.astype(np.float)\n",
    "# now fill the diaganol with 0\n",
    "np.fill_diagonal(conf_mx_norm, 0)\n"
   ]
  },
  {
   "cell_type": "code",
   "execution_count": 55,
   "metadata": {},
   "outputs": [
    {
     "data": {
      "text/plain": [
       "<matplotlib.image.AxesImage at 0x1a1cd14450>"
      ]
     },
     "execution_count": 55,
     "metadata": {},
     "output_type": "execute_result"
    },
    {
     "data": {
      "image/png": "[encoded data removed]",
      "text/plain": [
       "<Figure size 288x288 with 1 Axes>"
      ]
     },
     "metadata": {
      "needs_background": "light"
     },
     "output_type": "display_data"
    }
   ],
   "source": [
    "plt.matshow(conf_mx_norm, cmap=plt.cm.gray)"
   ]
  },
  {
   "cell_type": "markdown",
   "metadata": {},
   "source": [
    "As you can see here the some digits are commonly mistaken for others. e.g. 5 for 3, 5 for 8 ect."
   ]
  },
  {
   "cell_type": "markdown",
   "metadata": {},
   "source": [
    "# Lets see what accuracy we can get with KNN"
   ]
  },
  {
   "cell_type": "code",
   "execution_count": 56,
   "metadata": {},
   "outputs": [],
   "source": [
    "from sklearn.neighbors import KNeighborsClassifier"
   ]
  },
  {
   "cell_type": "code",
   "execution_count": 57,
   "metadata": {},
   "outputs": [],
   "source": [
    "from sklearn.model_selection import GridSearchCV\n",
    "\n",
    "def KNN_finetune(): #This takes a long time\n",
    "    param_grid = [\n",
    "    {'n_neighbors':[2, 5], 'weights': ['uniform', 'distance']}\n",
    "    ]\n",
    "\n",
    "    grid_search = GridSearchCV(KNN, param_grid, cv=5, scoring='accuracy')\n",
    "    grid_search.fit(data_dict['X_train'], data_dict['Y_train'])\n",
    "    print('Best Params:  ', grid_search.best_params_)\n",
    "    KNN_tuned = grid_search.best_estimator_\n",
    "    acc = cross_val_score(KNN_tuned, data_dict['X_train'], data_dict['Y_train'], scoring='accuracy', cv=3)\n",
    "    joblib.dump(KNN_tuned, 'MNIST_KNNC_tuned.pkl')\n",
    "    return acc, KNN_tuned\n",
    "\n"
   ]
  },
  {
   "cell_type": "code",
   "execution_count": 58,
   "metadata": {},
   "outputs": [],
   "source": [
    "def add_image_shift(X_train, Y_train): \n",
    "    samp_range = np.arange(60000)\n",
    "    rand_index = np.random.permutation(samp_range)\n",
    "    \n",
    "    left = X_train[rand_index[:15000]]\n",
    "    right = X_train[rand_index[15000:30000]]\n",
    "    up = X_train[rand_index[30000:45000]]\n",
    "    down = X_train[rand_index[45000:60000]]\n",
    "    \n",
    "    samps = [left, right, up, down]\n",
    "    samps_shift = [left, right, up, down]\n",
    "    \n",
    "    samps_shift[0] = np.roll(samps[0], 3)\n",
    "    samps_shift[1] = np.roll(samps[1], -3)\n",
    "    samps_shift[2] = np.roll(samps[2], 3, axis=1)\n",
    "    samps_shift[3] = np.roll(samps[3], -3, axis=1)\n",
    "    \n",
    "    samp_shift_con = np.concatenate(samps_shift)\n",
    "    \n",
    "    final_X = np.concatenate((X_train, samp_shift_con), axis=0)\n",
    "    \n",
    "    random_y = Y_train[rand_index]\n",
    "    final_Y = np.concatenate((Y_train, random_y), axis=0)\n",
    "    \n",
    "    return final_X, final_Y\n",
    "    \n",
    "    "
   ]
  },
  {
   "cell_type": "code",
   "execution_count": 59,
   "metadata": {},
   "outputs": [
    {
     "data": {
      "text/plain": [
       "KNeighborsClassifier(algorithm='auto', leaf_size=30, metric='minkowski',\n",
       "           metric_params=None, n_jobs=None, n_neighbors=5, p=2,\n",
       "           weights='uniform')"
      ]
     },
     "execution_count": 59,
     "metadata": {},
     "output_type": "execute_result"
    }
   ],
   "source": [
    "KNN = KNeighborsClassifier()\n",
    "KNN.fit(data_dict['X_train'], data_dict['Y_train'])"
   ]
  },
  {
   "cell_type": "code",
   "execution_count": null,
   "metadata": {},
   "outputs": [],
   "source": [
    "accuracy = cross_val_score(KNN, data_dict['X_train'], data_dict['Y_train'], cv=3, scoring='neg_mean_squared_error')"
   ]
  },
  {
   "cell_type": "code",
   "execution_count": null,
   "metadata": {},
   "outputs": [],
   "source": []
  },
  {
   "cell_type": "code",
   "execution_count": null,
   "metadata": {},
   "outputs": [],
   "source": []
  },
  {
   "cell_type": "code",
   "execution_count": null,
   "metadata": {},
   "outputs": [],
   "source": []
  },
  {
   "cell_type": "code",
   "execution_count": null,
   "metadata": {},
   "outputs": [],
   "source": []
  },
  {
   "cell_type": "code",
   "execution_count": null,
   "metadata": {},
   "outputs": [],
   "source": []
  },
  {
   "cell_type": "code",
   "execution_count": null,
   "metadata": {},
   "outputs": [],
   "source": [
    "\n"
   ]
  },
  {
   "cell_type": "code",
   "execution_count": null,
   "metadata": {},
   "outputs": [],
   "source": []
  },
  {
   "cell_type": "code",
   "execution_count": null,
   "metadata": {},
   "outputs": [],
   "source": []
  },
  {
   "cell_type": "code",
   "execution_count": null,
   "metadata": {},
   "outputs": [],
   "source": []
  },
  {
   "cell_type": "code",
   "execution_count": 108,
   "metadata": {},
   "outputs": [],
   "source": [
    "\n",
    "    "
   ]
  },
  {
   "cell_type": "code",
   "execution_count": null,
   "metadata": {},
   "outputs": [],
   "source": [
    "\n"
   ]
  },
  {
   "cell_type": "code",
   "execution_count": null,
   "metadata": {},
   "outputs": [],
   "source": []
  },
  {
   "cell_type": "code",
   "execution_count": null,
   "metadata": {},
   "outputs": [],
   "source": []
  },
  {
   "cell_type": "code",
   "execution_count": null,
   "metadata": {},
   "outputs": [],
   "source": []
  },
  {
   "cell_type": "code",
   "execution_count": null,
   "metadata": {},
   "outputs": [],
   "source": []
  },
  {
   "cell_type": "code",
   "execution_count": null,
   "metadata": {},
   "outputs": [],
   "source": []
  },
  {
   "cell_type": "code",
   "execution_count": null,
   "metadata": {},
   "outputs": [],
   "source": []
  },
  {
   "cell_type": "code",
   "execution_count": null,
   "metadata": {},
   "outputs": [],
   "source": []
  }
 ],
 "metadata": {
  "kernelspec": {
   "display_name": "Python 2",
   "language": "python",
   "name": "python2"
  }
 },
 "nbformat": 4,
 "nbformat_minor": 2
}
