{
 "cells": [
  {
   "cell_type": "code",
   "execution_count": 70,
   "metadata": {},
   "outputs": [],
   "source": [
    "import pandas as pd\n",
    "import numpy as np\n",
    "\n"
   ]
  },
  {
   "cell_type": "markdown",
   "metadata": {},
   "source": [
    "# Data Sampling"
   ]
  },
  {
   "cell_type": "code",
   "execution_count": null,
   "metadata": {},
   "outputs": [],
   "source": []
  },
  {
   "cell_type": "code",
   "execution_count": 71,
   "metadata": {},
   "outputs": [
    {
     "data": {
      "text/html": [
       "<div>\n",
       "<style scoped>\n",
       "    .dataframe tbody tr th:only-of-type {\n",
       "        vertical-align: middle;\n",
       "    }\n",
       "\n",
       "    .dataframe tbody tr th {\n",
       "        vertical-align: top;\n",
       "    }\n",
       "\n",
       "    .dataframe thead th {\n",
       "        text-align: right;\n",
       "    }\n",
       "</style>\n",
       "<table border=\"1\" class=\"dataframe\">\n",
       "  <thead>\n",
       "    <tr style=\"text-align: right;\">\n",
       "      <th></th>\n",
       "      <th>longitude</th>\n",
       "      <th>latitude</th>\n",
       "      <th>housing_median_age</th>\n",
       "      <th>total_rooms</th>\n",
       "      <th>total_bedrooms</th>\n",
       "      <th>population</th>\n",
       "      <th>households</th>\n",
       "      <th>median_income</th>\n",
       "      <th>median_house_value</th>\n",
       "      <th>ocean_proximity</th>\n",
       "    </tr>\n",
       "  </thead>\n",
       "  <tbody>\n",
       "    <tr>\n",
       "      <th>0</th>\n",
       "      <td>-122.23</td>\n",
       "      <td>37.88</td>\n",
       "      <td>41.0</td>\n",
       "      <td>880.0</td>\n",
       "      <td>129.0</td>\n",
       "      <td>322.0</td>\n",
       "      <td>126.0</td>\n",
       "      <td>8.3252</td>\n",
       "      <td>452600.0</td>\n",
       "      <td>NEAR BAY</td>\n",
       "    </tr>\n",
       "    <tr>\n",
       "      <th>1</th>\n",
       "      <td>-122.22</td>\n",
       "      <td>37.86</td>\n",
       "      <td>21.0</td>\n",
       "      <td>7099.0</td>\n",
       "      <td>1106.0</td>\n",
       "      <td>2401.0</td>\n",
       "      <td>1138.0</td>\n",
       "      <td>8.3014</td>\n",
       "      <td>358500.0</td>\n",
       "      <td>NEAR BAY</td>\n",
       "    </tr>\n",
       "    <tr>\n",
       "      <th>2</th>\n",
       "      <td>-122.24</td>\n",
       "      <td>37.85</td>\n",
       "      <td>52.0</td>\n",
       "      <td>1467.0</td>\n",
       "      <td>190.0</td>\n",
       "      <td>496.0</td>\n",
       "      <td>177.0</td>\n",
       "      <td>7.2574</td>\n",
       "      <td>352100.0</td>\n",
       "      <td>NEAR BAY</td>\n",
       "    </tr>\n",
       "    <tr>\n",
       "      <th>3</th>\n",
       "      <td>-122.25</td>\n",
       "      <td>37.85</td>\n",
       "      <td>52.0</td>\n",
       "      <td>1274.0</td>\n",
       "      <td>235.0</td>\n",
       "      <td>558.0</td>\n",
       "      <td>219.0</td>\n",
       "      <td>5.6431</td>\n",
       "      <td>341300.0</td>\n",
       "      <td>NEAR BAY</td>\n",
       "    </tr>\n",
       "    <tr>\n",
       "      <th>4</th>\n",
       "      <td>-122.25</td>\n",
       "      <td>37.85</td>\n",
       "      <td>52.0</td>\n",
       "      <td>1627.0</td>\n",
       "      <td>280.0</td>\n",
       "      <td>565.0</td>\n",
       "      <td>259.0</td>\n",
       "      <td>3.8462</td>\n",
       "      <td>342200.0</td>\n",
       "      <td>NEAR BAY</td>\n",
       "    </tr>\n",
       "  </tbody>\n",
       "</table>\n",
       "</div>"
      ],
      "text/plain": [
       "   longitude  latitude  housing_median_age  total_rooms  total_bedrooms  \\\n",
       "0    -122.23     37.88                41.0        880.0           129.0   \n",
       "1    -122.22     37.86                21.0       7099.0          1106.0   \n",
       "2    -122.24     37.85                52.0       1467.0           190.0   \n",
       "3    -122.25     37.85                52.0       1274.0           235.0   \n",
       "4    -122.25     37.85                52.0       1627.0           280.0   \n",
       "\n",
       "   population  households  median_income  median_house_value ocean_proximity  \n",
       "0       322.0       126.0         8.3252            452600.0        NEAR BAY  \n",
       "1      2401.0      1138.0         8.3014            358500.0        NEAR BAY  \n",
       "2       496.0       177.0         7.2574            352100.0        NEAR BAY  \n",
       "3       558.0       219.0         5.6431            341300.0        NEAR BAY  \n",
       "4       565.0       259.0         3.8462            342200.0        NEAR BAY  "
      ]
     },
     "execution_count": 71,
     "metadata": {},
     "output_type": "execute_result"
    }
   ],
   "source": [
    "\n",
    "\n",
    "data = pd.read_csv('Datasets/housing.csv')\n",
    "data.head()\n",
    "\n"
   ]
  },
  {
   "cell_type": "code",
   "execution_count": 72,
   "metadata": {},
   "outputs": [
    {
     "data": {
      "text/plain": [
       "[]"
      ]
     },
     "execution_count": 72,
     "metadata": {},
     "output_type": "execute_result"
    },
    {
     "data": {
      "image/png": "[encoded data removed]",
      "text/plain": [
       "<Figure size 432x288 with 1 Axes>"
      ]
     },
     "metadata": {
      "needs_background": "light"
     },
     "output_type": "display_data"
    }
   ],
   "source": [
    "data[\"median_income\"].hist(bins=50).plot()"
   ]
  },
  {
   "cell_type": "code",
   "execution_count": 73,
   "metadata": {},
   "outputs": [
    {
     "data": {
      "text/plain": [
       "[]"
      ]
     },
     "execution_count": 73,
     "metadata": {},
     "output_type": "execute_result"
    },
    {
     "data": {
      "image/png": "[encoded data removed]",
      "text/plain": [
       "<Figure size 432x288 with 1 Axes>"
      ]
     },
     "metadata": {
      "needs_background": "light"
     },
     "output_type": "display_data"
    }
   ],
   "source": [
    "data[\"income_cat\"] = pd.cut(data[\"median_income\"], bins=[0.0, 1.5, 3.0, 4.5, 6.0, np.inf], labels=[1, 2, 3, 4, 5])\n",
    "\n",
    "\n",
    "data[\"income_cat\"].hist().plot()"
   ]
  },
  {
   "cell_type": "code",
   "execution_count": 74,
   "metadata": {},
   "outputs": [
    {
     "name": "stdout",
     "output_type": "stream",
     "text": [
      "('test length: ', 16512)\n",
      "('train length: ', 4128)\n"
     ]
    }
   ],
   "source": [
    "from sklearn.model_selection import StratifiedShuffleSplit\n",
    "\n",
    "selection = StratifiedShuffleSplit(n_splits = 1, test_size=0.2, random_state=42)\n",
    "for test_index, train_index in selection.split(data, data['income_cat']): \n",
    "    test_data = data.loc[test_index]\n",
    "    train_data = data.loc[train_index]\n",
    "    \n",
    "print(\"test length: \", len(test_data))\n",
    "print(\"train length: \", len(train_data))"
   ]
  },
  {
   "cell_type": "code",
   "execution_count": 75,
   "metadata": {},
   "outputs": [
    {
     "data": {
      "text/plain": [
       "Text(0.5,0,'income_cat_dist for test data')"
      ]
     },
     "execution_count": 75,
     "metadata": {},
     "output_type": "execute_result"
    },
    {
     "data": {
      "image/png": "[encoded data removed]",
      "text/plain": [
       "<Figure size 864x504 with 2 Axes>"
      ]
     },
     "metadata": {
      "needs_background": "light"
     },
     "output_type": "display_data"
    }
   ],
   "source": [
    "income_cat_dist_test = test_data[\"income_cat\"].value_counts()/len(test_data[\"income_cat\"])\n",
    "income_cat_dist_train = train_data[\"income_cat\"].value_counts()/len(train_data[\"income_cat\"])\n",
    "\n",
    "import matplotlib.pyplot as plt\n",
    "fig = plt.figure(figsize=(12,7))\n",
    "ax1 = fig.add_subplot(2, 2, 1)\n",
    "ax2 = fig.add_subplot(2, 2, 2)\n",
    "\n",
    "\n",
    "_=ax1.bar([1,2,3,4,5], income_cat_dist_train.sort_index().values)\n",
    "_1 = ax2.bar([1, 2, 3, 4, 5], income_cat_dist_test.sort_index().values)\n",
    "ax1.set_xlabel(\"income_cat_dist for training data\")\n",
    "ax2.set_xlabel(\"income_cat_dist for test data\")"
   ]
  },
  {
   "cell_type": "markdown",
   "metadata": {},
   "source": [
    "***as you can see above the income_cat distributions between the testing and training data sets are now equal***"
   ]
  },
  {
   "cell_type": "code",
   "execution_count": 173,
   "metadata": {},
   "outputs": [
    {
     "name": "stdout",
     "output_type": "stream",
     "text": [
      "('ready_testdata  ', (16512, 9))\n",
      "('ready_traindata  ', (4128, 9))\n"
     ]
    }
   ],
   "source": [
    "\n",
    "cat_attribs = [\"ocean_proximity\"]\n",
    "num_attribs = list(housing_num_train.keys())\n",
    "\n",
    "houseing = train_data.copy()\n",
    "housing_labels = train_data[\"median_house_value\"]\n",
    "\n",
    "\n",
    "print(\"ready_testdata  \", ready_testdata.shape)\n",
    "print(\"ready_traindata  \", ready_traindata.shape)"
   ]
  },
  {
   "cell_type": "code",
   "execution_count": 156,
   "metadata": {},
   "outputs": [],
   "source": [
    "from sklearn.pipeline import Pipeline, FeatureUnion\n",
    "from sklearn.preprocessing import StandardScaler\n",
    "\n",
    "try:\n",
    "    from sklearn.impute import SimpleImputer\n",
    "except ImportError:\n",
    "    from sklearn.preprocessing import Imputer as SimpleImputer\n",
    "\n",
    "try:\n",
    "    from sklearn.preprocessing import OrdinalEncoder\n",
    "    from sklearn.preprocessing import OneHotEncoder\n",
    "except ImportError:\n",
    "    from future_encoders import OneHotEncoder\n",
    "    \n",
    "from sklearn.base import BaseEstimator, TransformerMixin\n",
    "from sklearn.preprocessing import CategoricalEncoder\n",
    "\n",
    "\n",
    "rooms_ix, bedrooms_ix, population_ix, households_ix = 3, 4, 5, 6"
   ]
  },
  {
   "cell_type": "code",
   "execution_count": 157,
   "metadata": {},
   "outputs": [],
   "source": [
    "class CombinedAttributesAdder(BaseEstimator, TransformerMixin):\n",
    "    def __init__(self, add_bedrooms_per_room = True):\n",
    "        self.add_bedrooms_per_room = add_bedrooms_per_room\n",
    "    def fit(self, X, y=None):\n",
    "        return self\n",
    "    def transform(self, X, y=None):\n",
    "        rooms_per_household = X[:, rooms_ix]/ X[:, households_ix]\n",
    "        population_per_household = X[:, population_ix] / X[:, households_ix]\n",
    "        if self.add_bedrooms_per_room:\n",
    "            bedrooms_per_room = X[:, bedrooms_ix] / X[:, rooms_ix]\n",
    "            return np.c_[X, rooms_per_household, population_per_household, bedrooms_per_room]\n",
    "        else: \n",
    "            return np.c_[X, rooms_per_household, population_per_household]"
   ]
  },
  {
   "cell_type": "code",
   "execution_count": 158,
   "metadata": {},
   "outputs": [],
   "source": [
    "class DataFrameSelector(BaseEstimator, TransformerMixin):\n",
    "    def __init__(self, attribute_names):\n",
    "        self.attribute_names = attribute_names\n",
    "    def fit(self, X, y=None): \n",
    "        return self \n",
    "    def transform(self, X):\n",
    "        return X[self.attribute_names].values"
   ]
  },
  {
   "cell_type": "code",
   "execution_count": 159,
   "metadata": {},
   "outputs": [],
   "source": [
    "\n"
   ]
  },
  {
   "cell_type": "code",
   "execution_count": 4,
   "metadata": {},
   "outputs": [
    {
     "ename": "NameError",
     "evalue": "name 'BaseEstimator' is not defined",
     "output_type": "error",
     "traceback": [
      "\u001b[0;31m---------------------------------------------------------------------------\u001b[0m",
      "\u001b[0;31mNameError\u001b[0m                                 Traceback (most recent call last)",
      "\u001b[0;32m<ipython-input-4-a6e5db5c6060>\u001b[0m in \u001b[0;36m<module>\u001b[0;34m()\u001b[0m\n\u001b[0;32m----> 1\u001b[0;31m \u001b[0;32mclass\u001b[0m \u001b[0mdrop_columns\u001b[0m\u001b[0;34m(\u001b[0m\u001b[0mBaseEstimator\u001b[0m\u001b[0;34m,\u001b[0m \u001b[0mTransformerMixin\u001b[0m\u001b[0;34m)\u001b[0m\u001b[0;34m:\u001b[0m\u001b[0;34m\u001b[0m\u001b[0m\n\u001b[0m\u001b[1;32m      2\u001b[0m     \u001b[0;32mdef\u001b[0m \u001b[0m__init__\u001b[0m\u001b[0;34m(\u001b[0m\u001b[0mself\u001b[0m\u001b[0;34m,\u001b[0m \u001b[0mbadcols\u001b[0m\u001b[0;34m)\u001b[0m\u001b[0;34m:\u001b[0m\u001b[0;34m\u001b[0m\u001b[0m\n\u001b[1;32m      3\u001b[0m         \u001b[0mself\u001b[0m\u001b[0;34m.\u001b[0m\u001b[0mdrop_columns\u001b[0m \u001b[0;34m=\u001b[0m \u001b[0mbadcols\u001b[0m\u001b[0;34m\u001b[0m\u001b[0m\n\u001b[1;32m      4\u001b[0m     \u001b[0;32mdef\u001b[0m \u001b[0mfit\u001b[0m\u001b[0;34m(\u001b[0m\u001b[0mself\u001b[0m\u001b[0;34m,\u001b[0m \u001b[0mX\u001b[0m\u001b[0;34m,\u001b[0m \u001b[0my\u001b[0m\u001b[0;34m=\u001b[0m\u001b[0mNone\u001b[0m\u001b[0;34m)\u001b[0m\u001b[0;34m:\u001b[0m\u001b[0;34m\u001b[0m\u001b[0m\n\u001b[1;32m      5\u001b[0m         \u001b[0;32mreturn\u001b[0m \u001b[0mself\u001b[0m\u001b[0;34m\u001b[0m\u001b[0m\n",
      "\u001b[0;31mNameError\u001b[0m: name 'BaseEstimator' is not defined"
     ]
    }
   ],
   "source": [
    "class drop_columns(BaseEstimator, TransformerMixin):\n",
    "    def __init__(self, badcols):\n",
    "        self.drop_columns = badcols\n",
    "    def fit(self, X, y=None):\n",
    "        return self\n",
    "    def transform(self, X):\n",
    "        return X.drop(badcols)\n",
    "        "
   ]
  },
  {
   "cell_type": "code",
   "execution_count": 160,
   "metadata": {},
   "outputs": [],
   "source": [
    "num_pipeline = Pipeline([\n",
    "    ('selector', DataFrameSelector(num_attribs)),\n",
    "    ('imputer', SimpleImputer(strategy='median')),\n",
    "    ('attribs_adder', CombinedAttributesAdder()),\n",
    "    ('std_scaler', StandardScaler())\n",
    "])"
   ]
  },
  {
   "cell_type": "code",
   "execution_count": 161,
   "metadata": {},
   "outputs": [],
   "source": [
    "cat_pipeline = Pipeline([\n",
    "    ('selector', DataFrameSelector(cat_attribs)),\n",
    "    ('Dummy Encoder', OneHotEncoder(sparse=False))\n",
    "])"
   ]
  },
  {
   "cell_type": "code",
   "execution_count": 162,
   "metadata": {},
   "outputs": [],
   "source": [
    "from sklearn.pipeline import FeatureUnion "
   ]
  },
  {
   "cell_type": "code",
   "execution_count": 163,
   "metadata": {},
   "outputs": [],
   "source": [
    "full_pipeline = FeatureUnion(transformer_list=[(\"num_pipeline\", num_pipeline), \n",
    "                                             (\"cat_pipeline\", cat_pipeline),])"
   ]
  },
  {
   "cell_type": "code",
   "execution_count": 194,
   "metadata": {},
   "outputs": [
    {
     "data": {
      "text/plain": [
       "(4128, 18)"
      ]
     },
     "execution_count": 194,
     "metadata": {},
     "output_type": "execute_result"
    }
   ],
   "source": [
    "prepared_traindata = full_pipeline.fit_transform(housing)\n",
    "some_data=housing.iloc[:8]\n",
    "some_data_labels = housing_labels[:8]\n",
    "some_test_data = full_pipeline.fit_transform(some_data)\n",
    "prepared_traindata.shape"
   ]
  },
  {
   "cell_type": "code",
   "execution_count": 193,
   "metadata": {},
   "outputs": [
    {
     "data": {
      "text/plain": [
       "(5, 15)"
      ]
     },
     "execution_count": 193,
     "metadata": {},
     "output_type": "execute_result"
    }
   ],
   "source": [
    "some_test_data.shape"
   ]
  },
  {
   "cell_type": "code",
   "execution_count": 169,
   "metadata": {},
   "outputs": [
    {
     "data": {
      "text/plain": [
       "LinearRegression(copy_X=True, fit_intercept=True, n_jobs=None,\n",
       "         normalize=False)"
      ]
     },
     "execution_count": 169,
     "metadata": {},
     "output_type": "execute_result"
    }
   ],
   "source": [
    "from sklearn.linear_model import LinearRegression\n",
    "lin_reg = LinearRegression()\n",
    "lin_reg.fit(prepared_traindata, housing_train_labels )"
   ]
  },
  {
   "cell_type": "code",
   "execution_count": 239,
   "metadata": {},
   "outputs": [],
   "source": [
    "some_data = housing.iloc[:1000]\n",
    "some_labels = housing_labels[:1000]\n"
   ]
  },
  {
   "cell_type": "code",
   "execution_count": 240,
   "metadata": {},
   "outputs": [
    {
     "data": {
      "text/plain": [
       "['longitude',\n",
       " 'latitude',\n",
       " 'housing_median_age',\n",
       " 'total_rooms',\n",
       " 'total_bedrooms',\n",
       " 'population',\n",
       " 'households',\n",
       " 'median_income',\n",
       " 'median_house_value',\n",
       " 'ocean_proximity',\n",
       " 'income_cat']"
      ]
     },
     "execution_count": 240,
     "metadata": {},
     "output_type": "execute_result"
    }
   ],
   "source": [
    "list(housing.columns)"
   ]
  },
  {
   "cell_type": "code",
   "execution_count": 241,
   "metadata": {},
   "outputs": [
    {
     "data": {
      "text/plain": [
       "['longitude',\n",
       " 'latitude',\n",
       " 'housing_median_age',\n",
       " 'total_rooms',\n",
       " 'total_bedrooms',\n",
       " 'population',\n",
       " 'households',\n",
       " 'median_income',\n",
       " 'median_house_value',\n",
       " 'ocean_proximity',\n",
       " 'income_cat']"
      ]
     },
     "execution_count": 241,
     "metadata": {},
     "output_type": "execute_result"
    }
   ],
   "source": [
    "list(some_data.columns)"
   ]
  },
  {
   "cell_type": "code",
   "execution_count": 242,
   "metadata": {},
   "outputs": [
    {
     "data": {
      "text/plain": [
       "(1000, 11)"
      ]
     },
     "execution_count": 242,
     "metadata": {},
     "output_type": "execute_result"
    }
   ],
   "source": [
    "some_data.shape"
   ]
  },
  {
   "cell_type": "code",
   "execution_count": 243,
   "metadata": {},
   "outputs": [
    {
     "data": {
      "text/plain": [
       "(1000, 18)"
      ]
     },
     "execution_count": 243,
     "metadata": {},
     "output_type": "execute_result"
    }
   ],
   "source": [
    "some_data_prepared = full_pipeline.fit_transform(some_data)\n",
    "some_data_prepared.shape"
   ]
  },
  {
   "cell_type": "code",
   "execution_count": 244,
   "metadata": {},
   "outputs": [
    {
     "name": "stdout",
     "output_type": "stream",
     "text": [
      "('Predictions: ', array([500446.79168471, 240253.82642914, 218111.96123745, 181943.57510984,\n",
      "       121028.39847387, 120327.07242707,  71935.57519817, 500446.79168471,\n",
      "        98585.96497641,  82255.08702959, 399655.21792229,  78247.50961933,\n",
      "       212401.16342783, 173928.42028932, 258087.54590481, 121128.58790913,\n",
      "       221818.97034194, 334832.65331131, 337537.76806324, 340543.45112093,\n",
      "       184648.68986177, 272715.20345226, 179839.59696946,  71835.38576291,\n",
      "       274418.42385162, 212401.16342783, 400256.35453383, 251575.23261313,\n",
      "       208694.15432334, 104897.89939757, 350161.63690556, 181743.19623933,\n",
      "       300066.9192773 , 203684.68256051, 158098.48951879, 412178.89732936,\n",
      "       203584.49312525, 223021.24356502,  67126.48230586,  74440.31107958,\n",
      "       171724.25271368, 240854.96304068, 343248.56587286, 267705.73168943,\n",
      "       373605.96475559, 186953.04687267,  55805.07612187,  59211.51692059,\n",
      "        55504.5078161 , 292151.95389203, 180240.35471048,  82956.41307639,\n",
      "       271913.68797021, 260692.47122148, 500446.79168471, 225926.73718746,\n",
      "       346955.57497735, 115317.60066425, 335233.41105234, 143170.26366556,\n",
      "       228932.42024516, 500446.79168471, 333430.00121772, 190459.67710665,\n",
      "       248168.79181441, 187353.8046137 , 122631.42943797, 137259.08698543,\n",
      "       332929.05404144, 397250.67147613, 500446.79168471, 308182.26353307,\n",
      "       191561.76089447, 104897.89939757, 421897.27254924, 218111.96123745,\n",
      "        88466.8320155 , 100589.75368154,  68128.37665842,  54903.37120456,\n",
      "       196971.99039832, 343148.3764376 , 166814.97038611,  95880.85022448,\n",
      "       331626.5913831 , 248569.54955544, 500446.79168471, 194868.01225794,\n",
      "       237949.46941824, 158900.00500084, 143571.02140659, 314394.00851898,\n",
      "        84359.06516998,  74039.55333856, 127741.09063606, 163909.47676367,\n",
      "        75141.63712638, 173728.04141881, 239051.55320607, 267104.5950779 ,\n",
      "       160903.79370597,  84058.49686421, 176433.15617073,  65222.88303598,\n",
      "       288945.89196382, 348358.22707094,  95981.03965974, 188756.45670729,\n",
      "       128342.2272476 , 234442.83918427,  80952.62437126, 283335.28358945,\n",
      "        52198.25645263,  81153.00324177,  76243.7209142 , 112211.7281713 ,\n",
      "       224924.8428349 , 114916.84292322, 172926.52593675, 186752.66800216,\n",
      "       296159.53130229, 312490.40924911, 118523.66259246, 297461.99396063,\n",
      "        70833.49141035,  63219.09433085, 184548.50042651, 162005.87749379,\n",
      "       218212.15067271, 115818.54784053, 320605.75350488, 304775.82273435,\n",
      "       132650.37296363, 500446.79168471, 270811.60418239, 151586.17622711,\n",
      "       106100.17262065, 123132.37661426,  98485.77554115, 116119.1161463 ,\n",
      "       156094.70081366, 326015.98300874, 327619.01397284, 215907.79366181,\n",
      "       171824.44214893, 201981.46216115, 500446.79168471, 500446.79168471,\n",
      "       363787.40010045, 446944.63136337, 331025.45477156, 179539.02866369,\n",
      "       187353.8046137 ,  96181.41853025, 169119.32739701, 187353.8046137 ,\n",
      "       166113.64433931, 380018.08861201, 185249.82647331,  67226.67174111,\n",
      "       500446.79168471, 302170.89741768, 126538.81741298, 177234.67165279,\n",
      "       500446.79168471, 230936.20895029, 338038.71523952, 339541.55676837,\n",
      "       266703.83733687, 167616.48586816,  72536.71180971, 168618.38022072,\n",
      "       250172.58051954, 156395.26911943, 112211.7281713 , 142669.31648928,\n",
      "       123633.32379054, 181943.57510984,  71033.87028086, 148780.87203993,\n",
      "       241556.28908748, 119826.12525079,  80652.05606549, 146175.94672326,\n",
      "       267505.35281892,  74440.31107958, 156295.07968417, 193465.36016434,\n",
      "       156094.70081366, 154090.91210853, 295257.82638498, 110107.75003091,\n",
      "       224924.8428349 , 267004.40564264, 253579.02131826, 266303.07959584,\n",
      "       225626.16888169, 228932.42024516, 244662.16158043, 375208.9957197 ,\n",
      "       500446.79168471,  60313.60070841, 218512.71897848, 181142.05962779,\n",
      "       166514.40208034, 314794.76626001, 192563.65524703, 171924.63158419,\n",
      "       500445.78979036,  92274.03055525, 104998.08883282, 342947.99756709,\n",
      "       500446.79168471, 167716.67530341, 250974.09600159, 170221.41118483,\n",
      "        91973.46224948, 276021.45481573, 232939.99765542, 159701.52048289,\n",
      "       228832.2308099 ,  78447.88848984, 229433.36742144, 193665.73903486,\n",
      "       131648.47861106, 153589.96493224, 208193.20714705, 500446.79168471,\n",
      "       180641.11245151, 131347.91030529, 233240.56596119, 163107.96128161,\n",
      "        75241.82656163, 156094.70081366, 141066.28552518, 355972.62415044,\n",
      "        78948.83566613,  71534.81745714, 227028.82097528, 111209.83381873,\n",
      "       173728.04141881, 341645.53490876, 154792.23815532, 312390.21981385,\n",
      "        82956.41307639,  71534.81745714, 129744.87934119, 337036.82088696,\n",
      "       342847.80813184, 189758.35105985, 108103.96132578, 172726.14706624,\n",
      "       152888.63888545, 218312.34010796, 500446.79168471, 222119.53864771,\n",
      "       442436.10677683, 168117.43304444, 193565.5495996 , 157898.11064827,\n",
      "       164911.37111623, 231737.72443234, 192062.70807075, 211499.45851052,\n",
      "        67126.48230586, 477702.78798713, 170521.9794906 , 281531.87375484,\n",
      "       121028.39847387, 100489.56424628, 146676.89389954, 297762.56226639,\n",
      "        95580.28191871, 156094.70081366,  92173.84111999, 138260.98133799,\n",
      "       133652.26731619, 242858.75174581, 112211.7281713 , 330123.74985426,\n",
      "       298363.69887793, 153289.39662647,  67126.48230586,  60814.54788469,\n",
      "        95981.03965974, 138260.98133799, 241856.85739325, 470388.9592134 ,\n",
      "        87164.36935716, 336235.3054049 ,  63118.90489559, 134553.9722335 ,\n",
      "       199176.15797397, 401258.24888639, 321908.21616322, 277323.91747406,\n",
      "       220616.69711886, 199276.34740922, 114816.65348797, 397350.86091139,\n",
      "       145574.81011172, 296460.09960806, 366993.46202866,  81453.57154754,\n",
      "       222921.05412976, 280229.4110965 , 190259.29823613, 337637.9574985 ,\n",
      "       159400.95217712,  76043.34204369, 337337.38919273,  89969.67354434,\n",
      "       155493.56420212, 252677.31640096,  70432.73366932,  88967.77919178,\n",
      "       351564.28899915, 244762.35101569, 183145.84833292, 129544.50047068,\n",
      "       227529.76815157, 298964.83548947, 500446.79168471, 146676.89389954,\n",
      "        78247.50961933, 129544.50047068, 198474.83192717, 500446.79168471,\n",
      "       108604.90850206, 208994.72262911, 242057.23626376, 190960.62428293,\n",
      "       161705.30918802, 129043.55329439, 173627.85198355, 253779.40018878,\n",
      "       137359.27642069,  73238.0378565 , 118223.09428669, 500446.79168471,\n",
      "        96481.98683602, 466181.00293263,  67427.05061162, 323912.00486835,\n",
      "       148680.68260467, 136457.57150338, 176833.91391176, 152187.31283865,\n",
      "       159501.14161238,  98085.01780012,  66625.53512957, 386330.02303317,\n",
      "       177635.42939381,  90971.56789691, 275720.88650996, 157998.30008353,\n",
      "       256284.13607019, 141867.80100723, 326717.30905553, 352966.94109274,\n",
      "       215507.03592078, 200077.86289127, 286441.15608241, 324412.95204463,\n",
      "       155693.94307263, 262495.8810561 , 231136.5878208 , 387933.05399728,\n",
      "       377413.16329534, 173126.90480727, 220917.26542463,  84960.20178152,\n",
      "        88867.58975652, 262495.8810561 ,  51396.74097058, 263397.5859734 ,\n",
      "       186251.72082587, 228531.66250413, 217009.87744963, 126338.43854247,\n",
      "       218713.09784899, 315195.52400103, 159200.57330661, 121629.53508541,\n",
      "       232238.67160862, 116419.68445207, 141567.23270146, 161304.551447  ,\n",
      "       218111.96123745, 143571.02140659, 159400.95217712, 189457.78275408,\n",
      "        94378.00869563, 196571.2326573 , 121529.34565015, 331225.83364208,\n",
      "       279828.65335548, 139463.25456107, 106400.74092642, 500446.79168471,\n",
      "       163909.47676367, 325114.27809143,  93275.92490781, 170421.79005534,\n",
      "        98485.77554115,  59011.13805008, 168918.94852649,  91873.27281422,\n",
      "        72436.52237445, 100890.32198731,  72636.90124496, 183646.7955092 ,\n",
      "       107603.01414949, 166514.40208034, 500446.79168471, 162306.44579956,\n",
      "       245964.62423877,  96782.55514179, 269909.89926508, 377012.40555431,\n",
      "       235144.16523106, 110408.31833668, 238250.03772401, 114916.84292322,\n",
      "       358276.98116134, 149782.7663925 , 254180.1579298 ,  93977.25095461,\n",
      "        73438.41672702,  70031.97592829, 287943.99761125, 152287.50227391,\n",
      "        58910.94861482, 210798.13246372, 277323.91747406, 231938.10330285,\n",
      "       215106.27817976, 335734.35822862, 131848.85748158, 336435.68427542,\n",
      "       175230.88294765, 122831.80830849,  47689.73186609, 381721.30901137,\n",
      "        98085.01780012, 101190.89029308, 184748.87929703, 179839.59696946,\n",
      "        87164.36935716,  81954.51872382, 218713.09784899, 260391.90291571,\n",
      "       165412.31829251, 210297.18528744, 217009.87744963, 282133.01036638,\n",
      "       500446.79168471, 426806.55487681,  73738.98503279,  88667.21088601,\n",
      "       329222.04493695, 254480.72623557, 284637.74624779, 181943.57510984,\n",
      "       177334.86108804, 293254.03767985, 281932.63149586, 353067.130528  ,\n",
      "       334932.84274657,  87464.93766293, 241355.91021697, 118122.90485143,\n",
      "       190559.8665419 , 142468.93761877, 139463.25456107,  90069.8629796 ,\n",
      "       500446.79168471, 500446.79168471, 450351.0721621 , 286741.72438818,\n",
      "       500446.79168471, 232138.48217337, 190259.29823613, 268507.24717149,\n",
      "       244261.40383941, 126639.00684824, 264800.238067  , 319804.23802283,\n",
      "       224924.8428349 , 130646.5842585 , 162607.01410533, 414984.20151654,\n",
      "        40876.85026864, 109306.23454886, 235645.11240734, 217611.01406117,\n",
      "       128642.79555337, 130947.15256427,  93376.11434307, 266403.2690311 ,\n",
      "       326216.36187925, 141266.66439569, 216709.30914386, 168418.00135021,\n",
      "       108304.34019629,  98585.96497641,  86763.61161614,  79149.21453664,\n",
      "       242257.61513428, 113013.24365335, 130145.63708221,  67126.48230586,\n",
      "       130346.01595273,  68529.13439945,  68128.37665842, 252577.1269657 ,\n",
      "        17031.76467759,  81553.7609828 , 447245.19966914, 143470.83197133,\n",
      "       395747.82994728, 123032.187179  , 275019.56046316, 112612.48591232,\n",
      "       282433.57867215, 212401.16342783, 155493.56420212, 111410.21268924,\n",
      "       179238.46035792,  78648.26736036, 374407.48023764, 210898.32189898,\n",
      "       500446.79168471, 353768.4565748 , 189257.40388357, 188155.32009575,\n",
      "       400256.35453383, 189557.97218934, 190159.10880088, 137960.41303222,\n",
      "       218512.71897848, 112011.34930078, 437426.635014  ,  76844.85752574,\n",
      "       352265.61504595, 175832.01955919, 360881.90647801, 186251.72082587,\n",
      "       229333.17798618, 180641.11245151, 285038.50398882,  67126.48230586,\n",
      "       212200.78455732, 251074.28543685, 153089.01775596,  86863.80105139,\n",
      "       172726.14706624, 131949.04691683, 485717.94280765, 118523.66259246,\n",
      "       118523.66259246, 157296.97403674,  96281.60796551,  87164.36935716,\n",
      "       500446.79168471, 160102.27822392,  67427.05061162, 124535.02870785,\n",
      "       169920.84287906,  75241.82656163, 218011.77180219, 184147.74268549,\n",
      "       170421.79005534, 336636.06314593, 101291.07972833, 166113.64433931,\n",
      "       500446.79168471, 240153.63699389, 155192.99589635, 183246.03776818,\n",
      "       123833.70266105, 100990.51142256, 222319.91751823, 258488.30364583,\n",
      "        99187.10158795,  54001.66628725, 119024.60976874,  55103.75007507,\n",
      "       208994.72262911,  92774.97773153, 154892.42759058, 320104.8063286 ,\n",
      "       316998.93383565,  90270.24185011,  42179.31292698,  48391.05791288,\n",
      "        62517.76828405, 144973.67350018, 295858.96299652,  58610.38030905,\n",
      "       113614.38026489, 212401.16342783, 105699.41487962, 139463.25456107,\n",
      "        89168.15806229, 275921.26538047, 174629.74633612,  69430.83931676,\n",
      "       203384.11425474, 118724.04146297, 178036.18713484, 218713.09784899,\n",
      "       386129.64416266, 157898.11064827,  46387.26920775, 333430.00121772,\n",
      "       130846.96312901, 192463.46581178, 446042.92644606, 181142.05962779,\n",
      "       235444.73353683, 302972.41289973, 263798.34371443,  70232.35479881,\n",
      "       103294.86843346,  70132.16536355, 182845.28002715, 257486.40929327,\n",
      "       238550.60602978,  99688.04876423,  65423.26190649, 496037.45463907,\n",
      "       100188.99594051, 301569.76080614, 222019.34921246, 153289.39662647,\n",
      "       222319.91751823,  91171.94676742, 127240.14345978,  96281.60796551,\n",
      "        99387.48045846, 135054.91940978, 159000.1944361 , 287643.42930549,\n",
      "       112211.7281713 , 162607.01410533, 431315.07946335, 111510.4021245 ,\n",
      "       187053.23630793, 262495.8810561 , 117321.38936938, 260291.71348045,\n",
      "       153990.72267327, 184949.25816754,  94678.5770014 , 250873.90656634,\n",
      "       104897.89939757,  83757.92855844, 368195.73525174, 192363.27637652,\n",
      "       188556.07783677, 500446.79168471, 173828.23085406, 436023.98292041,\n",
      "       140064.39117261, 421095.75706719, 182845.28002715, 154191.10154378,\n",
      "       157497.35290725, 288845.70252856, 246966.51859133,  91071.75733217,\n",
      "       186051.34195536, 500446.79168471,  80952.62437126, 112913.05421809,\n",
      "       139563.44399633, 286641.53495292, 350161.63690556,  67326.86117637,\n",
      "       321006.51124591, 343048.18700235, 102493.35295141, 378515.24708316,\n",
      "       285439.26172984, 500446.79168471,  87164.36935716, 191862.32920024,\n",
      "       107102.06697321, 167015.34925662, 375509.56402546, 500446.79168471,\n",
      "       118623.85202771, 137259.08698543,  52599.01419366,  50795.60435904,\n",
      "       130245.82651747, 125837.49136618, 177735.61882907, 233040.18709067,\n",
      "       161805.49862328, 475398.43097623, 187353.8046137 , 153990.72267327,\n",
      "       185550.39477908, 148079.54599313, 146676.89389954,  61616.06336675,\n",
      "       115117.22179373, 231537.34556183, 259890.95573943, 281030.92657855,\n",
      "       143771.4002771 , 309785.29449718,  94678.5770014 , 500446.79168471,\n",
      "       237348.33280671, 159801.70991815, 329222.04493695,  94578.38756615,\n",
      "        91171.94676742, 171223.30553739, 264098.9120202 , 215907.79366181,\n",
      "       195669.52773999,  95279.71361294, 120727.8301681 , 212000.4056868 ,\n",
      "       116419.68445207, 218713.09784899, 264098.9120202 , 169520.08513803,\n",
      "       195669.52773999, 157497.35290725, 367594.5986402 ,  93476.30377832,\n",
      "        84559.44404049, 147578.59881685, 190860.43484767, 115718.35840527,\n",
      "       194868.01225794, 116620.06332258, 388033.24343253, 481710.36539739,\n",
      "       286641.53495292,  92474.40942576,  71635.0068924 , 347857.27989466,\n",
      "       135956.62432709, 133151.32013991,  70833.49141035, 500446.79168471,\n",
      "        85160.58065203,  66825.91400009, 252877.69527147, 198074.07418614,\n",
      "       185750.77364959, 145775.18898223, 326817.49849079, 129644.68990593,\n",
      "       153690.1543675 , 114315.70631168, 145274.24180595, 500446.79168471,\n",
      "       130045.44764696, 371201.41830943, 150383.90300403, 122831.80830849,\n",
      "       222219.72808297, 122831.80830849, 164610.80281046,  39975.14535133,\n",
      "        92274.03055525, 261594.17613879, 187554.18348421, 225125.22170541,\n",
      "        99688.04876423, 500446.79168471, 275219.93933367, 350161.63690556,\n",
      "       216709.30914386, 152588.07057968, 224023.13791759, 137058.70811492,\n",
      "       238650.79546504, 500446.79168471, 242558.18344005, 141066.28552518,\n",
      "       240754.77360543,  58610.38030905, 316197.4183536 , 293754.98485613,\n",
      "       174830.12520663, 212401.16342783, 118523.66259246, 191862.32920024,\n",
      "       118523.66259246, 162807.39297584,  99688.04876423, 110809.0760777 ,\n",
      "       124735.40757836,  85060.39121677, 137259.08698543, 264599.85919648,\n",
      "       263297.39653815,  70633.11253983, 362084.17970109, 174228.98859509,\n",
      "        72536.71180971, 277323.91747406, 162306.44579956, 333430.00121772,\n",
      "       162306.44579956, 100289.18537577, 169920.84287906, 194567.44395217,\n",
      "       106100.17262065, 311688.89376705, 230735.83007977, 175731.83012394,\n",
      "       201781.08329064, 133852.64618671, 182344.33285087, 344651.21796645,\n",
      "       273416.52949906, 500446.79168471, 256284.13607019, 196971.99039832,\n",
      "       162406.63523482, 137259.08698543, 178236.56600535, 200979.56780858,\n",
      "        64922.31473021, 131047.34199952, 223121.43300028,  87464.93766293,\n",
      "       137659.84472645, 302070.70798243, 184849.06873228, 118523.66259246,\n",
      "       500446.79168471, 248870.11786121, 173828.23085406, 344651.21796645,\n",
      "       103294.86843346, 174629.74633612,  98786.34384692, 229733.93572721,\n",
      "       255682.99945865,  79049.02510138, 500446.79168471, 190459.67710665,\n",
      "       187153.42574318, 397250.67147613, 140665.52778415, 105999.98318539,\n",
      "       220416.31824835, 326717.30905553,  58610.38030905, 417889.69513898,\n",
      "       204886.95578359,  66825.91400009, 189858.54049511,  55203.93951033,\n",
      "       172926.52593675, 320204.99576386, 255883.37832916, 175832.01955919,\n",
      "       422798.97746655, 252777.50583621, 345252.35457799, 130145.63708221,\n",
      "       209595.85924065, 183746.98494446, 109406.42398411, 194367.06508165,\n",
      "        96081.22909499, 135155.10884504, 299465.78266576, 202181.84103166,\n",
      "       187353.8046137 ,  94578.38756615, 222921.05412976, 281531.87375484,\n",
      "        81153.00324177, 133852.64618671, 187353.8046137 , 153389.58606173,\n",
      "       120928.20903861, 161304.551447  , 500446.79168471, 188155.32009575,\n",
      "       159801.70991815, 279928.84279073, 193765.92847011, 183847.17437972,\n",
      "       485717.94280765,  81754.13985331, 174028.60972458, 331125.64420682,\n",
      "        66425.15625906, 380218.46748252, 390237.41100818, 164811.18168098,\n",
      "       248168.79181441, 210196.99585218,  61616.06336675, 309384.53675615,\n",
      "       171223.30553739, 341946.10321453, 253979.77905929, 500446.79168471,\n",
      "       173627.85198355, 364388.53671199,  96982.9340123 ,  54602.80289879,\n",
      "       367895.16694597,  41678.3657507 , 500446.79168471, 193264.98129383,\n",
      "        87164.36935716, 156495.45855468, 199877.48402076, 400256.35453383,\n",
      "        46988.40581929,  90871.37846165, 364488.72614725, 167716.67530341,\n",
      "        69330.6498815 ,  43581.96502057,  92574.59886101, 128943.36385914,\n",
      "       404965.25799089,  60413.79014367, 163608.9084579 ,  65523.45134175,\n",
      "       113914.94857066, 133051.13070465, 367294.03033443, 118623.85202771,\n",
      "       105999.98318539, 237448.52224196, 135956.62432709,  96582.17627128,\n",
      "       325815.60413822,  59912.84296738, 153990.72267327, 340543.45112093,\n",
      "       298463.88831319, 251374.85374262, 238650.79546504, 174830.12520663,\n",
      "        60213.41127315, 208393.58601757, 241355.91021697, 251274.66430736,\n",
      "        74239.93220907, 161504.93031751, 209094.91206436, 248469.36012018,\n",
      "       130446.20538798, 223021.24356502, 500446.79168471, 153990.72267327,\n",
      "       226227.30549323, 126438.62797772, 152988.8283207 , 131949.04691683,\n",
      "       138561.54964376, 176733.7244765 , 309785.29449718,  68729.51326996,\n",
      "       500446.79168471, 113213.62252386, 179038.0814874 , 289647.21801062,\n",
      "       299065.02492473, 236045.87014837, 450351.0721621 , 137860.22359697,\n",
      "        61014.92675521,  64321.17811867, 444339.7060467 , 500446.79168471,\n",
      "       181342.4384983 , 127640.9012008 , 210096.80641693,  81653.95041805,\n",
      "       233340.75539644, 199075.96853871, 233641.32370221, 158699.62613033,\n",
      "       153289.39662647, 178136.37657009,  63018.71546034, 289046.08139908,\n",
      "       172926.52593675, 240354.0158644 , 287543.23987023, 330324.12872477]))\n"
     ]
    }
   ],
   "source": [
    "print(\"Predictions: \", lin_reg.predict(some_data_prepared))"
   ]
  },
  {
   "cell_type": "code",
   "execution_count": null,
   "metadata": {},
   "outputs": [],
   "source": []
  }
 ],
 "metadata": {
  "kernelspec": {
   "display_name": "Python 2",
   "language": "python",
   "name": "python2"
  },
  "language_info": {
   "codemirror_mode": {
    "name": "ipython",
    "version": 2
   },
   "file_extension": ".py",
   "mimetype": "text/x-python",
   "name": "python",
   "nbconvert_exporter": "python",
   "pygments_lexer": "ipython2",
   "version": "2.7.16"
  }
 },
 "nbformat": 4,
 "nbformat_minor": 2
}
