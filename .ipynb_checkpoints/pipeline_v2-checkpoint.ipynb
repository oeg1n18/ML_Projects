{
 "cells": [
  {
   "cell_type": "markdown",
   "metadata": {},
   "source": [
    "# pipline V2"
   ]
  },
  {
   "cell_type": "markdown",
   "metadata": {},
   "source": [
    "***Macros***"
   ]
  },
  {
   "cell_type": "code",
   "execution_count": 1,
   "metadata": {},
   "outputs": [],
   "source": [
    "PATH = \"Datasets/housing.csv\"\n",
    "STRAT_COL = \"median_income\""
   ]
  },
  {
   "cell_type": "code",
   "execution_count": 2,
   "metadata": {},
   "outputs": [],
   "source": [
    "# imports \n",
    "import os\n",
    "import pandas as pd \n",
    "import numpy as np\n",
    "\n",
    "import matplotlib.pyplot as plt\n",
    "\n",
    "from sklearn.model_selection import StratifiedShuffleSplit\n",
    "from sklearn.base import BaseEstimator, TransformerMixin\n",
    "from sklearn.pipeline import Pipeline, FeatureUnion\n",
    "from sklearn.preprocessing import StandardScaler, OneHotEncoder\n",
    "\n",
    "try: \n",
    "    from sklearn.impute import SimpleImputer\n",
    "except ImportError:\n",
    "    from sklearn.preprocessing import Imputer as SimpleImputer\n"
   ]
  },
  {
   "cell_type": "markdown",
   "metadata": {},
   "source": [
    "# Data Preperation methods."
   ]
  },
  {
   "cell_type": "code",
   "execution_count": 3,
   "metadata": {},
   "outputs": [],
   "source": [
    "#imports the dataset from filepath retrns a df object\n",
    "def import_file(filepath):\n",
    "    file = pd.read_csv(filepath)\n",
    "    return file"
   ]
  },
  {
   "cell_type": "code",
   "execution_count": 4,
   "metadata": {},
   "outputs": [],
   "source": [
    "# feature scaling of median_income reduces it to 5 bin catagories returns a new df object\n",
    "def income_cat(df): \n",
    "    df[\"income_cat\"] = pd.cut(df[\"median_income\"], bins=[0., 1.5, 3.0, 4.5, 6.0, np.inf], labels=[1, 2, 3, 4, 5])\n",
    "    df = df.drop([\"median_income\"], axis=\"columns\")\n",
    "    return df"
   ]
  },
  {
   "cell_type": "code",
   "execution_count": 5,
   "metadata": {},
   "outputs": [],
   "source": [
    "# Splits the data into the training and test sets. They will have an equal income_cat distribution\n",
    "def strat_split_data(file):\n",
    "    split = StratifiedShuffleSplit(n_splits=1, test_size=0.2, random_state=42)\n",
    "    for train_index, test_index in split.split(file, file[\"income_cat\"]):\n",
    "        strat_train_set = file.loc[train_index]\n",
    "        strat_test_set = file.loc[test_index]\n",
    "    return strat_train_set, strat_test_set"
   ]
  },
  {
   "cell_type": "code",
   "execution_count": 6,
   "metadata": {},
   "outputs": [],
   "source": [
    "def plot_data(df):\n",
    "    plot = df.plot(kind=\"scatter\", figsize=(12,7), x='latitude',\n",
    "                   y='longitude', c=\"median_house_value\", cmap=plt.get_cmap(\"jet\"),\n",
    "                   s=df['population']/100, sharex=False)\n",
    "    plot.legend()\n",
    "    return plot"
   ]
  },
  {
   "cell_type": "code",
   "execution_count": 7,
   "metadata": {},
   "outputs": [],
   "source": [
    "def plot_features(df):\n",
    "    return df.hist(bins=50, figsize=(20,15))"
   ]
  },
  {
   "cell_type": "code",
   "execution_count": 8,
   "metadata": {},
   "outputs": [],
   "source": [
    "def split_data_labels(df): \n",
    "    data = df.drop([\"median_house_value\"], axis='columns')\n",
    "    labels = df[\"median_house_value\"]\n",
    "    return data, labels"
   ]
  },
  {
   "cell_type": "markdown",
   "metadata": {},
   "source": [
    "## lets collect the methods to just a couple of functions"
   ]
  },
  {
   "cell_type": "code",
   "execution_count": 9,
   "metadata": {},
   "outputs": [],
   "source": [
    "def visualise_data():\n",
    "    data = import_file(PATH)\n",
    "    plot_features(data)\n",
    "    plot_data(data)\n",
    "    "
   ]
  },
  {
   "cell_type": "code",
   "execution_count": null,
   "metadata": {},
   "outputs": [],
   "source": []
  },
  {
   "cell_type": "markdown",
   "metadata": {},
   "source": [
    "# create custom pipeline methods\n"
   ]
  },
  {
   "cell_type": "markdown",
   "metadata": {},
   "source": [
    "* Split DataFrame into catagorical and numeric parts"
   ]
  },
  {
   "cell_type": "code",
   "execution_count": 10,
   "metadata": {},
   "outputs": [
    {
     "data": {
      "text/plain": [
       "['longitude',\n",
       " 'latitude',\n",
       " 'housing_median_age',\n",
       " 'total_rooms',\n",
       " 'total_bedrooms',\n",
       " 'population',\n",
       " 'households',\n",
       " 'median_income',\n",
       " 'median_house_value',\n",
       " 'ocean_proximity']"
      ]
     },
     "execution_count": 10,
     "metadata": {},
     "output_type": "execute_result"
    }
   ],
   "source": [
    "df = import_file(PATH)\n",
    "list(df.keys())"
   ]
  },
  {
   "cell_type": "code",
   "execution_count": 11,
   "metadata": {},
   "outputs": [],
   "source": [
    "def split_cat_num(df): \n",
    "    cat_df = df[\"ocean_proximity\"]\n",
    "    num_df = df.drop([\"ocean_proximity\"], axis=\"columns\")\n",
    "    return cat_df, num_df"
   ]
  },
  {
   "cell_type": "code",
   "execution_count": 12,
   "metadata": {},
   "outputs": [],
   "source": [
    "class CombinedAttributesAdder(BaseEstimator, TransformerMixin):\n",
    "    def __init__(self, add_bedrooms_per_room=True):\n",
    "        self.add_bedrooms_per_room = add_bedrooms_per_room\n",
    "    def fit(self, X, y=None):\n",
    "        return self\n",
    "    def transform(self, X, y=None):\n",
    "        rooms_ix, bedrooms_ix, population_ix, household_ix = [\n",
    "        list(X.columns).index(col)\n",
    "        for col in (\"total_rooms\", \"total_bedrooms\", \"population\", \"households\")]\n",
    "\n",
    "        rooms_per_household = X.iloc[:, rooms_ix] / X.iloc[:, household_ix]\n",
    "        population_per_household = X.iloc[:,household_ix] / X.iloc[:, population_ix]\n",
    "        if self.add_bedrooms_per_room: \n",
    "            bedrooms_per_room = X.iloc[:, rooms_ix] / X.iloc[:, bedrooms_ix]\n",
    "            return np.c_[X, bedrooms_per_room, population_per_household, rooms_per_household]\n",
    "        else: \n",
    "            return np.c_[X, population_per_household, rooms_per_household]"
   ]
  },
  {
   "cell_type": "code",
   "execution_count": 13,
   "metadata": {},
   "outputs": [],
   "source": [
    "class DataFrameSelector(BaseEstimator, TransformerMixin):\n",
    "    def __init__(self, cat_attributes):\n",
    "        self.cat_attributes = cat_attributes\n",
    "    def fit(self, X, y=None):\n",
    "        return self\n",
    "    def transform(self, X, y=None):\n",
    "        selected_cols = []\n",
    "        col_list = list(X.columns)\n",
    "        if self.cat_attributes == False:\n",
    "            for key in col_list:\n",
    "                 if X[key].dtypes == 'float64':\n",
    "                    selected_cols.append(key)\n",
    "            return X[selected_cols]\n",
    "        else: \n",
    "            for key in col_list: \n",
    "                if X[key].dtypes != 'float64':\n",
    "                    selected_cols.append(key)\n",
    "                else:\n",
    "                    pass\n",
    "        return X[selected_cols]"
   ]
  },
  {
   "cell_type": "code",
   "execution_count": null,
   "metadata": {},
   "outputs": [],
   "source": []
  },
  {
   "cell_type": "code",
   "execution_count": 14,
   "metadata": {},
   "outputs": [],
   "source": [
    "class cat_encoder(BaseEstimator, TransformerMixin): \n",
    "    def __init_(self, encode=True): \n",
    "        self.encode = True\n",
    "    def fit(self, X, y=None):\n",
    "        return self\n",
    "    def transform(self, X, y=None):\n",
    "        Y = pd.DataFrame(X)\n",
    "        Y['ocean_proximity_NEAR BAY'] = X['ocean_proximity'].replace(['NEAR BAY', '<1H OCEAN', 'INLAND', 'NEAR OCEAN', 'ISLAND'], \n",
    "                                                                                     [1.0, 0.0, 0.0, 0.0, 0.0])\n",
    "        Y['ocean_proximity_<1H OCEAN'] = X['ocean_proximity'].replace(['NEAR BAY', '<1H OCEAN', 'INLAND', 'NEAR OCEAN', 'ISLAND'], \n",
    "                                                                             [0.0, 1.0, 0.0, 0.0, 0.0])\n",
    "        Y['ocean_proximity_INLAND'] = X['ocean_proximity'].replace(['NEAR BAY', '<1H OCEAN', 'INLAND', 'NEAR OCEAN', 'ISLAND'], \n",
    "                                                                             [0.0, 0.0, 1.0, 0.0, 0.0])\n",
    "        Y['ocean_proximity_NEAR OCEAN'] = X['ocean_proximity'].replace(['NEAR BAY', '<1H OCEAN', 'INLAND', 'NEAR OCEAN', 'ISLAND'], \n",
    "                                                                             [0.0, 0.0, 0.0, 1.0, 0.0])\n",
    "        Y['ocean_proximity_ISLAND'] = X['ocean_proximity'].replace(['NEAR BAY', '<1H OCEAN', 'INLAND', 'NEAR OCEAN', 'ISLAND'], \n",
    "                                                                             [0.0, 0.0, 0.0, 0.0, 1.0])\n",
    "        Y = Y.drop(['ocean_proximity'], axis='columns')\n",
    "        return Y\n",
    "\n"
   ]
  },
  {
   "cell_type": "markdown",
   "metadata": {},
   "source": [
    "***Now to collect the processes together in the pipeline***"
   ]
  },
  {
   "cell_type": "code",
   "execution_count": 15,
   "metadata": {},
   "outputs": [],
   "source": [
    "num_pipeline = Pipeline([\n",
    "    ('df Selector', DataFrameSelector(False)),\n",
    "    ('attribs_adder', CombinedAttributesAdder()),\n",
    "    ('imputer', SimpleImputer(strategy=\"median\")), \n",
    "    ('std_scaler', StandardScaler()),\n",
    "    ])\n"
   ]
  },
  {
   "cell_type": "code",
   "execution_count": 16,
   "metadata": {},
   "outputs": [],
   "source": [
    "cat_pipeline = Pipeline([\n",
    "    ('df Selector', DataFrameSelector(True)), \n",
    "    ('cat_encoder', cat_encoder())\n",
    "])"
   ]
  },
  {
   "cell_type": "code",
   "execution_count": 17,
   "metadata": {},
   "outputs": [],
   "source": [
    "full_pipeline = FeatureUnion([\n",
    "    ('num_pipeline', num_pipeline),\n",
    "    ('cat_pipeline', cat_pipeline),\n",
    "])"
   ]
  },
  {
   "cell_type": "code",
   "execution_count": 18,
   "metadata": {},
   "outputs": [],
   "source": [
    "def data_prep():\n",
    "    data = import_file(PATH)\n",
    "    data1 = income_cat(data)\n",
    "    train_set, test_set = strat_split_data(data1)\n",
    "    \n",
    "    train_set_data, train_set_labels = split_data_labels(train_set)\n",
    "    test_set_data, test_set_labels = split_data_labels(test_set)\n",
    "    test_set_data = full_pipeline.fit_transform(test_set_data)\n",
    "    train_set_data = full_pipeline.fit_transform(train_set_data)\n",
    "    \n",
    "    dict = {'train_set_data':train_set_data, \n",
    "            'train_set_labels':train_set_labels, \n",
    "            'test_set_data':test_set_data, \n",
    "            'test_set_labels':test_set_labels}\n",
    "    return dict"
   ]
  },
  {
   "cell_type": "markdown",
   "metadata": {},
   "source": [
    "# Now lets Train some models"
   ]
  },
  {
   "cell_type": "code",
   "execution_count": 19,
   "metadata": {},
   "outputs": [],
   "source": [
    "from sklearn.linear_model import LinearRegression"
   ]
  },
  {
   "cell_type": "code",
   "execution_count": 20,
   "metadata": {},
   "outputs": [
    {
     "data": {
      "image/png": "[encoded data removed]",
      "text/plain": [
       "<Figure size 1440x1080 with 9 Axes>"
      ]
     },
     "metadata": {
      "needs_background": "light"
     },
     "output_type": "display_data"
    },
    {
     "data": {
      "image/png": "[encoded data removed]",
      "text/plain": [
       "<Figure size 864x504 with 2 Axes>"
      ]
     },
     "metadata": {
      "needs_background": "light"
     },
     "output_type": "display_data"
    }
   ],
   "source": [
    "visualise_data()"
   ]
  },
  {
   "cell_type": "code",
   "execution_count": 21,
   "metadata": {},
   "outputs": [
    {
     "data": {
      "text/plain": [
       "['test_set_labels', 'train_set_data', 'test_set_data', 'train_set_labels']"
      ]
     },
     "execution_count": 21,
     "metadata": {},
     "output_type": "execute_result"
    }
   ],
   "source": [
    "data_dict = data_prep()\n",
    "data_dict.keys()"
   ]
  },
  {
   "cell_type": "code",
   "execution_count": 22,
   "metadata": {},
   "outputs": [
    {
     "data": {
      "text/plain": [
       "array([[-1.1560428086829155, 0.7719496164846016, 0.7433308916510305, ...,\n",
       "        0.0, 0.0, 0.0],\n",
       "       [-1.1760248286103931, 0.6596947951050618, -1.165317203353399, ...,\n",
       "        0.0, 0.0, 0.0],\n",
       "       [1.186849027813462, -1.3421828528300457, 0.1866418639414053, ...,\n",
       "        0.0, 1.0, 0.0],\n",
       "       ...,\n",
       "       [1.5864894263629494, -0.7247813352425817, -1.5629522231459883,\n",
       "        ..., 1.0, 0.0, 0.0],\n",
       "       [0.7822131242821033, -0.8510680092945644, 0.1866418639414053, ...,\n",
       "        0.0, 0.0, 0.0],\n",
       "       [-1.435791087667559, 0.9964592592436813, 1.8567089470702811, ...,\n",
       "        0.0, 0.0, 0.0]], dtype=object)"
      ]
     },
     "execution_count": 22,
     "metadata": {},
     "output_type": "execute_result"
    }
   ],
   "source": [
    "data_dict['train_set_data']"
   ]
  },
  {
   "cell_type": "code",
   "execution_count": 23,
   "metadata": {},
   "outputs": [
    {
     "data": {
      "text/plain": [
       "LinearRegression(copy_X=True, fit_intercept=True, n_jobs=None,\n",
       "         normalize=False)"
      ]
     },
     "execution_count": 23,
     "metadata": {},
     "output_type": "execute_result"
    }
   ],
   "source": [
    "lin_reg = LinearRegression()\n",
    "lin_reg.fit(data_dict['train_set_data'], data_dict['train_set_labels'])"
   ]
  },
  {
   "cell_type": "code",
   "execution_count": 25,
   "metadata": {},
   "outputs": [],
   "source": [
    "some_data = pd.DataFrame(data_dict['train_set_data']).iloc[0:5,]\n",
    "\n"
   ]
  },
  {
   "cell_type": "code",
   "execution_count": null,
   "metadata": {},
   "outputs": [],
   "source": []
  },
  {
   "cell_type": "markdown",
   "metadata": {},
   "source": [
    "### Evaluating the LinearRegression Model"
   ]
  },
  {
   "cell_type": "code",
   "execution_count": 26,
   "metadata": {},
   "outputs": [
    {
     "data": {
      "text/html": [
       "<div>\n",
       "<style scoped>\n",
       "    .dataframe tbody tr th:only-of-type {\n",
       "        vertical-align: middle;\n",
       "    }\n",
       "\n",
       "    .dataframe tbody tr th {\n",
       "        vertical-align: top;\n",
       "    }\n",
       "\n",
       "    .dataframe thead th {\n",
       "        text-align: right;\n",
       "    }\n",
       "</style>\n",
       "<table border=\"1\" class=\"dataframe\">\n",
       "  <thead>\n",
       "    <tr style=\"text-align: right;\">\n",
       "      <th></th>\n",
       "      <th>0</th>\n",
       "      <th>1</th>\n",
       "      <th>2</th>\n",
       "      <th>3</th>\n",
       "      <th>4</th>\n",
       "      <th>5</th>\n",
       "      <th>6</th>\n",
       "      <th>7</th>\n",
       "      <th>8</th>\n",
       "      <th>9</th>\n",
       "      <th>10</th>\n",
       "      <th>11</th>\n",
       "      <th>12</th>\n",
       "      <th>13</th>\n",
       "      <th>14</th>\n",
       "      <th>15</th>\n",
       "    </tr>\n",
       "  </thead>\n",
       "  <tbody>\n",
       "    <tr>\n",
       "      <th>0</th>\n",
       "      <td>-1.15604</td>\n",
       "      <td>0.77195</td>\n",
       "      <td>0.743331</td>\n",
       "      <td>-0.493234</td>\n",
       "      <td>-0.445438</td>\n",
       "      <td>-0.636211</td>\n",
       "      <td>-0.420698</td>\n",
       "      <td>-0.445087</td>\n",
       "      <td>1.21306</td>\n",
       "      <td>-0.312055</td>\n",
       "      <td>2</td>\n",
       "      <td>0</td>\n",
       "      <td>1</td>\n",
       "      <td>0</td>\n",
       "      <td>0</td>\n",
       "      <td>0</td>\n",
       "    </tr>\n",
       "    <tr>\n",
       "      <th>1</th>\n",
       "      <td>-1.17602</td>\n",
       "      <td>0.659695</td>\n",
       "      <td>-1.16532</td>\n",
       "      <td>-0.908967</td>\n",
       "      <td>-1.03693</td>\n",
       "      <td>-0.998331</td>\n",
       "      <td>-1.02223</td>\n",
       "      <td>1.11138</td>\n",
       "      <td>0.0542933</td>\n",
       "      <td>0.217683</td>\n",
       "      <td>5</td>\n",
       "      <td>0</td>\n",
       "      <td>1</td>\n",
       "      <td>0</td>\n",
       "      <td>0</td>\n",
       "      <td>0</td>\n",
       "    </tr>\n",
       "    <tr>\n",
       "      <th>2</th>\n",
       "      <td>1.18685</td>\n",
       "      <td>-1.34218</td>\n",
       "      <td>0.186642</td>\n",
       "      <td>-0.31366</td>\n",
       "      <td>-0.153345</td>\n",
       "      <td>-0.433639</td>\n",
       "      <td>-0.0933178</td>\n",
       "      <td>-0.72123</td>\n",
       "      <td>1.38577</td>\n",
       "      <td>-0.465315</td>\n",
       "      <td>2</td>\n",
       "      <td>0</td>\n",
       "      <td>0</td>\n",
       "      <td>0</td>\n",
       "      <td>1</td>\n",
       "      <td>0</td>\n",
       "    </tr>\n",
       "    <tr>\n",
       "      <th>3</th>\n",
       "      <td>-0.0170677</td>\n",
       "      <td>0.313576</td>\n",
       "      <td>-0.29052</td>\n",
       "      <td>-0.362762</td>\n",
       "      <td>-0.396756</td>\n",
       "      <td>0.036041</td>\n",
       "      <td>-0.383436</td>\n",
       "      <td>-0.00786083</td>\n",
       "      <td>-1.31137</td>\n",
       "      <td>-0.0796612</td>\n",
       "      <td>2</td>\n",
       "      <td>0</td>\n",
       "      <td>0</td>\n",
       "      <td>1</td>\n",
       "      <td>0</td>\n",
       "      <td>0</td>\n",
       "    </tr>\n",
       "    <tr>\n",
       "      <th>4</th>\n",
       "      <td>0.492474</td>\n",
       "      <td>-0.659299</td>\n",
       "      <td>-0.926736</td>\n",
       "      <td>1.85619</td>\n",
       "      <td>2.41221</td>\n",
       "      <td>2.72415</td>\n",
       "      <td>2.57097</td>\n",
       "      <td>-0.568774</td>\n",
       "      <td>-0.386795</td>\n",
       "      <td>-0.357834</td>\n",
       "      <td>3</td>\n",
       "      <td>0</td>\n",
       "      <td>1</td>\n",
       "      <td>0</td>\n",
       "      <td>0</td>\n",
       "      <td>0</td>\n",
       "    </tr>\n",
       "  </tbody>\n",
       "</table>\n",
       "</div>"
      ],
      "text/plain": [
       "          0         1         2         3         4         5          6   \\\n",
       "0   -1.15604   0.77195  0.743331 -0.493234 -0.445438 -0.636211  -0.420698   \n",
       "1   -1.17602  0.659695  -1.16532 -0.908967  -1.03693 -0.998331   -1.02223   \n",
       "2    1.18685  -1.34218  0.186642  -0.31366 -0.153345 -0.433639 -0.0933178   \n",
       "3 -0.0170677  0.313576  -0.29052 -0.362762 -0.396756  0.036041  -0.383436   \n",
       "4   0.492474 -0.659299 -0.926736   1.85619   2.41221   2.72415    2.57097   \n",
       "\n",
       "           7          8          9  10 11 12 13 14 15  \n",
       "0   -0.445087    1.21306  -0.312055  2  0  1  0  0  0  \n",
       "1     1.11138  0.0542933   0.217683  5  0  1  0  0  0  \n",
       "2    -0.72123    1.38577  -0.465315  2  0  0  0  1  0  \n",
       "3 -0.00786083   -1.31137 -0.0796612  2  0  0  1  0  0  \n",
       "4   -0.568774  -0.386795  -0.357834  3  0  1  0  0  0  "
      ]
     },
     "execution_count": 26,
     "metadata": {},
     "output_type": "execute_result"
    }
   ],
   "source": [
    "from sklearn.metrics import mean_squared_error\n",
    "data = data_dict['train_set_data']\n",
    "pd.DataFrame(data).head()"
   ]
  },
  {
   "cell_type": "code",
   "execution_count": 27,
   "metadata": {},
   "outputs": [
    {
     "data": {
      "text/plain": [
       "70808.10438090506"
      ]
     },
     "execution_count": 27,
     "metadata": {},
     "output_type": "execute_result"
    }
   ],
   "source": [
    "housing_predictions = lin_reg.predict(data_dict['train_set_data'])\n",
    "lin_mse = mean_squared_error(data_dict['train_set_labels'], housing_predictions)\n",
    "lin_rmse = np.sqrt(lin_mse)\n",
    "lin_rmse"
   ]
  },
  {
   "cell_type": "markdown",
   "metadata": {},
   "source": [
    "**This is not great. means the value prediction is typically of by 70k! This model is underfitting lets see if a more powerful complex model is more effective?**"
   ]
  },
  {
   "cell_type": "code",
   "execution_count": 28,
   "metadata": {},
   "outputs": [
    {
     "data": {
      "text/plain": [
       "DecisionTreeRegressor(criterion='mse', max_depth=None, max_features=None,\n",
       "           max_leaf_nodes=None, min_impurity_decrease=0.0,\n",
       "           min_impurity_split=None, min_samples_leaf=1,\n",
       "           min_samples_split=2, min_weight_fraction_leaf=0.0,\n",
       "           presort=False, random_state=None, splitter='best')"
      ]
     },
     "execution_count": 28,
     "metadata": {},
     "output_type": "execute_result"
    }
   ],
   "source": [
    "from sklearn.tree import DecisionTreeRegressor\n",
    "dtr = DecisionTreeRegressor()\n",
    "dtr.fit(data_dict['train_set_data'], data_dict['train_set_labels'])"
   ]
  },
  {
   "cell_type": "code",
   "execution_count": 29,
   "metadata": {},
   "outputs": [
    {
     "data": {
      "text/plain": [
       "0.0"
      ]
     },
     "execution_count": 29,
     "metadata": {},
     "output_type": "execute_result"
    }
   ],
   "source": [
    "predictions = dtr.predict(data_dict['train_set_data'])\n",
    "tree_mse = mean_squared_error(data_dict['train_set_labels'], predictions)\n",
    "tree_rmse = np.sqrt(tree_mse)\n",
    "tree_rmse"
   ]
  },
  {
   "cell_type": "markdown",
   "metadata": {},
   "source": [
    "***Apparently the model is perfect and predicting everything correctly. It is clearly overfitting***\n",
    "\n",
    "A better way to evaluate the model is to use cross-validation. specifically k-fold cross-validation. The data will be split into K parts. the model trained on k-1 parts and then tested on the other. This is repeated k times for all the different folds. "
   ]
  },
  {
   "cell_type": "code",
   "execution_count": 30,
   "metadata": {},
   "outputs": [
    {
     "data": {
      "text/plain": [
       "array([71481.82649236, 69981.08424498, 72442.6783954 , 67642.2741765 ,\n",
       "       70044.51791574, 73498.18834127, 69526.69820014, 71499.14816144,\n",
       "       71169.39988592, 70136.74490241])"
      ]
     },
     "execution_count": 30,
     "metadata": {},
     "output_type": "execute_result"
    }
   ],
   "source": [
    "from sklearn.model_selection import cross_val_score\n",
    "scores = cross_val_score(dtr, data_dict['train_set_data'], data_dict['train_set_labels'], scoring=\"neg_mean_squared_error\", cv=10)\n",
    "tree_rmse_scores = np.sqrt(-scores)\n",
    "tree_rmse_scores"
   ]
  },
  {
   "cell_type": "code",
   "execution_count": 31,
   "metadata": {},
   "outputs": [
    {
     "data": {
      "text/plain": [
       "70742.256071616"
      ]
     },
     "execution_count": 31,
     "metadata": {},
     "output_type": "execute_result"
    }
   ],
   "source": [
    "tree_rmse_scores.mean()"
   ]
  },
  {
   "cell_type": "code",
   "execution_count": 32,
   "metadata": {},
   "outputs": [
    {
     "name": "stderr",
     "output_type": "stream",
     "text": [
      "/opt/anaconda2/lib/python2.7/site-packages/sklearn/ensemble/forest.py:246: FutureWarning: The default value of n_estimators will change from 10 in version 0.20 to 100 in 0.22.\n",
      "  \"10 in version 0.20 to 100 in 0.22.\", FutureWarning)\n"
     ]
    },
    {
     "data": {
      "text/plain": [
       "array([54500.39230691, 51418.89511997, 53625.83303988, 52638.28923534,\n",
       "       52634.18121029, 57299.04259714, 51247.57542688, 51201.80609774,\n",
       "       54864.87282051, 53591.23328169])"
      ]
     },
     "execution_count": 32,
     "metadata": {},
     "output_type": "execute_result"
    }
   ],
   "source": [
    "from sklearn.ensemble import RandomForestRegressor\n",
    "RFR = RandomForestRegressor()\n",
    "model = RFR.fit(data_dict['train_set_data'], data_dict['train_set_labels'])\n",
    "scores = cross_val_score(RFR, data_dict['train_set_data'], data_dict['train_set_labels'], scoring=\"neg_mean_squared_error\", cv=10)\n",
    "forest_rmse_scores = np.sqrt(-scores)\n",
    "forest_rmse_scores"
   ]
  },
  {
   "cell_type": "markdown",
   "metadata": {},
   "source": [
    "The score for the RandomForestRegressor is much better than the tree"
   ]
  },
  {
   "cell_type": "code",
   "execution_count": 34,
   "metadata": {},
   "outputs": [
    {
     "data": {
      "text/plain": [
       "53302.21211363438"
      ]
     },
     "execution_count": 34,
     "metadata": {},
     "output_type": "execute_result"
    }
   ],
   "source": [
    "forest_rmse_scores.mean()"
   ]
  },
  {
   "cell_type": "markdown",
   "metadata": {},
   "source": [
    "***to save the models you can use joblib***"
   ]
  },
  {
   "cell_type": "code",
   "execution_count": 35,
   "metadata": {},
   "outputs": [
    {
     "data": {
      "text/plain": [
       "['models/Random_forest.pkl']"
      ]
     },
     "execution_count": 35,
     "metadata": {},
     "output_type": "execute_result"
    }
   ],
   "source": [
    "from sklearn.externals import joblib\n",
    "joblib.dump(lin_reg, \"models/lin_reg.pkl\")\n",
    "joblib.dump(dtr, \"models/Decision_tree.pkl\")\n",
    "joblib.dump(RFR, \"models/Random_forest.pkl\")"
   ]
  },
  {
   "cell_type": "code",
   "execution_count": 36,
   "metadata": {},
   "outputs": [],
   "source": [
    "# should you want to reload one of the models\n",
    "loaded_model = joblib.load(\"lin_reg.pkl\")"
   ]
  },
  {
   "cell_type": "markdown",
   "metadata": {},
   "source": [
    "## Fine Tuning the Models\n",
    "One way to fine tune is to fiddle with the hyperparameters until you find a combination. You can use Scikit-Learns GridSearchCV to search "
   ]
  },
  {
   "cell_type": "code",
   "execution_count": 37,
   "metadata": {},
   "outputs": [],
   "source": [
    "from sklearn.model_selection import GridSearchCV \n",
    "\n",
    "param_grid = [\n",
    "    {'n_estimators':[3, 10, 30, 40], 'max_features':[2, 4, 6, 8, 10]}, \n",
    "    {'bootstrap':[False], 'n_estimators':[3, 10], 'max_features': [2, 3, 4]}, \n",
    "]"
   ]
  },
  {
   "cell_type": "code",
   "execution_count": 38,
   "metadata": {},
   "outputs": [
    {
     "data": {
      "text/plain": [
       "GridSearchCV(cv=5, error_score='raise-deprecating',\n",
       "       estimator=RandomForestRegressor(bootstrap=True, criterion='mse', max_depth=None,\n",
       "           max_features='auto', max_leaf_nodes=None,\n",
       "           min_impurity_decrease=0.0, min_impurity_split=None,\n",
       "           min_samples_leaf=1, min_samples_split=2,\n",
       "           min_weight_fraction_leaf=0.0, n_estimators='warn', n_jobs=None,\n",
       "           oob_score=False, random_state=None, verbose=0, warm_start=False),\n",
       "       fit_params=None, iid='warn', n_jobs=None,\n",
       "       param_grid=[{'n_estimators': [3, 10, 30, 40], 'max_features': [2, 4, 6, 8, 10]}, {'n_estimators': [3, 10], 'max_features': [2, 3, 4], 'bootstrap': [False]}],\n",
       "       pre_dispatch='2*n_jobs', refit=True, return_train_score='warn',\n",
       "       scoring='neg_mean_squared_error', verbose=0)"
      ]
     },
     "execution_count": 38,
     "metadata": {},
     "output_type": "execute_result"
    }
   ],
   "source": [
    "forest_reg = RandomForestRegressor()\n",
    "grid_search = GridSearchCV(forest_reg, param_grid, cv=5, scoring='neg_mean_squared_error')\n",
    "grid_search.fit(data_dict['train_set_data'], data_dict['train_set_labels'])"
   ]
  },
  {
   "cell_type": "code",
   "execution_count": 39,
   "metadata": {},
   "outputs": [
    {
     "data": {
      "text/plain": [
       "{'max_features': 8, 'n_estimators': 40}"
      ]
     },
     "execution_count": 39,
     "metadata": {},
     "output_type": "execute_result"
    }
   ],
   "source": [
    "grid_search.best_params_"
   ]
  },
  {
   "cell_type": "code",
   "execution_count": 40,
   "metadata": {},
   "outputs": [
    {
     "data": {
      "text/plain": [
       "RandomForestRegressor(bootstrap=True, criterion='mse', max_depth=None,\n",
       "           max_features=8, max_leaf_nodes=None, min_impurity_decrease=0.0,\n",
       "           min_impurity_split=None, min_samples_leaf=1,\n",
       "           min_samples_split=2, min_weight_fraction_leaf=0.0,\n",
       "           n_estimators=40, n_jobs=None, oob_score=False,\n",
       "           random_state=None, verbose=0, warm_start=False)"
      ]
     },
     "execution_count": 40,
     "metadata": {},
     "output_type": "execute_result"
    }
   ],
   "source": [
    "grid_search.best_estimator_"
   ]
  },
  {
   "cell_type": "code",
   "execution_count": 41,
   "metadata": {},
   "outputs": [
    {
     "name": "stdout",
     "output_type": "stream",
     "text": [
      "(66298.94136978696, {'max_features': 2, 'n_estimators': 3})\n",
      "(57729.713140917695, {'max_features': 2, 'n_estimators': 10})\n",
      "(54652.95924708862, {'max_features': 2, 'n_estimators': 30})\n",
      "(54027.75528972233, {'max_features': 2, 'n_estimators': 40})\n",
      "(60643.58575444613, {'max_features': 4, 'n_estimators': 3})\n",
      "(54062.96171290665, {'max_features': 4, 'n_estimators': 10})\n",
      "(52303.1620715931, {'max_features': 4, 'n_estimators': 30})\n",
      "(51464.733049385795, {'max_features': 4, 'n_estimators': 40})\n",
      "(60776.74236962767, {'max_features': 6, 'n_estimators': 3})\n",
      "(53567.31654061503, {'max_features': 6, 'n_estimators': 10})\n",
      "(51285.099335764746, {'max_features': 6, 'n_estimators': 30})\n",
      "(51012.77705577451, {'max_features': 6, 'n_estimators': 40})\n",
      "(60332.23404034464, {'max_features': 8, 'n_estimators': 3})\n",
      "(52768.4056050846, {'max_features': 8, 'n_estimators': 10})\n",
      "(51235.60626825943, {'max_features': 8, 'n_estimators': 30})\n",
      "(50838.12383944008, {'max_features': 8, 'n_estimators': 40})\n",
      "(60159.09005578303, {'max_features': 10, 'n_estimators': 3})\n",
      "(52936.69597640574, {'max_features': 10, 'n_estimators': 10})\n",
      "(51012.347598240194, {'max_features': 10, 'n_estimators': 30})\n",
      "(50863.3725998721, {'max_features': 10, 'n_estimators': 40})\n",
      "(64405.779960713684, {'max_features': 2, 'n_estimators': 3, 'bootstrap': False})\n",
      "(55905.36819571698, {'max_features': 2, 'n_estimators': 10, 'bootstrap': False})\n",
      "(61590.43799081261, {'max_features': 3, 'n_estimators': 3, 'bootstrap': False})\n",
      "(53937.790261531125, {'max_features': 3, 'n_estimators': 10, 'bootstrap': False})\n",
      "(60278.17158654785, {'max_features': 4, 'n_estimators': 3, 'bootstrap': False})\n",
      "(52855.775748049215, {'max_features': 4, 'n_estimators': 10, 'bootstrap': False})\n"
     ]
    }
   ],
   "source": [
    "cvres = grid_search.cv_results_\n",
    "for mean_score, params in zip(cvres[\"mean_test_score\"], cvres[\"params\"]):\n",
    "    print(np.sqrt(-mean_score), params)\n",
    "                                    "
   ]
  },
  {
   "cell_type": "markdown",
   "metadata": {},
   "source": [
    "## Ensemble methods"
   ]
  },
  {
   "cell_type": "code",
   "execution_count": 42,
   "metadata": {},
   "outputs": [
    {
     "data": {
      "text/plain": [
       "array([8.35808893e-02, 7.72693467e-02, 4.72418605e-02, 1.76920390e-02,\n",
       "       1.70208816e-02, 1.75753916e-02, 1.53761506e-02, 6.42972547e-02,\n",
       "       1.20767290e-01, 6.53004290e-02, 3.04054559e-01, 2.05145192e-03,\n",
       "       6.76005886e-03, 1.57534722e-01, 3.40871886e-03, 6.89564081e-05])"
      ]
     },
     "execution_count": 42,
     "metadata": {},
     "output_type": "execute_result"
    }
   ],
   "source": [
    "feature_importances = grid_search.best_estimator_.feature_importances_\n",
    "feature_importances"
   ]
  },
  {
   "cell_type": "code",
   "execution_count": 43,
   "metadata": {},
   "outputs": [],
   "source": [
    "columns = ['longitude', 'latitude', 'housing_median_age', 'total_rooms', 'total_bedrooms', 'population',\n",
    "           'households', 'median_income', 'median_house_value', 'bedrooms_per_room', 'population_per_household', 'rooms_per_household'  'ocean_proximity_NEAR BAY', 'ocean_proximity_<1H OCEAN',\n",
    "           'ocean_proximity_INLAND', 'ocean_proximity_NEAR OCEAN', 'ocean_proximity_ISLAND']"
   ]
  },
  {
   "cell_type": "code",
   "execution_count": 44,
   "metadata": {},
   "outputs": [
    {
     "name": "stdout",
     "output_type": "stream",
     "text": [
      "('feature: ', 0.0835808893388727, '  ', 'longitude')\n",
      "('feature: ', 0.07726934665746256, '  ', 'latitude')\n",
      "('feature: ', 0.04724186052190198, '  ', 'housing_median_age')\n",
      "('feature: ', 0.01769203901780368, '  ', 'total_rooms')\n",
      "('feature: ', 0.017020881602188464, '  ', 'total_bedrooms')\n",
      "('feature: ', 0.017575391578229602, '  ', 'population')\n",
      "('feature: ', 0.015376150619929339, '  ', 'households')\n",
      "('feature: ', 0.06429725473804641, '  ', 'median_income')\n",
      "('feature: ', 0.12076728964123642, '  ', 'median_house_value')\n",
      "('feature: ', 0.06530042900108816, '  ', 'bedrooms_per_room')\n",
      "('feature: ', 0.30405455879033805, '  ', 'population_per_household')\n",
      "('feature: ', 0.002051451920093581, '  ', 'rooms_per_householdocean_proximity_NEAR BAY')\n",
      "('feature: ', 0.0067600588554246124, '  ', 'ocean_proximity_<1H OCEAN')\n",
      "('feature: ', 0.15753472244514274, '  ', 'ocean_proximity_INLAND')\n",
      "('feature: ', 0.003408718864171248, '  ', 'ocean_proximity_NEAR OCEAN')\n",
      "('feature: ', 6.895640807048685e-05, '  ', 'ocean_proximity_ISLAND')\n"
     ]
    }
   ],
   "source": [
    "i = 0\n",
    "while i<16: \n",
    "    print('feature: ', feature_importances[i], '  ', columns[i])\n",
    "    i = i+1"
   ]
  },
  {
   "cell_type": "markdown",
   "metadata": {},
   "source": [
    "## Evaluate System on the Test Set"
   ]
  },
  {
   "cell_type": "code",
   "execution_count": 45,
   "metadata": {},
   "outputs": [
    {
     "data": {
      "text/plain": [
       "['test_set_labels', 'train_set_data', 'test_set_data', 'train_set_labels']"
      ]
     },
     "execution_count": 45,
     "metadata": {},
     "output_type": "execute_result"
    }
   ],
   "source": [
    "final_model = grid_search.best_estimator_\n",
    "\n",
    "data_dict.keys()"
   ]
  },
  {
   "cell_type": "code",
   "execution_count": 46,
   "metadata": {},
   "outputs": [],
   "source": [
    "\n",
    "X_test = data_dict[\"test_set_data\"]\n",
    "y_test = data_dict[\"test_set_labels\"]\n",
    "\n",
    "final_predictions = final_model.predict(X_test)"
   ]
  },
  {
   "cell_type": "code",
   "execution_count": 47,
   "metadata": {},
   "outputs": [
    {
     "data": {
      "text/plain": [
       "51894.854600360064"
      ]
     },
     "execution_count": 47,
     "metadata": {},
     "output_type": "execute_result"
    }
   ],
   "source": [
    "final_mse = mean_squared_error(y_test, final_predictions)\n",
    "final_rmse = np.sqrt(final_mse)\n",
    "final_rmse"
   ]
  },
  {
   "cell_type": "code",
   "execution_count": null,
   "metadata": {},
   "outputs": [],
   "source": []
  },
  {
   "cell_type": "code",
   "execution_count": null,
   "metadata": {},
   "outputs": [],
   "source": []
  },
  {
   "cell_type": "code",
   "execution_count": null,
   "metadata": {},
   "outputs": [],
   "source": []
  }
 ],
 "metadata": {
  "kernelspec": {
   "display_name": "Python 2",
   "language": "python",
   "name": "python2"
  },
  "language_info": {
   "codemirror_mode": {
    "name": "ipython",
    "version": 2
   },
   "file_extension": ".py",
   "mimetype": "text/x-python",
   "name": "python",
   "nbconvert_exporter": "python",
   "pygments_lexer": "ipython2",
   "version": "2.7.16"
  }
 },
 "nbformat": 4,
 "nbformat_minor": 2
}
