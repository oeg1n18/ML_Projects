{
 "cells": [
  {
   "cell_type": "markdown",
   "metadata": {},
   "source": [
    "# My Spam Classifier"
   ]
  },
  {
   "cell_type": "code",
   "execution_count": 1,
   "metadata": {},
   "outputs": [
    {
     "name": "stdout",
     "output_type": "stream",
     "text": [
      "3.8.3\n"
     ]
    }
   ],
   "source": [
    "from platform import python_version\n",
    "print(python_version())"
   ]
  },
  {
   "cell_type": "code",
   "execution_count": 2,
   "metadata": {},
   "outputs": [],
   "source": [
    "import os \n",
    "import tarfile\n",
    "from six.moves import urllib"
   ]
  },
  {
   "cell_type": "code",
   "execution_count": 3,
   "metadata": {},
   "outputs": [],
   "source": [
    "URL_ROOT = \"http://spamassassin.apache.org/old/publiccorpus/\"\n",
    "HAM_URL = URL_ROOT + \"20030228_easy_ham_2.tar.bz2\"\n",
    "SPAM_URL = URL_ROOT + \"20030228_spam.tar.bz2\"\n",
    "\n",
    "DIR_ROOT = \"Datasets/spamnham\""
   ]
  },
  {
   "cell_type": "code",
   "execution_count": 4,
   "metadata": {},
   "outputs": [],
   "source": [
    "def fetch_file(url_root=URL_ROOT, dir_root=DIR_ROOT):\n",
    "    if not os.path.isdir(DIR_ROOT): \n",
    "        os.makedirs(DIR_ROOT)\n",
    "    if not os.path.isdir(os.path.join(DIR_ROOT, \"extracted\")):\n",
    "        os.makedirs(os.path.join(DIR_ROOT, \"extracted\"))\n",
    "    for url, filename in ((SPAM_URL, \"spam\"), (HAM_URL, \"ham\")):\n",
    "        path = os.path.join(dir_root, filename)\n",
    "        if not os.path.isdir(path):\n",
    "            urllib.request.urlretrieve(url, path)\n",
    "        tar = tarfile.open(path)\n",
    "        tar.extractall(path=\"Datasets/spamnham/extracted\")\n",
    "        tar.close()\n",
    "    \n"
   ]
  },
  {
   "cell_type": "code",
   "execution_count": 5,
   "metadata": {},
   "outputs": [],
   "source": [
    "fetch_file()"
   ]
  },
  {
   "cell_type": "code",
   "execution_count": 6,
   "metadata": {},
   "outputs": [],
   "source": [
    "import email\n",
    "import email.policy\n",
    "\n",
    "def get_email(dir_root=os.path.join(DIR_ROOT, \"extracted\")):\n",
    "    pre_ham_files = os.listdir(os.path.join(dir_root, \"easy_ham_2\"))\n",
    "    pre_spam_files = os.listdir(os.path.join(dir_root, \"spam\"))\n",
    "    ham_files = []\n",
    "    spam_files = []\n",
    "    for ham in pre_ham_files: \n",
    "        if len(ham)>20:\n",
    "            ham_files.append(ham)\n",
    "    for spam in pre_spam_files: \n",
    "        if len(spam)>20:\n",
    "            spam_files.append(spam)\n",
    "            \n",
    "    ham_emails=[]\n",
    "    spam_emails=[]\n",
    "    \n",
    "    for file in ham_files:\n",
    "        filepath = os.path.join(dir_root, \"easy_ham_2\", file)\n",
    "        with open(filepath, 'rb') as f: \n",
    "            ham_emails.append(email.parser.BytesParser(policy=email.policy.default).parse(f))\n",
    "    \n",
    "    for file in spam_files:\n",
    "        filepath = os.path.join(dir_root, \"spam\", file)\n",
    "        with open(filepath, 'rb') as f: \n",
    "            spam_emails.append(email.parser.BytesParser(policy=email.policy.default).parse(f))\n",
    "    \n",
    "    return ham_emails, spam_emails\n",
    "        "
   ]
  },
  {
   "cell_type": "code",
   "execution_count": 7,
   "metadata": {},
   "outputs": [],
   "source": [
    "ham_emails, spam_emails = get_email()"
   ]
  },
  {
   "cell_type": "code",
   "execution_count": 8,
   "metadata": {},
   "outputs": [
    {
     "data": {
      "text/plain": [
       "email.message.EmailMessage"
      ]
     },
     "execution_count": 8,
     "metadata": {},
     "output_type": "execute_result"
    }
   ],
   "source": [
    "type(ham_emails[0])"
   ]
  },
  {
   "cell_type": "code",
   "execution_count": 9,
   "metadata": {},
   "outputs": [
    {
     "name": "stdout",
     "output_type": "stream",
     "text": [
      "On Sun, 21 Jul 2002 10:51:51 -0500\n",
      "Brian Fahrlander <kilroy@kamakiriad.com> wrote:\n",
      "\n",
      "> [branching the thread, here]\n",
      "> \n",
      ">     I found another Ximian repository- I don't know if it works yet...\n",
      "> \n",
      "> rpm     http://gstreamer.net/releases/redhat/ redhat-73-i386 deps\n",
      "> rpm-src http://gstreamer.net/releases/redhat/ redhat-73-i386 deps\n",
      "> \n",
      "> rpm     http://gstreamer.net/releases/redhat/ redhat-73-i386 deps ximian\n",
      "> rpm-src http://gstreamer.net/releases/redhat/ redhat-73-i386 deps ximian\n",
      "> \n",
      "> rpm     http://gstreamer.net/releases/redhat/ redhat-73-i386 deps gnomehide\n",
      "> rpm-src http://gstreamer.net/releases/redhat/ redhat-73-i386 deps gnomehide\n",
      "> \n",
      ">     These guys are EXTREMELY apt-friendly.  Unlike most multimedia projects, they seem to prefer RPM/Apt over the older methods.  Isn't that cool?\n",
      "> \n",
      ">     Hey- how would I have known to \"apt-get install gnome-session\" to kick all this off?\n",
      "> \n",
      "> ------------------------------------------------------------------------\n",
      "> Brian Fahrländer              Linux Zealot, Conservative, and Technomad\n",
      "> Evansville, IN                    My Voyage: http://www.CounterMoon.com\n",
      "> ICQ  5119262\n",
      "> ------------------------------------------------------------------------\n",
      "> I don't want to hear news from Isreal until the news contains the words\n",
      "> \"Bullet\", \"Brain\", and \"Arafat\".\n",
      "\n",
      "i took a look into the repository it \"just\" contains gstreamer and his dependecies\n",
      "but thats nice for people who use it though :)\n",
      "\n",
      "thanks,\n",
      "che\n",
      "\n",
      "personally i am capped to 16 kb/s upstream only :\\ if i just had like 10 to 20 times of that i would run a repository for sure. i guess alot of people would love to even get daily builds (yes i know i deserve to be eaten for that idea because it would need alot of bandwidth) but well would still be nice :).\n",
      " \n",
      "> _______________________________________________\n",
      "> RPM-List mailing list <RPM-List@freshrpms.net>\n",
      "> http://lists.freshrpms.net/mailman/listinfo/rpm-list\n",
      "\n",
      "_______________________________________________\n",
      "RPM-List mailing list <RPM-List@freshrpms.net>\n",
      "http://lists.freshrpms.net/mailman/listinfo/rpm-list\n",
      "\n",
      "\n",
      "\n"
     ]
    }
   ],
   "source": [
    "print(ham_emails[0].get_content())"
   ]
  },
  {
   "cell_type": "code",
   "execution_count": 10,
   "metadata": {},
   "outputs": [],
   "source": [
    "def get_structure(email):\n",
    "    if isinstance(email, str): \n",
    "        return email\n",
    "    payload = email.get_payload()\n",
    "    if isinstance(payload, list):\n",
    "        return \"multipart({})\".format(\",\".join([get_structure(sub_email) for sub_email in payload]))\n",
    "    else: \n",
    "        return email.get_content_type()\n",
    "    "
   ]
  },
  {
   "cell_type": "code",
   "execution_count": 11,
   "metadata": {},
   "outputs": [],
   "source": [
    "from collections import Counter\n",
    "\n",
    "def count_structures(emails):\n",
    "    count = Counter()\n",
    "    for email in emails:\n",
    "        structure = get_structure(email)\n",
    "        count[structure] += 1\n",
    "    return count"
   ]
  },
  {
   "cell_type": "code",
   "execution_count": 12,
   "metadata": {},
   "outputs": [
    {
     "data": {
      "text/plain": [
       "Counter({'text/plain': 218,\n",
       "         'multipart(text/plain,text/html)': 45,\n",
       "         'multipart(text/plain)': 19,\n",
       "         'text/html': 183,\n",
       "         'multipart(text/html)': 20,\n",
       "         'multipart(multipart(text/plain,text/html),image/gif)': 1,\n",
       "         'multipart(multipart(text/html))': 5,\n",
       "         'multipart/alternative': 1,\n",
       "         'multipart(text/plain,image/jpeg)': 3,\n",
       "         'multipart(text/html,application/octet-stream)': 2,\n",
       "         'multipart(text/plain,application/octet-stream)': 1,\n",
       "         'multipart(multipart(text/html),application/octet-stream,image/jpeg)': 1,\n",
       "         'multipart(text/html,text/plain)': 1})"
      ]
     },
     "execution_count": 12,
     "metadata": {},
     "output_type": "execute_result"
    }
   ],
   "source": [
    "out = count_structures(spam_emails)\n",
    "out"
   ]
  },
  {
   "cell_type": "code",
   "execution_count": 13,
   "metadata": {},
   "outputs": [
    {
     "name": "stderr",
     "output_type": "stream",
     "text": [
      "<ipython-input-13-a2ad585f89a3>:4: VisibleDeprecationWarning: Creating an ndarray from ragged nested sequences (which is a list-or-tuple of lists-or-tuples-or ndarrays with different lengths or shapes) is deprecated. If you meant to do this, you must specify 'dtype=object' when creating the ndarray\n",
      "  X = np.array(ham_emails + spam_emails)\n"
     ]
    }
   ],
   "source": [
    "from sklearn.model_selection import train_test_split\n",
    "import numpy as np\n",
    "\n",
    "X = np.array(ham_emails + spam_emails)\n",
    "y = np.array([0]*len(ham_emails) + [1]*len(spam_emails))\n",
    "\n",
    "X_train, X_test, y_train, y_test = train_test_split(X, y, test_size=0.2, random_state = 15)"
   ]
  },
  {
   "cell_type": "code",
   "execution_count": 14,
   "metadata": {},
   "outputs": [],
   "source": [
    "from bs4 import BeautifulSoup\n",
    "\n",
    "def html_to_text(html):\n",
    "    soup = BeautifulSoup(html, 'html.parser')\n",
    "    return soup.text"
   ]
  },
  {
   "cell_type": "code",
   "execution_count": 15,
   "metadata": {},
   "outputs": [],
   "source": [
    "def email_to_text(email):\n",
    "    if get_structure(email) == 'text/plain':\n",
    "        return email.get_content()\n",
    "    if get_structure(email) == 'text/html':\n",
    "        soup = html_to_text(email.get_content())\n",
    "        return soup\n",
    "    else: \n",
    "        return str(email.get_content())\n"
   ]
  },
  {
   "cell_type": "code",
   "execution_count": 16,
   "metadata": {},
   "outputs": [],
   "source": [
    "out = [get_structure(email) for email in spam_emails]"
   ]
  },
  {
   "cell_type": "code",
   "execution_count": 17,
   "metadata": {},
   "outputs": [],
   "source": [
    "html_emails = []\n",
    "for email in spam_emails: \n",
    "    if get_structure(email) == 'text/html':\n",
    "        html_emails.append(email)"
   ]
  },
  {
   "cell_type": "code",
   "execution_count": 18,
   "metadata": {},
   "outputs": [
    {
     "name": "stdout",
     "output_type": "stream",
     "text": [
      "\n",
      "\n",
      "Toy\n",
      "\n",
      "\n",
      "\n",
      "ABC's Good Morning America ranks it the #1 Christmas Toy of the season! \n",
      "\"The new 3-inch mini remote control cars are out of stock everywhere! \n",
      "    Parents are searching frantically but having no luck. There are millions of \n",
      "    kids expecting these for the Holiday season, lets hope somebody gets them \n",
      "    in or Santa may be in trouble!\" Dianne Sawyer, Nov 2002\n",
      "Sold Out in all stores accross the country. Retail price is $59.99. We have \n",
      "    limited stock and Free shipping for only $29.95!\n",
      "Check out this Years Hottest Toy!\n",
      " \n",
      "unsubscribe \n",
      "    forever \n",
      "\n",
      "\n",
      "\n",
      "\n"
     ]
    }
   ],
   "source": [
    "out = email_to_text(html_emails[10])\n",
    "print(out)"
   ]
  },
  {
   "cell_type": "markdown",
   "metadata": {},
   "source": [
    "# Creating Pipeline"
   ]
  },
  {
   "cell_type": "code",
   "execution_count": 53,
   "metadata": {},
   "outputs": [],
   "source": [
    "from sklearn.base import BaseEstimator, TransformerMixin\n",
    "import nltk\n",
    "\n",
    "class EmailToCountTransformer(BaseEstimator, TransformerMixin):\n",
    "    def __init__(self, remove_header=True, remove_punctuation=True, remove_url=True, stemmer=True): \n",
    "        self.remove_header = remove_header\n",
    "        self.remove_punctuation = remove_puncuation\n",
    "        self.remove_url = remove_url\n",
    "        self.stemmer = stemmer\n",
    "        stemmer = nltk.PorterStemmer()\n",
    "    def fit(self, X, y=None):\n",
    "        return self\n",
    "    def transform(self, X, y=None):\n",
    "        for email in X: \n",
    "            if remove_header:\n",
    "                fields = email.keys()\n",
    "                for field in fields: \n",
    "                    email.__delitem__(field)\n",
    "            text = email_to_text(email)\n",
    "            if remove_url:"
   ]
  },
  {
   "cell_type": "code",
   "execution_count": 51,
   "metadata": {},
   "outputs": [
    {
     "name": "stdout",
     "output_type": "stream",
     "text": [
      "Delivered-To:  \n",
      "Received:  \n",
      "Received: from phobos [127.0.0.1]\n",
      "\tby localhost with IMAP (fetchmail-5.9.0)\n",
      "\tfor jm@localhost (single-drop); Wed, 14 Aug 2002 10:52:12 +0100 (IST)\n",
      "Received: from xent.com ([64.161.22.236]) by dogma.slashnull.org\n",
      "    (8.11.6/8.11.6) with ESMTP id g7DJL0415153 for <jm@jmason.org>;\n",
      "    Tue, 13 Aug 2002 20:21:01 +0100\n",
      "Received: from lair.xent.com (localhost [127.0.0.1]) by xent.com (Postfix)\n",
      "    with ESMTP id 6F2E32940A6; Tue, 13 Aug 2002 12:19:06 -0700 (PDT)\n",
      "Delivered-To: fork@spamassassin.taint.org\n",
      "Received: from Boron.MeepZor.Com (i.meepzor.com [204.146.167.214]) by\n",
      "    xent.com (Postfix) with ESMTP id 263E72940A5 for <FoRK@Xent.Com>;\n",
      "    Tue, 13 Aug 2002 12:18:17 -0700 (PDT)\n",
      "Received: from Golux.Com (dmz-firewall [206.199.198.4]) by\n",
      "    Boron.MeepZor.Com (8.11.6/8.11.6) with ESMTP id g7DJJKR20997;\n",
      "    Tue, 13 Aug 2002 15:19:20 -0400\n",
      "Message-Id:  \n",
      "From:  \n",
      "Organization:  \n",
      "X-Mailer:  \n",
      "X-Accept-Language:  \n",
      "MIME-Version:  \n",
      "To:  \n",
      "Subject:  \n",
      "Content-Type:  \n",
      "Content-Transfer-Encoding:  \n",
      "Sender:  \n",
      "Errors-To:  \n",
      "X-Beenthere:  \n",
      "X-Mailman-Version:  \n",
      "Precedence:  \n",
      "List-Help:  \n",
      "List-Post:  \n",
      "List-Subscribe:  \n",
      "List-Id:  \n",
      "List-Unsubscribe:  \n",
      "List-Archive:  \n",
      "\n",
      "I'm not up to forking the text, but for your entertainment:\n",
      "\n",
      "http://www.kanga.nu/~claw/bug_count.html\n",
      "-- \n",
      "#ken\tP-)}\n",
      "\n",
      "Ken Coar, Sanagendamgagwedweinini  http://Golux.Com/coar/\n",
      "Author, developer, opinionist      http://Apache-Server.Com/\n",
      "\n",
      "\"Millennium hand and shrimp!\"\n",
      "http://xent.com/mailman/listinfo/fork\n",
      "\n",
      "\n",
      "\n"
     ]
    }
   ],
   "source": [
    "some_email = ham_emails[2]\n",
    "print(some_email)"
   ]
  },
  {
   "cell_type": "code",
   "execution_count": 37,
   "metadata": {},
   "outputs": [
    {
     "data": {
      "text/plain": [
       "['Delivered-To',\n",
       " 'Received',\n",
       " 'Received',\n",
       " 'Received',\n",
       " 'Received',\n",
       " 'Delivered-To',\n",
       " 'Received',\n",
       " 'Received',\n",
       " 'Message-Id',\n",
       " 'From',\n",
       " 'Organization',\n",
       " 'X-Mailer',\n",
       " 'X-Accept-Language',\n",
       " 'MIME-Version',\n",
       " 'To',\n",
       " 'Subject',\n",
       " 'Content-Type',\n",
       " 'Content-Transfer-Encoding',\n",
       " 'Sender',\n",
       " 'Errors-To',\n",
       " 'X-Beenthere',\n",
       " 'X-Mailman-Version',\n",
       " 'Precedence',\n",
       " 'List-Help',\n",
       " 'List-Post',\n",
       " 'List-Subscribe',\n",
       " 'List-Id',\n",
       " 'List-Unsubscribe',\n",
       " 'List-Archive',\n",
       " 'Date']"
      ]
     },
     "execution_count": 37,
     "metadata": {},
     "output_type": "execute_result"
    }
   ],
   "source": [
    "some_email.keys()"
   ]
  },
  {
   "cell_type": "code",
   "execution_count": 52,
   "metadata": {},
   "outputs": [
    {
     "name": "stdout",
     "output_type": "stream",
     "text": [
      "\n",
      "I'm not up to forking the text, but for your entertainment:\n",
      "\n",
      "http://www.kanga.nu/~claw/bug_count.html\n",
      "-- \n",
      "#ken\tP-)}\n",
      "\n",
      "Ken Coar, Sanagendamgagwedweinini  http://Golux.Com/coar/\n",
      "Author, developer, opinionist      http://Apache-Server.Com/\n",
      "\n",
      "\"Millennium hand and shrimp!\"\n",
      "http://xent.com/mailman/listinfo/fork\n",
      "\n",
      "\n",
      "\n"
     ]
    }
   ],
   "source": [
    "for part in some_email.keys():\n",
    "    some_email.__delitem__(part)\n",
    "print(some_email)"
   ]
  },
  {
   "cell_type": "code",
   "execution_count": null,
   "metadata": {},
   "outputs": [],
   "source": []
  }
 ],
 "metadata": {
  "kernelspec": {
   "display_name": "Python 3",
   "language": "python",
   "name": "python3"
  },
  "language_info": {
   "codemirror_mode": {
    "name": "ipython",
    "version": 3
   },
   "file_extension": ".py",
   "mimetype": "text/x-python",
   "name": "python",
   "nbconvert_exporter": "python",
   "pygments_lexer": "ipython3",
   "version": "3.8.3"
  }
 },
 "nbformat": 4,
 "nbformat_minor": 2
}
