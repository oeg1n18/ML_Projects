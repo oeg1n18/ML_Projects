{
 "cells": [
  {
   "cell_type": "markdown",
   "metadata": {},
   "source": [
    "# My Spam Classifier"
   ]
  },
  {
   "cell_type": "code",
   "execution_count": 1,
   "metadata": {},
   "outputs": [
    {
     "name": "stdout",
     "output_type": "stream",
     "text": [
      "3.8.3\n"
     ]
    }
   ],
   "source": [
    "from platform import python_version\n",
    "print(python_version())"
   ]
  },
  {
   "cell_type": "code",
   "execution_count": 2,
   "metadata": {},
   "outputs": [],
   "source": [
    "import os \n",
    "import tarfile\n",
    "from six.moves import urllib"
   ]
  },
  {
   "cell_type": "code",
   "execution_count": 3,
   "metadata": {},
   "outputs": [],
   "source": [
    "URL_ROOT = \"http://spamassassin.apache.org/old/publiccorpus/\"\n",
    "HAM_URL = URL_ROOT + \"20030228_easy_ham_2.tar.bz2\"\n",
    "SPAM_URL = URL_ROOT + \"20030228_spam.tar.bz2\"\n",
    "\n",
    "DIR_ROOT = \"Datasets/spamnham\""
   ]
  },
  {
   "cell_type": "code",
   "execution_count": 7,
   "metadata": {},
   "outputs": [],
   "source": [
    "def fetch_file(url_root=URL_ROOT, dir_root=DIR_ROOT):\n",
    "    if not os.path.isdir(DIR_ROOT): \n",
    "        os.makedirs(DIR_ROOT)\n",
    "    if not os.path.isdir(os.path.join(DIR_ROOT, \"extracted\")):\n",
    "        os.makedirs(os.path.join(DIR_ROOT, \"extracted\"))\n",
    "    for url, filename in ((SPAM_URL, \"spam\"), (HAM_URL, \"ham\")):\n",
    "        path = os.path.join(dir_root, filename)\n",
    "        if not os.path.isdir(path):\n",
    "            urllib.request.urlretrieve(url, path)\n",
    "        tar = tarfile.open(path)\n",
    "        tar.extractall(path=\"Datasets/spamnham/extracted\")\n",
    "        tar.close()\n",
    "    \n"
   ]
  },
  {
   "cell_type": "code",
   "execution_count": null,
   "metadata": {},
   "outputs": [],
   "source": [
    "fetch_file()"
   ]
  },
  {
   "cell_type": "code",
   "execution_count": 13,
   "metadata": {},
   "outputs": [],
   "source": [
    "def get_email(dir_root=os.path.join(DIR_ROOT, \"extracted\")):\n",
    "    pre_ham_files = os.listdir(os.path.join(dir_root, \"easy_ham_2\"))\n",
    "    pre_spam_files = os.listdir(os.path.join(dir_root, \"spam\"))\n",
    "    ham_files = []\n",
    "    spam_files = []\n",
    "    for ham in pre_ham_files: \n",
    "        if len(ham)>20:\n",
    "            ham_files.append(ham)\n",
    "    for spam in pre_spam_files: \n",
    "        if len(spam)>20:\n",
    "            spam_files.append(spam)\n",
    "    \n",
    "    ****** Now need to parse files into email object *******\n",
    "\n",
    "        "
   ]
  },
  {
   "cell_type": "code",
   "execution_count": 14,
   "metadata": {},
   "outputs": [
    {
     "name": "stdout",
     "output_type": "stream",
     "text": [
      "500\n",
      "1400\n"
     ]
    }
   ],
   "source": []
  },
  {
   "cell_type": "code",
   "execution_count": null,
   "metadata": {},
   "outputs": [],
   "source": []
  }
 ],
 "metadata": {
  "kernelspec": {
   "display_name": "Python 3",
   "language": "python",
   "name": "python3"
  },
  "language_info": {
   "codemirror_mode": {
    "name": "ipython",
    "version": 3
   },
   "file_extension": ".py",
   "mimetype": "text/x-python",
   "name": "python",
   "nbconvert_exporter": "python",
   "pygments_lexer": "ipython3",
   "version": "3.8.3"
  }
 },
 "nbformat": 4,
 "nbformat_minor": 2
}
