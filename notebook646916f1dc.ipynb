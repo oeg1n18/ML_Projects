{
 "cells": [
  {
   "cell_type": "code",
   "execution_count": 3,
   "metadata": {
    "_uuid": "3c113394afe5202f231882097fb8570c0ffc5ed1"
   },
   "outputs": [],
   "source": [
    "# Convert email into feature vector\n",
    "# Create Test & Training Set\n",
    "# Add Hyperparameters to:\n",
    "# - Strip email headers\n",
    "# - Convert to lowercase\n",
    "# - Remove punctuation\n",
    "# - Replace urls with \"URL\"\n",
    "# - Replace numbers with \"NUMBER\"\n",
    "# - Perform Stemming (trim word endings with library)"
   ]
  },
  {
   "cell_type": "code",
   "execution_count": 1,
   "metadata": {
    "_uuid": "10a6b5fbf97d211dc85df517ddc969252dc35641"
   },
   "outputs": [
    {
     "data": {
      "text/plain": [
       "['20030228_hard_ham.tar.bz2',\n",
       " 'spam_2',\n",
       " '.DS_Store',\n",
       " '20021010_hard_ham.tar.bz2',\n",
       " '20030228_spam_2.tar.bz2',\n",
       " '20030228_easy_ham_2.tar.bz2',\n",
       " '20030228_spam.tar.bz2',\n",
       " '20030228_easy_ham.tar.bz2',\n",
       " '20021010_spam.tar.bz2',\n",
       " '20021010_easy_ham.tar.bz2',\n",
       " 'readme.txt',\n",
       " '20050311_spam_2.tar.bz2']"
      ]
     },
     "execution_count": 1,
     "metadata": {},
     "output_type": "execute_result"
    }
   ],
   "source": [
    "import pandas as pd\n",
    "import numpy as np\n",
    "import os\n",
    "import email\n",
    "import email.policy\n",
    "from bs4 import BeautifulSoup\n",
    "\n",
    "os.listdir('Datasets/spam_ham_emails')"
   ]
  },
  {
   "cell_type": "markdown",
   "metadata": {
    "_uuid": "fb610ab3ed92e2fbf24180f8b9f184bd68c3d37d"
   },
   "source": [
    "## Data Exploration"
   ]
  },
  {
   "cell_type": "code",
   "execution_count": 2,
   "metadata": {
    "_uuid": "834eeb7df8d3d1853ddfe762deed0289c275d4d3"
   },
   "outputs": [],
   "source": [
    "ham_filenames = [name for name in sorted(os.listdir('Datasets/spam_ham_emails/easy_ham')) if len(name) > 20]\n",
    "spam_filenames = [name for name in sorted(os.listdir('Datasets/spam_ham_emails/spam')) if len(name) > 20]"
   ]
  },
  {
   "cell_type": "code",
   "execution_count": 3,
   "metadata": {
    "_uuid": "6ab58266abce0cd7ce8f90458fe61216f3bda9d2"
   },
   "outputs": [
    {
     "name": "stdout",
     "output_type": "stream",
     "text": [
      "Amount of ham files: 2500\n",
      "Amount of spam files: 500\n",
      "Spam to Ham Ratio: 0.2\n"
     ]
    }
   ],
   "source": [
    "print('Amount of ham files:', len(ham_filenames))\n",
    "print('Amount of spam files:', len(spam_filenames))    \n",
    "print('Spam to Ham Ratio:',len(spam_filenames)/len(ham_filenames))"
   ]
  },
  {
   "cell_type": "code",
   "execution_count": 4,
   "metadata": {
    "_uuid": "2f8f0e15859ab2495b7e31904e61bc38d3e8f046"
   },
   "outputs": [],
   "source": [
    "def load_email(is_spam, filename):\n",
    "    directory = 'Datasets/spam_ham_emails/spam' if is_spam else 'Datasets/spam_ham_emails/easy_ham'\n",
    "    with open(os.path.join(directory, filename), \"rb\") as f:\n",
    "        return email.parser.BytesParser(policy=email.policy.default).parse(f)\n",
    "    \n",
    "ham_emails = [load_email(is_spam=False, filename=name) for name in ham_filenames]\n",
    "spam_emails = [load_email(is_spam=True, filename=name) for name in spam_filenames]\n",
    "    \n",
    "    \n",
    "testEmail = ham_emails[0]"
   ]
  },
  {
   "cell_type": "code",
   "execution_count": 5,
   "metadata": {
    "_uuid": "5f7d3ba2df081fdb34eb4ec18fe2a64a3bfb215e"
   },
   "outputs": [
    {
     "name": "stdout",
     "output_type": "stream",
     "text": [
      "Header Field Names: ['Return-Path', 'Delivered-To', 'Received', 'Received', 'Received', 'Received', 'Delivered-To', 'Received', 'Received', 'Received', 'Received', 'Received', 'Received', 'From', 'To', 'Cc', 'Subject', 'In-Reply-To', 'References', 'MIME-Version', 'Content-Type', 'Message-Id', 'X-Loop', 'Sender', 'Errors-To', 'X-Beenthere', 'X-Mailman-Version', 'Precedence', 'List-Help', 'List-Post', 'List-Subscribe', 'List-Id', 'List-Unsubscribe', 'List-Archive', 'Date']\n",
      "\n",
      "\n",
      "\n",
      "Message Field Values: ['<exmh-workers-admin@spamassassin.taint.org>', 'zzzz@localhost.netnoteinc.com', 'from localhost (localhost [127.0.0.1])\\tby phobos.labs.netnoteinc.com (Postfix) with ESMTP id D03E543C36\\tfor <zzzz@localhost>; Thu, 22 Aug 2002 07:36:16 -0400 (EDT)', 'from phobos [127.0.0.1]\\tby localhost with IMAP (fetchmail-5.9.0)\\tfor zzzz@localhost (single-drop); Thu, 22 Aug 2002 12:36:16 +0100 (IST)', 'from listman.spamassassin.taint.org (listman.spamassassin.taint.org [66.187.233.211]) by    dogma.slashnull.org (8.11.6/8.11.6) with ESMTP id g7MBYrZ04811 for    <zzzz-exmh@spamassassin.taint.org>; Thu, 22 Aug 2002 12:34:53 +0100', 'from listman.spamassassin.taint.org (localhost.localdomain [127.0.0.1]) by    listman.redhat.com (Postfix) with ESMTP id 8386540858; Thu, 22 Aug 2002    07:35:02 -0400 (EDT)', 'exmh-workers@listman.spamassassin.taint.org', 'from int-mx1.corp.spamassassin.taint.org (int-mx1.corp.spamassassin.taint.org    [172.16.52.254]) by listman.redhat.com (Postfix) with ESMTP id 10CF8406D7    for <exmh-workers@listman.redhat.com>; Thu, 22 Aug 2002 07:34:10 -0400    (EDT)', '(from mail@localhost) by int-mx1.corp.spamassassin.taint.org (8.11.6/8.11.6)    id g7MBY7g11259 for exmh-workers@listman.redhat.com; Thu, 22 Aug 2002    07:34:07 -0400', 'from mx1.spamassassin.taint.org (mx1.spamassassin.taint.org [172.16.48.31]) by    int-mx1.corp.redhat.com (8.11.6/8.11.6) with SMTP id g7MBY7Y11255 for    <exmh-workers@redhat.com>; Thu, 22 Aug 2002 07:34:07 -0400', 'from ratree.psu.ac.th ([202.28.97.6]) by mx1.spamassassin.taint.org    (8.11.6/8.11.6) with SMTP id g7MBIhl25223 for <exmh-workers@redhat.com>;    Thu, 22 Aug 2002 07:18:55 -0400', 'from delta.cs.mu.OZ.AU (delta.coe.psu.ac.th [172.30.0.98]) by    ratree.psu.ac.th (8.11.6/8.11.6) with ESMTP id g7MBWel29762;    Thu, 22 Aug 2002 18:32:40 +0700 (ICT)', 'from munnari.OZ.AU (localhost [127.0.0.1]) by delta.cs.mu.OZ.AU    (8.11.6/8.11.6) with ESMTP id g7MBQPW13260; Thu, 22 Aug 2002 18:26:25    +0700 (ICT)', 'Robert Elz <kre@munnari.OZ.AU>', 'Chris Garrigues <cwg-dated-1030377287.06fa6d@DeepEddy.Com>', 'exmh-workers@spamassassin.taint.org', 'Re: New Sequences Window', '<1029945287.4797.TMDA@deepeddy.vircio.com>', '<1029945287.4797.TMDA@deepeddy.vircio.com>    <1029882468.3116.TMDA@deepeddy.vircio.com> <9627.1029933001@munnari.OZ.AU>    <1029943066.26919.TMDA@deepeddy.vircio.com>    <1029944441.398.TMDA@deepeddy.vircio.com>', '1.0', 'text/plain; charset=\"us-ascii\"', '<13258.1030015585@munnari.OZ.AU>', 'exmh-workers@spamassassin.taint.org', 'exmh-workers-admin@spamassassin.taint.org', 'exmh-workers-admin@spamassassin.taint.org', 'exmh-workers@spamassassin.taint.org', '2.0.1', 'bulk', '<mailto:exmh-workers-request@spamassassin.taint.org?subject=help>', '<mailto:exmh-workers@spamassassin.taint.org>', '<https://listman.spamassassin.taint.org/mailman/listinfo/exmh-workers>,    <mailto:exmh-workers-request@redhat.com?subject=subscribe>', 'Discussion list for EXMH developers <exmh-workers.spamassassin.taint.org>', '<https://listman.spamassassin.taint.org/mailman/listinfo/exmh-workers>,    <mailto:exmh-workers-request@redhat.com?subject=unsubscribe>', '<https://listman.spamassassin.taint.org/mailman/private/exmh-workers/>', 'Thu, 22 Aug 2002 18:26:25 +0700']\n",
      "\n",
      "\n",
      "\n",
      "Message Content:     Date:        Wed, 21 Aug 2002 10:54:46 -0500\n",
      "    From:        Chris Garrigues <cwg-dated-1030377287.06fa6d@DeepEddy.Com>\n",
      "    Message-ID:  <1029945287.4797.TMDA@deepeddy.vircio.com>\n",
      "\n",
      "\n",
      "  | I can't reproduce this error.\n",
      "\n",
      "For me it is very repeatable... (like every time, without fail).\n",
      "\n",
      "This is the debug log of the pick happening ...\n",
      "\n",
      "18:19:03 Pick_It {exec pick +inbox -list -lbrace -lbrace -subject ftp -rbrace -rbrace} {4852-4852 -sequence mercury}\n",
      "18:19:03 exec pick +inbox -list -lbrace -lbrace -subject ftp -rbrace -rbrace 4852-4852 -sequence mercury\n",
      "18:19:04 Ftoc_PickMsgs {{1 hit}}\n",
      "18:19:04 Marking 1 hits\n",
      "18:19:04 tkerror: syntax error in expression \"int ...\n",
      "\n",
      "Note, if I run the pick command by hand ...\n",
      "\n",
      "delta$ pick +inbox -list -lbrace -lbrace -subject ftp -rbrace -rbrace  4852-4852 -sequence mercury\n",
      "1 hit\n",
      "\n",
      "That's where the \"1 hit\" comes from (obviously).  The version of nmh I'm\n",
      "using is ...\n",
      "\n",
      "delta$ pick -version\n",
      "pick -- nmh-1.0.4 [compiled on fuchsia.cs.mu.OZ.AU at Sun Mar 17 14:55:56 ICT 2002]\n",
      "\n",
      "And the relevant part of my .mh_profile ...\n",
      "\n",
      "delta$ mhparam pick\n",
      "-seq sel -list\n",
      "\n",
      "\n",
      "Since the pick command works, the sequence (actually, both of them, the\n",
      "one that's explicit on the command line, from the search popup, and the\n",
      "one that comes from .mh_profile) do get created.\n",
      "\n",
      "kre\n",
      "\n",
      "ps: this is still using the version of the code form a day ago, I haven't\n",
      "been able to reach the cvs repository today (local routing issue I think).\n",
      "\n",
      "\n",
      "\n",
      "_______________________________________________\n",
      "Exmh-workers mailing list\n",
      "Exmh-workers@redhat.com\n",
      "https://listman.redhat.com/mailman/listinfo/exmh-workers\n",
      "\n",
      "\n"
     ]
    }
   ],
   "source": [
    "print('Header Field Names:',testEmail.keys())\n",
    "print('\\n\\n')\n",
    "print('Message Field Values:',testEmail.values())\n",
    "print('\\n\\n')\n",
    "print('Message Content:',testEmail.get_content())"
   ]
  },
  {
   "cell_type": "code",
   "execution_count": 6,
   "metadata": {
    "_uuid": "0826b9646a9365039ab38a122447ed44a56c340d"
   },
   "outputs": [
    {
     "data": {
      "text/plain": [
       "str"
      ]
     },
     "execution_count": 6,
     "metadata": {},
     "output_type": "execute_result"
    }
   ],
   "source": [
    "testEmailContent = testEmail.get_content()\n",
    "type(testEmailContent)"
   ]
  },
  {
   "cell_type": "code",
   "execution_count": 7,
   "metadata": {
    "_uuid": "620e5be77583d9b9d265406600a664878f633f1d"
   },
   "outputs": [
    {
     "data": {
      "text/plain": [
       "'Re: New Sequences Window'"
      ]
     },
     "execution_count": 7,
     "metadata": {},
     "output_type": "execute_result"
    }
   ],
   "source": [
    "testEmail['Subject']"
   ]
  },
  {
   "cell_type": "code",
   "execution_count": 8,
   "metadata": {
    "_uuid": "9725b86918f37456e2000270118bf1fcc3fffdf6"
   },
   "outputs": [
    {
     "name": "stdout",
     "output_type": "stream",
     "text": [
      "Help wanted.  We are a 14 year old fortune 500 company, that is\n",
      "growing at a tremendous rate.  We are looking for individuals who\n",
      "want to work from home.\n",
      "\n",
      "This is an opportunity to make an excellent income.  No experience\n",
      "is required.  We will train you.\n",
      "\n",
      "So if you are looking to be employed from home with a career that has\n",
      "vast opportunities, then go:\n",
      "\n",
      "http://www.basetel.com/wealthnow\n",
      "\n",
      "We are looking for energetic and self motivated people.  If that is you\n",
      "than click on the link and fill out the form, and one of our\n",
      "employement specialist will contact you.\n",
      "\n",
      "To be removed from our link simple go to:\n",
      "\n",
      "http://www.basetel.com/remove.html\n",
      "\n",
      "\n",
      "4139vOLW7-758DoDY1425FRhM1-764SMFc8513fCsLl40\n",
      "\n",
      "\n"
     ]
    }
   ],
   "source": [
    "print(spam_emails[6].get_content())"
   ]
  },
  {
   "cell_type": "markdown",
   "metadata": {
    "_uuid": "5ff869354025bfc3a761395bb2f05e042dedefd2"
   },
   "source": [
    "## Turning Emails into plaintext\n"
   ]
  },
  {
   "cell_type": "code",
   "execution_count": 9,
   "metadata": {
    "_uuid": "f7d0316301c936307c0bc82a8c03db264a5994d4"
   },
   "outputs": [],
   "source": [
    "from collections import Counter\n",
    "\n",
    "def get_email_structure(email):\n",
    "    if isinstance(email, str):\n",
    "        return email\n",
    "    payload = email.get_payload()\n",
    "    if isinstance(payload, list):\n",
    "        return \"multipart({})\".format(\", \".join([\n",
    "            get_email_structure(sub_email)\n",
    "            for sub_email in payload\n",
    "        ]))\n",
    "    else:\n",
    "        return email.get_content_type()\n",
    "\n",
    "def structures_counter(emails):\n",
    "    structures = Counter()\n",
    "    for email in emails:\n",
    "        structure = get_email_structure(email)\n",
    "        structures[structure] += 1\n",
    "    return structures\n",
    "\n",
    "ham_structure = structures_counter(ham_emails)\n",
    "spam_structure = structures_counter(spam_emails)"
   ]
  },
  {
   "cell_type": "code",
   "execution_count": 10,
   "metadata": {
    "_uuid": "a748abd9786756cfbafb8fd03eb5528adeea19ee"
   },
   "outputs": [
    {
     "data": {
      "text/plain": [
       "[('text/plain', 2408),\n",
       " ('multipart(text/plain, application/pgp-signature)', 66),\n",
       " ('multipart(text/plain, text/html)', 8),\n",
       " ('multipart(text/plain, text/plain)', 4),\n",
       " ('multipart(text/plain)', 3),\n",
       " ('multipart(text/plain, application/octet-stream)', 2),\n",
       " ('multipart(text/plain, text/enriched)', 1),\n",
       " ('multipart(text/plain, application/ms-tnef, text/plain)', 1),\n",
       " ('multipart(multipart(text/plain, text/plain, text/plain), application/pgp-signature)',\n",
       "  1),\n",
       " ('multipart(text/plain, video/mng)', 1),\n",
       " ('multipart(text/plain, multipart(text/plain))', 1),\n",
       " ('multipart(text/plain, application/x-pkcs7-signature)', 1),\n",
       " ('multipart(text/plain, multipart(text/plain, text/plain), text/rfc822-headers)',\n",
       "  1),\n",
       " ('multipart(text/plain, multipart(text/plain, text/plain), multipart(multipart(text/plain, application/x-pkcs7-signature)))',\n",
       "  1),\n",
       " ('multipart(text/plain, application/x-java-applet)', 1)]"
      ]
     },
     "execution_count": 10,
     "metadata": {},
     "output_type": "execute_result"
    }
   ],
   "source": [
    "ham_structure.most_common()"
   ]
  },
  {
   "cell_type": "code",
   "execution_count": 11,
   "metadata": {
    "_uuid": "6ed57dddcd8e2051716ab631316dd1e2083ec7e5"
   },
   "outputs": [
    {
     "data": {
      "text/plain": [
       "[('text/plain', 218),\n",
       " ('text/html', 183),\n",
       " ('multipart(text/plain, text/html)', 45),\n",
       " ('multipart(text/html)', 20),\n",
       " ('multipart(text/plain)', 19),\n",
       " ('multipart(multipart(text/html))', 5),\n",
       " ('multipart(text/plain, image/jpeg)', 3),\n",
       " ('multipart(text/html, application/octet-stream)', 2),\n",
       " ('multipart(text/plain, application/octet-stream)', 1),\n",
       " ('multipart(text/html, text/plain)', 1),\n",
       " ('multipart(multipart(text/html), application/octet-stream, image/jpeg)', 1),\n",
       " ('multipart(multipart(text/plain, text/html), image/gif)', 1),\n",
       " ('multipart/alternative', 1)]"
      ]
     },
     "execution_count": 11,
     "metadata": {},
     "output_type": "execute_result"
    }
   ],
   "source": [
    "spam_structure.most_common()"
   ]
  },
  {
   "cell_type": "code",
   "execution_count": 12,
   "metadata": {
    "_uuid": "a6e9ee88905a3fa66d14892c9e2e9bec5844ece2"
   },
   "outputs": [
    {
     "name": "stdout",
     "output_type": "stream",
     "text": [
      "<!DOCTYPE HTML PUBLIC \"-//W3C//DTD HTML 4.0 Transitional//EN\">\n",
      "<HTML><HEAD>\n",
      "<META content=\"text/html; charset=windows-1252\" http-equiv=Content-Type>\n",
      "<META content=\"MSHTML 5.00.2314.1000\" name=GENERATOR></HEAD>\n",
      "<BODY><!-- Inserted by Calypso -->\n",
      "<TABLE border=0 cellPadding=0 cellSpacing=2 id=_CalyPrintHeader_ rules=none \n",
      "style=\"COLOR: black; DISPLAY: none\" width=\"100%\">\n",
      "  <TBODY>\n",
      "  <TR>\n",
      "    <TD colSpan=3>\n",
      "      <HR color=black noShade SIZE=1>\n",
      "    </TD></TR></TD></TR>\n",
      "  <TR>\n",
      "    <TD colSpan=3>\n",
      "      <HR color=black noShade SIZE=1>\n",
      "    </TD></TR></TBODY></TABLE><!-- End Calypso --><!-- Inserted by Calypso --><FONT \n",
      "color=#000000 face=VERDANA,ARIAL,HELVETICA size=-2><BR></FONT></TD></TR></TABLE><!-- End Calypso --><FONT color=#ff0000 \n",
      "face=\"Copperplate Gothic Bold\" size=5 PTSIZE=\"10\">\n",
      "<CENTER>Save up to 70% on Life Insurance.</CENTER></FONT><FONT color=#ff0000 \n",
      "face=\"Copperplate Gothic Bold\" size=5 PTSIZE=\"10\">\n",
      "<CENTER>Why Spend More Than You Have To?\n",
      "<CENTER><FONT color=#ff0000 face=\"Copperplate Gothic Bold\" size=5 PTSIZE=\"10\">\n",
      "<CENTER>Life Quote Savings\n",
      "<CENTER>\n",
      "<P align=left></P>\n",
      "<P align=left></P></FONT></U></I></B><BR></FONT></U></B></U></I>\n",
      "<P></P>\n",
      "<CENTER>\n",
      "<TABLE border=0 borderColor=#111111 cellPadding=0 cellSpacing=0 width=650>\n",
      "  <TBODY></TBODY></TABLE>\n",
      "<TABLE border=0 borderColor=#111111 cellPadding=5 cellSpacing=0 width=650>\n",
      "  <TBODY>\n",
      "  <TR>\n",
      "    <TD colSpan=2 width=\"35%\"><B><FONT face=Verdana size=4>Ensuring your \n",
      "      family's financial security is very important. Life Quote Savings makes \n",
      "      buying life insurance simple and affordable. We Provide FREE Access to The \n",
      "      Very Best Companies and The Lowest Rates.</FONT></B></TD></TR>\n",
      "  <TR>\n",
      "    <TD align=middle vAlign=top width=\"18%\">\n",
      "      <TABLE borderColor=#111111 width=\"100%\">\n",
      "        <TBODY>\n",
      "        <TR>\n",
      "          <TD style=\"PADDING-LEFT: 5px; PADDING-RIGHT: 5px\" width=\"100%\"><FONT \n",
      "            face=Verdana size=4><B>Life Quote Savings</B> is FAST, EASY and \n",
      "            SAVES you money! Let us help you get started with the best values in \n",
      "            the country on new coverage. You can SAVE hundreds or even thousands \n",
      "            of dollars by requesting a FREE quote from Lifequote Savings. Our \n",
      "            service will take you less than 5 minutes to complete. Shop and \n",
      "            compare. SAVE up to 70% on all types of Life insurance! \n",
      "</FONT></TD></TR>\n",
      "        <TR><BR><BR>\n",
      "          <TD height=50 style=\"PADDING-LEFT: 5px; PADDING-RIGHT: 5px\" \n",
      "          width=\"100%\">\n",
      "            <P align=center><B><FONT face=Verdana size=5><A \n",
      "            href=\"http://website.e365.cc/savequote/\">Click Here For Your \n",
      "            Free Quote!</A></FONT></B></P></TD>\n",
      "          <P><FONT face=Verdana size=4><STRONG>\n",
      "          <CENTER>Protecting your family is the best investment you'll ever \n",
      "          make!<BR></B></TD></TR>\n",
      "        <TR><BR><BR></STRONG></FONT></TD></TR></TD></TR>\n",
      "        <TR></TR></TBODY></TABLE>\n",
      "      <P align=left><FONT face=\"Arial, Helvetica, sans-serif\" size=2></FONT></P>\n",
      "      <P></P>\n",
      "      <CENTER><BR><BR><BR>\n",
      "      <P></P>\n",
      "      <P align=left><BR></B><BR><BR><BR><BR></P>\n",
      "      <P align=center><BR></P>\n",
      "      <P align=left><BR></B><BR><BR></FONT>If you are in receipt of this email \n",
      "      in error and/or wish to be removed from our list, <A \n",
      "      href=\"mailto:coins@btamail.net.cn\">PLEASE CLICK HERE</A> AND TYPE REMOVE. If you \n",
      "      reside in any state which prohibits e-mail solicitations for insurance, \n",
      "      please disregard this \n",
      "      email.<BR></FONT><BR><BR><BR><BR><BR><BR><BR><BR><BR><BR><BR><BR><BR><BR><BR><BR></FONT></P></CENTER></CENTER></TR></TBODY></TABLE></CENTER></CENTER></CENTER></CENTER></CENTER></BODY></HTML>\n",
      "\n",
      "\n",
      "\n",
      "\n"
     ]
    }
   ],
   "source": [
    "for email in spam_emails:\n",
    "    if get_email_structure(email) == 'text/html':\n",
    "        testEmail = email\n",
    "        break\n",
    "\n",
    "print(testEmail.get_content())"
   ]
  },
  {
   "cell_type": "code",
   "execution_count": 13,
   "metadata": {
    "_uuid": "3dc527c21200e17078aecf0c934581d1ed504d7b"
   },
   "outputs": [
    {
     "name": "stdout",
     "output_type": "stream",
     "text": [
      "\n",
      "Save up to 70% on Life Insurance.\n",
      "Why Spend More Than You Have To?Life Quote Savings\n",
      "Ensuring your \n",
      "      family's financial security is very important. Life Quote Savings makes \n",
      "      buying life insurance simple and affordable. We Provide FREE Access to The \n",
      "      Very Best Companies and The Lowest Rates.Life Quote Savings is FAST, EASY and \n",
      "            SAVES you money! Let us help you get started with the best values in \n",
      "            the country on new coverage. You can SAVE hundreds or even thousands \n",
      "            of dollars by requesting a FREE quote from Lifequote Savings. Our \n",
      "            service will take you less than 5 minutes to complete. Shop and \n",
      "            compare. SAVE up to 70% on all types of Life insurance! Click Here For Your \n",
      "            Free Quote!Protecting your family is the best investment you'll ever \n",
      "          make!\n",
      "If you are in receipt of this email \n",
      "      in error and/or wish to be removed from our list, PLEASE CLICK HERE AND TYPE REMOVE. If you \n",
      "      reside in any state which prohibits e-mail solicitations for insurance, \n",
      "      please disregard this \n",
      "      email.\n",
      "\n"
     ]
    }
   ],
   "source": [
    "def html_to_plain(email):\n",
    "    try:\n",
    "        soup = BeautifulSoup(email.get_content(), 'html.parser')\n",
    "        return soup.text.replace('\\n\\n','')\n",
    "    except:\n",
    "        return \"empty\"\n",
    "\n",
    "print(html_to_plain(testEmail))"
   ]
  },
  {
   "cell_type": "code",
   "execution_count": 14,
   "metadata": {
    "_uuid": "01754112c23525e775e4ec41b42f591947c7ee82"
   },
   "outputs": [
    {
     "name": "stdout",
     "output_type": "stream",
     "text": [
      "< >\n",
      "> I downloaded a driver from the nVidia website and installed it using RPM.\n",
      "> Then I ran Sax2 (as was recommended in some postings I found on the net),\n",
      "but\n",
      "> it still doesn't feature my video card in the available list. What next?\n",
      "\n",
      "\n",
      "hmmm.\n",
      "\n",
      "Peter.\n",
      "\n",
      "Open a terminal and as root type\n",
      "lsmod\n",
      "you want to find a module called\n",
      "NVdriver.\n",
      "\n",
      "If it isn't loaded then load it.\n",
      "#insmod NVdriver.o\n",
      "Oh and ensure you have this module loaded on boot.... else when you reboot\n",
      "you might be in for a nasty surprise.\n",
      "\n",
      "Once the kernel module is loaded\n",
      "\n",
      "#vim /etc/X11/XF86Config\n",
      "\n",
      "in the section marked\n",
      "Driver I have \"NeoMagic\"\n",
      "you need to have\n",
      "Driver \"nvidia\"\n",
      "\n",
      "Here is part of my XF86Config\n",
      "\n",
      "Also note that using the card you are using you 'should' be able to safely\n",
      "use the FbBpp 32 option .\n",
      "\n",
      "Section \"Module\"\n",
      " Load  \"extmod\"\n",
      " Load  \"xie\"\n",
      " Load  \"pex5\"\n",
      " Load  \"glx\"\n",
      " SubSection \"dri\"    #You don't need to load this Peter.\n",
      "  Option     \"Mode\" \"666\"\n",
      " EndSubSection\n",
      " Load  \"dbe\"\n",
      " Load  \"record\"\n",
      " Load  \"xtrap\"\n",
      " Load  \"speedo\"\n",
      " Load  \"type1\"\n",
      "EndSection\n",
      "\n",
      "#Plus the Modelines for your monitor should be singfinicantly different.\n",
      "\n",
      "Section \"Monitor\"\n",
      " Identifier   \"Monitor0\"\n",
      " VendorName   \"Monitor Vendor\"\n",
      " ModelName    \"Monitor Model\"\n",
      " HorizSync    28.00-35.00\n",
      " VertRefresh  43.00-72.00\n",
      "        Modeline \"800x600\" 36 800 824 896 1024 600 601 603 625\n",
      " Modeline \"1024x768\" 49 1024 1032 1176 1344 768 771 777 806\n",
      "EndSection\n",
      "\n",
      "Section \"Device\"\n",
      "\n",
      " Identifier  \"Card0\"\n",
      " Driver      \"neomagic\" #Change this to \"nvidia\"... making sure the modules\n",
      "are in the correct path\n",
      " VendorName  \"Neomagic\" # \"Nvidia\"\n",
      " BoardName   \"NM2160\"\n",
      " BusID       \"PCI:0:18:0\"\n",
      "EndSection\n",
      "\n",
      "Section \"Screen\"\n",
      " Identifier \"Screen0\"\n",
      " Device     \"Card0\"\n",
      " Monitor    \"Monitor0\"\n",
      " DefaultDepth 24\n",
      " SubSection \"Display\"\n",
      "  Depth     1\n",
      " EndSubSection\n",
      " SubSection \"Display\"\n",
      "  Depth     4\n",
      " EndSubSection\n",
      " SubSection \"Display\"\n",
      "  Depth     8\n",
      " EndSubSection\n",
      " SubSection \"Display\"\n",
      "  Depth     15\n",
      " EndSubSection\n",
      " SubSection \"Display\"\n",
      "  Depth     16\n",
      " EndSubSection\n",
      " SubSection \"Display\"\n",
      "  Depth     24\n",
      "  #FbBpp   32 #Ie you should be able lto uncomment this line\n",
      "  Modes   \"1024x768\" \"800x600\" \"640x480\" # And add in higher resulutions as\n",
      "desired.\n",
      " EndSubSection\n",
      "EndSection\n",
      "\n",
      "\n",
      "-- \n",
      "Irish Linux Users' Group: ilug@linux.ie\n",
      "http://www.linux.ie/mailman/listinfo/ilug for (un)subscription information.\n",
      "List maintainer: listmaster@linux.ie\n",
      "\n",
      "\n",
      "Help wanted.  We are a 14 year old fortune 500 company, that is\n",
      "growing at a tremendous rate.  We are looking for individuals who\n",
      "want to work from home.\n",
      "\n",
      "This is an opportunity to make an excellent income.  No experience\n",
      "is required.  We will train you.\n",
      "\n",
      "So if you are looking to be employed from home with a career that has\n",
      "vast opportunities, then go:\n",
      "\n",
      "http://www.basetel.com/wealthnow\n",
      "\n",
      "We are looking for energetic and self motivated people.  If that is you\n",
      "than click on the link and fill out the form, and one of our\n",
      "employement specialist will contact you.\n",
      "\n",
      "To be removed from our link simple go to:\n",
      "\n",
      "http://www.basetel.com/remove.html\n",
      "\n",
      "\n",
      "7749doNL1-136DfsE5701lGxl2-486pAKM7127JwoR4-054PCfq9499xMtW0-594hucS91l66\n",
      "\n",
      "\n"
     ]
    }
   ],
   "source": [
    "def email_to_plain(email):\n",
    "    struct = get_email_structure(email)\n",
    "    for part in email.walk():\n",
    "        partContentType = part.get_content_type()\n",
    "        if partContentType not in ['text/plain','text/html']:\n",
    "            continue\n",
    "        try:\n",
    "            partContent = part.get_content()\n",
    "        except: # in case of encoding issues\n",
    "            partContent = str(part.get_payload())\n",
    "        if partContentType == 'text/plain':\n",
    "            return partContent\n",
    "        else:\n",
    "            return html_to_plain(part)\n",
    "\n",
    "print(email_to_plain(ham_emails[42]))\n",
    "print(email_to_plain(spam_emails[42]))"
   ]
  },
  {
   "cell_type": "code",
   "execution_count": 15,
   "metadata": {
    "_uuid": "c1b121498607570ea196a5ae9223ffeea18e06cf"
   },
   "outputs": [
    {
     "name": "stdout",
     "output_type": "stream",
     "text": [
      "Working => work\n",
      "Work => work\n",
      "Works => work\n",
      "Worked => work\n"
     ]
    }
   ],
   "source": [
    "import nltk\n",
    "\n",
    "stemmer = nltk.PorterStemmer()\n",
    "for word in (\"Working\", \"Work\", \"Works\", \"Worked\"):\n",
    "        print(word, \"=>\", stemmer.stem(word))"
   ]
  },
  {
   "cell_type": "code",
   "execution_count": 16,
   "metadata": {
    "_uuid": "342aefbcb71b3fd45e987984de7e312be26646f7"
   },
   "outputs": [],
   "source": [
    "#import url_extractor\n",
    "#url_extractor = urlextract.URLExtract()\n",
    "#print(url_extractor.find_urls(\"Will it detect github.com and https://youtu.be/7Pqs\"))\n"
   ]
  },
  {
   "cell_type": "code",
   "execution_count": 17,
   "metadata": {
    "_uuid": "eac3df504e5a4f67af8342a5a6899d71d560b4a1"
   },
   "outputs": [],
   "source": [
    "from sklearn.base import BaseEstimator, TransformerMixin\n",
    "# - Strip email headers\n",
    "# - Convert to lowercase\n",
    "# - Remove punctuation\n",
    "# - Replace urls with \"URL\"\n",
    "# - Replace numbers with \"NUMBER\"\n",
    "# - Perform Stemming (trim word endings with library)\n",
    "class EmailToWords(BaseEstimator, TransformerMixin):\n",
    "    def __init__(self, stripHeaders=True, lowercaseConversion = True, punctuationRemoval = True, \n",
    "                 urlReplacement = True, numberReplacement = True, stemming = True):\n",
    "        self.stripHeaders = stripHeaders\n",
    "        self.lowercaseConversion = lowercaseConversion\n",
    "        self.punctuationRemoval = punctuationRemoval\n",
    "        self.urlReplacement = urlReplacement\n",
    "        #self.url_extractor = urlextract.URLExtract()\n",
    "        self.numberReplacement = numberReplacement\n",
    "        self.stemming = stemming\n",
    "        self.stemmer = nltk.PorterStemmer()\n",
    "    def fit(self, X, y=None):\n",
    "        return self\n",
    "    def transform(self, X, y=None):\n",
    "        X_to_words = []\n",
    "        for email in X:\n",
    "            text = email_to_plain(email)\n",
    "            if text is None:\n",
    "                text = 'empty'\n",
    "            if self.lowercaseConversion:\n",
    "                text = text.lower()\n",
    "                \n",
    "            #if self.urlReplacement:\n",
    "                #urls = self.url_extractor.find_urls(text)\n",
    "                #for url in urls:\n",
    "                #    text = text.replace(url, 'URL')   \n",
    "                    \n",
    "            if self.punctuationRemoval:\n",
    "                text = text.replace('.','')\n",
    "                text = text.replace(',','')\n",
    "                text = text.replace('!','')\n",
    "                text = text.replace('?','')\n",
    "                \n",
    "            word_counts = Counter(text.split())\n",
    "            if self.stemming:\n",
    "                stemmed_word_count = Counter()\n",
    "                for word, count in word_counts.items():\n",
    "                    stemmed_word = self.stemmer.stem(word)\n",
    "                    stemmed_word_count[stemmed_word] += count\n",
    "                word_counts = stemmed_word_count\n",
    "            X_to_words.append(word_counts)\n",
    "        return np.array(X_to_words)"
   ]
  },
  {
   "cell_type": "code",
   "execution_count": 18,
   "metadata": {
    "_uuid": "3af67dc03e4573264b4bff9fee8ce86576a38e17"
   },
   "outputs": [
    {
     "data": {
      "text/plain": [
       "array([Counter({'the': 15, 'pick': 9, '-lbrace': 6, 'of': 5, '-rbrace': 5, 'i': 4, 'is': 4, '-list': 4, 'thi': 3, '+inbox': 3, '-subject': 3, 'ftp': 3, '-sequenc': 3, '18:19:04': 3, 'command': 3, 'delta$': 3, 'from': 3, 'error': 2, '18:19:03': 2, '4852-4852': 2, 'mercuri': 2, '1': 2, 'hit': 2, \"that'\": 2, 'come': 2, 'version': 2, 'use': 2, 'on': 2, 'and': 2, 'one': 2, 'date:': 1, 'wed': 1, '21': 1, 'aug': 1, '2002': 1, '10:54:46': 1, '-0500': 1, 'from:': 1, 'chri': 1, 'garrigu': 1, '<cwg-dated-103037728706fa6d@deepeddycom>': 1, 'message-id:': 1, '<10299452874797tmda@deepeddyvirciocom>': 1, '|': 1, \"can't\": 1, 'reproduc': 1, 'for': 1, 'me': 1, 'it': 1, 'veri': 1, 'repeat': 1, '(like': 1, 'everi': 1, 'time': 1, 'without': 1, 'fail)': 1, 'debug': 1, 'log': 1, 'happen': 1, 'pick_it': 1, '{exec': 1, '-rbrace}': 1, '{4852-4852': 1, 'mercury}': 1, 'exec': 1, 'ftoc_pickmsg': 1, '{{1': 1, 'hit}}': 1, 'mark': 1, 'tkerror:': 1, 'syntax': 1, 'in': 1, 'express': 1, '\"int': 1, 'note': 1, 'if': 1, 'run': 1, 'by': 1, 'hand': 1, 'where': 1, '\"1': 1, 'hit\"': 1, '(obviously)': 1, 'nmh': 1, \"i'm\": 1, '-version': 1, '--': 1, 'nmh-104': 1, '[compil': 1, 'fuchsiacsmuozau': 1, 'at': 1, 'sun': 1, 'mar': 1, '17': 1, '14:55:56': 1, 'ict': 1, '2002]': 1, 'relev': 1, 'part': 1, 'my': 1, 'mh_profil': 1, 'mhparam': 1, '-seq': 1, 'sel': 1, 'sinc': 1, 'work': 1, 'sequenc': 1, '(actual': 1, 'both': 1, 'them': 1, 'explicit': 1, 'line': 1, 'search': 1, 'popup': 1, 'that': 1, 'mh_profile)': 1, 'do': 1, 'get': 1, 'creat': 1, 'kre': 1, 'ps:': 1, 'still': 1, 'code': 1, 'form': 1, 'a': 1, 'day': 1, 'ago': 1, \"haven't\": 1, 'been': 1, 'abl': 1, 'to': 1, 'reach': 1, 'cv': 1, 'repositori': 1, 'today': 1, '(local': 1, 'rout': 1, 'issu': 1, 'think)': 1, '_______________________________________________': 1, 'exmh-work': 1, 'mail': 1, 'list': 1, 'exmh-workers@redhatcom': 1, 'https://listmanredhatcom/mailman/listinfo/exmh-work': 1}),\n",
       "       Counter({'the': 5, 'a': 3, 'limeston': 3, 'of': 3, 'and': 3, 'group': 3, 'plan': 2, 'mount': 2, 'from': 2, 'for': 2, 'as': 2, 'granit': 2, 'ft': 2, 'is': 2, 'thi': 2, 'yahoo': 2, 'to': 2, 'martin': 1, 'posted:': 1, 'tasso': 1, 'papadopoulo': 1, 'greek': 1, 'sculptor': 1, 'behind': 1, 'judg': 1, 'that': 1, 'kerdylio': 1, '70': 1, 'mile': 1, 'east': 1, 'salonika': 1, 'not': 1, 'far': 1, 'atho': 1, 'monast': 1, 'commun': 1, 'wa': 1, 'ideal': 1, 'patriot': 1, 'sculptur': 1, 'well': 1, \"alexander'\": 1, 'featur': 1, '240': 1, 'high': 1, '170': 1, 'wide': 1, 'museum': 1, 'restor': 1, 'amphitheatr': 1, 'car': 1, 'park': 1, 'admir': 1, 'crowd': 1, 'are': 1, '---------------------': 1, 'so': 1, 'mountain': 1, 'or': 1, 'if': 1, \"it'\": 1, \"it'll\": 1, 'weather': 1, 'pretti': 1, 'fast': 1, '------------------------': 1, 'sponsor': 1, '---------------------~-->': 1, '4': 1, 'dvd': 1, 'free': 1, '+s&p': 1, 'join': 1, 'now': 1, 'http://usclickyahoocom/pt6ybb/nxieaa/mg3haa/7gsolb/tm': 1, '---------------------------------------------------------------------~->': 1, 'unsubscrib': 1, 'send': 1, 'an': 1, 'email': 1, 'to:': 1, 'forteana-unsubscribe@egroupscom': 1, 'your': 1, 'use': 1, 'subject': 1, 'http://docsyahoocom/info/terms/': 1}),\n",
       "       Counter({'the': 16, 'and': 10, 'to': 10, 'man': 7, 'secur': 6, 'said': 5, 'of': 5, 'moscow': 4, 'an': 4, 'with': 4, 'servic': 4, 'a': 4, 'explos': 3, 'in': 3, 'wa': 3, 'report': 3, 'polic': 3, 'build': 3, 'group': 3, 'threaten': 2, 'thursday': 2, 'offic': 2, 'seiz': 2, 'who': 2, 'he': 2, 'truck': 2, 'ntv': 2, 'talk': 2, 'interfax': 2, 'itar-tass': 2, 'news': 2, 'agenc': 2, 'one': 2, 'half': 2, 'negoti': 2, 'drove': 2, 'from': 2, 'him': 2, 'yahoo': 2, 'august': 1, '22': 1, '2002': 1, '1:40': 1, 'pm': 1, '(ap)': 1, '-': 1, 'on': 1, 'unidentifi': 1, 'arm': 1, 'blow': 1, 'up': 1, 'hi': 1, 'front': 1, \"russia'\": 1, 'feder': 1, 'headquart': 1, 'televis': 1, 'automat': 1, 'rifl': 1, 'carri': 1, 'then': 1, 'got': 1, 'out': 1, 'taken': 1, 'into': 1, 'custodi': 1, 'no': 1, 'other': 1, 'detail': 1, 'were': 1, 'immedi': 1, 'avail': 1, 'had': 1, 'demand': 1, 'high': 1, 'govern': 1, 'offici': 1, 'ekho': 1, 'moskvi': 1, 'radio': 1, 'that': 1, 'want': 1, 'russian': 1, 'presid': 1, 'vladimir': 1, 'putin': 1, 'forc': 1, 'rush': 1, 'within': 1, 'block': 1, 'kremlin': 1, 'red': 1, 'squar': 1, 'bolshoi': 1, 'ballet': 1, 'surround': 1, 'claim': 1, 'have': 1, 'ton': 1, 'continu': 1, 'for': 1, 'about': 1, 'hour': 1, 'outsid': 1, 'cite': 1, 'wit': 1, 'later': 1, 'away': 1, 'under': 1, 'escort': 1, 'street': 1, 'near': 1, \"moscow'\": 1, 'olymp': 1, 'penta': 1, 'hotel': 1, 'where': 1, 'author': 1, 'held': 1, 'further': 1, 'press': 1, 'move': 1, 'appear': 1, 'be': 1, 'attempt': 1, 'by': 1, 'get': 1, 'more': 1, 'locat': 1, '------------------------': 1, 'sponsor': 1, '---------------------~-->': 1, '4': 1, 'dvd': 1, 'free': 1, '+s&p': 1, 'join': 1, 'now': 1, 'http://usclickyahoocom/pt6ybb/nxieaa/mg3haa/7gsolb/tm': 1, '---------------------------------------------------------------------~->': 1, 'unsubscrib': 1, 'thi': 1, 'send': 1, 'email': 1, 'to:': 1, 'forteana-unsubscribe@egroupscom': 1, 'your': 1, 'use': 1, 'is': 1, 'subject': 1, 'http://docsyahoocom/info/terms/': 1})],\n",
       "      dtype=object)"
      ]
     },
     "execution_count": 18,
     "metadata": {},
     "output_type": "execute_result"
    }
   ],
   "source": [
    "X_few = ham_emails[:3]\n",
    "Xwordcounts = EmailToWords().fit_transform(X_few)\n",
    "Xwordcounts"
   ]
  },
  {
   "cell_type": "code",
   "execution_count": 19,
   "metadata": {
    "_uuid": "05aa0f5c49646b3c807eb7510ec7a373264aebfe"
   },
   "outputs": [],
   "source": [
    "from scipy.sparse import csr_matrix\n",
    "\n",
    "class WordCountToVector(BaseEstimator, TransformerMixin):\n",
    "    def __init__(self, vocabulary_size=1000):\n",
    "        self.vocabulary_size = vocabulary_size\n",
    "    def fit(self, X, y=None):\n",
    "        total_word_count = Counter()\n",
    "        for word_count in X:\n",
    "            for word, count in word_count.items():\n",
    "                total_word_count[word] += min(count, 10)\n",
    "        self.most_common = total_word_count.most_common()[:self.vocabulary_size]\n",
    "        self.vocabulary_ = {word: index + 1 for index, (word, count) in enumerate(self.most_common)}\n",
    "        return self\n",
    "    def transform(self, X, y=None):\n",
    "        rows = []\n",
    "        cols = []\n",
    "        data = []\n",
    "        for row, word_count in enumerate(X):\n",
    "            for word, count in word_count.items():\n",
    "                rows.append(row)\n",
    "                cols.append(self.vocabulary_.get(word, 0))\n",
    "                data.append(count)\n",
    "        return csr_matrix((data, (rows, cols)), shape=(len(X), self.vocabulary_size + 1))"
   ]
  },
  {
   "cell_type": "code",
   "execution_count": 20,
   "metadata": {
    "_uuid": "e0792afdbb7b3a82d986a2af29ce6201e171b152"
   },
   "outputs": [
    {
     "data": {
      "text/plain": [
       "array([[177,  15,   2,   5,   1,   9,   1,   4,   3,   0,   3],\n",
       "       [ 89,   5,   3,   3,   2,   0,   3,   2,   2,   0,   2],\n",
       "       [196,  16,  10,   5,  10,   0,   4,   1,   2,   7,   1]])"
      ]
     },
     "execution_count": 20,
     "metadata": {},
     "output_type": "execute_result"
    }
   ],
   "source": [
    "vocab_transformer = WordCountToVector(vocabulary_size=10)\n",
    "X_few_vectors = vocab_transformer.fit_transform(Xwordcounts)\n",
    "X_few_vectors.toarray()"
   ]
  },
  {
   "cell_type": "code",
   "execution_count": 21,
   "metadata": {
    "_uuid": "7317205a32bedbc7283826eb376857784eb4570d"
   },
   "outputs": [
    {
     "data": {
      "text/plain": [
       "{'the': 1,\n",
       " 'and': 2,\n",
       " 'of': 3,\n",
       " 'to': 4,\n",
       " 'pick': 5,\n",
       " 'a': 6,\n",
       " 'is': 7,\n",
       " 'from': 8,\n",
       " 'man': 9,\n",
       " 'thi': 10}"
      ]
     },
     "execution_count": 21,
     "metadata": {},
     "output_type": "execute_result"
    }
   ],
   "source": [
    "vocab_transformer.vocabulary_"
   ]
  },
  {
   "cell_type": "markdown",
   "metadata": {
    "_uuid": "3d8d99f62ece95ccbb202f01599adcb7c88113c4"
   },
   "source": [
    "## Creating a Pipeline"
   ]
  },
  {
   "cell_type": "code",
   "execution_count": 22,
   "metadata": {
    "_uuid": "c7f8f68d2e235f4e3cd0766e74b750ad7a25643a"
   },
   "outputs": [],
   "source": [
    "from sklearn.pipeline import Pipeline\n",
    "\n",
    "email_pipeline = Pipeline([\n",
    "    (\"Email to Words\", EmailToWords()),\n",
    "    (\"Wordcount to Vector\", WordCountToVector()),\n",
    "])"
   ]
  },
  {
   "cell_type": "markdown",
   "metadata": {
    "_uuid": "b4610dc1a30c12f9a8cb14e3899478ba6b7509a5"
   },
   "source": [
    "## Training a Model"
   ]
  },
  {
   "cell_type": "code",
   "execution_count": 23,
   "metadata": {
    "_uuid": "9907721a6f58eafd80b948f06e8599dc919dabb4"
   },
   "outputs": [
    {
     "name": "stderr",
     "output_type": "stream",
     "text": [
      "<ipython-input-23-a99f8ee0a3b5>:3: VisibleDeprecationWarning: Creating an ndarray from ragged nested sequences (which is a list-or-tuple of lists-or-tuples-or ndarrays with different lengths or shapes) is deprecated. If you meant to do this, you must specify 'dtype=object' when creating the ndarray\n",
      "  X = np.array(ham_emails + spam_emails)\n"
     ]
    }
   ],
   "source": [
    "from sklearn.model_selection import cross_val_score, train_test_split\n",
    "\n",
    "X = np.array(ham_emails + spam_emails)\n",
    "y = np.array([0] * len(ham_emails) + [1] * len(spam_emails))\n",
    "\n",
    "X_train, X_test, y_train, y_test = train_test_split(X, y, test_size=0.2, random_state=42)"
   ]
  },
  {
   "cell_type": "code",
   "execution_count": 24,
   "metadata": {
    "_uuid": "d9b7d1dce50cd38147eff76cfcb47c77c5fe64f1"
   },
   "outputs": [],
   "source": [
    "X_augmented_train = email_pipeline.fit_transform(X_train)"
   ]
  },
  {
   "cell_type": "code",
   "execution_count": 25,
   "metadata": {
    "_uuid": "46ebbe3023e450039a21f623da078dcfb23f03cf"
   },
   "outputs": [
    {
     "data": {
      "text/plain": [
       "0.9845833333333335"
      ]
     },
     "execution_count": 25,
     "metadata": {},
     "output_type": "execute_result"
    }
   ],
   "source": [
    "from sklearn.linear_model import LogisticRegression\n",
    "\n",
    "log_clf = LogisticRegression(solver=\"liblinear\", random_state=42)\n",
    "score = cross_val_score(log_clf, X_augmented_train, y_train, cv=3)\n",
    "score.mean()\n"
   ]
  },
  {
   "cell_type": "code",
   "execution_count": 26,
   "metadata": {
    "_uuid": "31ecf27b66649ad32b9dfcb83f76f165597eb3df"
   },
   "outputs": [
    {
     "name": "stdout",
     "output_type": "stream",
     "text": [
      "Precision: 92.00%\n",
      "Recall: 96.84%\n"
     ]
    },
    {
     "name": "stderr",
     "output_type": "stream",
     "text": [
      "/Library/Frameworks/Python.framework/Versions/3.8/lib/python3.8/site-packages/sklearn/svm/_base.py:976: ConvergenceWarning: Liblinear failed to converge, increase the number of iterations.\n",
      "  warnings.warn(\"Liblinear failed to converge, increase \"\n"
     ]
    }
   ],
   "source": [
    "from sklearn.metrics import precision_score, recall_score\n",
    "\n",
    "X_augmented_test = email_pipeline.transform(X_test)\n",
    "\n",
    "log_clf = LogisticRegression(solver=\"liblinear\", random_state=42)\n",
    "log_clf.fit(X_augmented_train, y_train)\n",
    "\n",
    "y_pred = log_clf.predict(X_augmented_test)\n",
    "\n",
    "print(\"Precision: {:.2f}%\".format(100 * precision_score(y_test, y_pred)))\n",
    "print(\"Recall: {:.2f}%\".format(100 * recall_score(y_test, y_pred)))"
   ]
  },
  {
   "cell_type": "code",
   "execution_count": null,
   "metadata": {},
   "outputs": [],
   "source": []
  }
 ],
 "metadata": {
  "kernelspec": {
   "display_name": "Python 3",
   "language": "python",
   "name": "python3"
  },
  "language_info": {
   "codemirror_mode": {
    "name": "ipython",
    "version": 3
   },
   "file_extension": ".py",
   "mimetype": "text/x-python",
   "name": "python",
   "nbconvert_exporter": "python",
   "pygments_lexer": "ipython3",
   "version": "3.8.3"
  }
 },
 "nbformat": 4,
 "nbformat_minor": 1
}
